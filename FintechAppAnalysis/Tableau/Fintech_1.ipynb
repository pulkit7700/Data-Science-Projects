{
 "cells": [
  {
   "cell_type": "code",
   "execution_count": 96,
   "metadata": {},
   "outputs": [],
   "source": [
    "import numpy as np\n",
    "import matplotlib.pyplot as plt \n",
    "import pandas as pd\n",
    "import seaborn as sns\n",
    "import plotly.express as px"
   ]
  },
  {
   "cell_type": "code",
   "execution_count": 97,
   "metadata": {},
   "outputs": [],
   "source": [
    "import nltk\n",
    "from nltk.corpus import stopwords\n",
    "from textblob import Word\n",
    "from sklearn.preprocessing import LabelEncoder\n",
    "from collections import Counter\n",
    "from keras.preprocessing.text import Tokenizer\n",
    "import re"
   ]
  },
  {
   "cell_type": "code",
   "execution_count": 98,
   "metadata": {},
   "outputs": [],
   "source": [
    "d1 = pd.read_csv(\"GooglePayIndia.csv\")\n",
    "d2 = pd.read_csv(\"PaytmIndia.csv\")\n",
    "d3 = pd.read_csv(\"PhonePayIndia.csv\")"
   ]
  },
  {
   "cell_type": "code",
   "execution_count": 99,
   "metadata": {},
   "outputs": [],
   "source": [
    "d1['app']='GooglePayIndia'\n",
    "d2['app']='PaytmIndia'\n",
    "d3['app']='PhonePayIndia'"
   ]
  },
  {
   "cell_type": "code",
   "execution_count": 100,
   "metadata": {},
   "outputs": [],
   "source": [
    "df = pd.concat([d1, d2, d3])\n"
   ]
  },
  {
   "cell_type": "code",
   "execution_count": 101,
   "metadata": {},
   "outputs": [
    {
     "data": {
      "text/html": [
       "<div>\n",
       "<style scoped>\n",
       "    .dataframe tbody tr th:only-of-type {\n",
       "        vertical-align: middle;\n",
       "    }\n",
       "\n",
       "    .dataframe tbody tr th {\n",
       "        vertical-align: top;\n",
       "    }\n",
       "\n",
       "    .dataframe thead th {\n",
       "        text-align: right;\n",
       "    }\n",
       "</style>\n",
       "<table border=\"1\" class=\"dataframe\">\n",
       "  <thead>\n",
       "    <tr style=\"text-align: right;\">\n",
       "      <th></th>\n",
       "      <th>Unnamed: 0</th>\n",
       "      <th>reviewId</th>\n",
       "      <th>userName</th>\n",
       "      <th>userImage</th>\n",
       "      <th>content</th>\n",
       "      <th>score</th>\n",
       "      <th>thumbsUpCount</th>\n",
       "      <th>reviewCreatedVersion</th>\n",
       "      <th>at</th>\n",
       "      <th>replyContent</th>\n",
       "      <th>repliedAt</th>\n",
       "      <th>app</th>\n",
       "    </tr>\n",
       "  </thead>\n",
       "  <tbody>\n",
       "    <tr>\n",
       "      <th>0</th>\n",
       "      <td>0</td>\n",
       "      <td>gp:AOqpTOEdT_VactGi_J9Q2PEWY7J4XlD7BINhOj9xwOr...</td>\n",
       "      <td>Len Pagnam</td>\n",
       "      <td>https://play-lh.googleusercontent.com/a-/AOh14...</td>\n",
       "      <td>How do add a boarding pass? I see no passes tab.</td>\n",
       "      <td>1</td>\n",
       "      <td>0</td>\n",
       "      <td>2.137.401329300</td>\n",
       "      <td>2021-11-18 17:03:06</td>\n",
       "      <td>Hi Len. Could you try the steps in this guide ...</td>\n",
       "      <td>2021-11-18 17:27:11</td>\n",
       "      <td>GooglePayIndia</td>\n",
       "    </tr>\n",
       "    <tr>\n",
       "      <th>1</th>\n",
       "      <td>1</td>\n",
       "      <td>gp:AOqpTOHltpCzXurPoFUgj-a3L-wApC93-fTvocbF9K7...</td>\n",
       "      <td>Benjamin Silva</td>\n",
       "      <td>https://play-lh.googleusercontent.com/a/AATXAJ...</td>\n",
       "      <td>Best</td>\n",
       "      <td>5</td>\n",
       "      <td>0</td>\n",
       "      <td>2.134.392709498</td>\n",
       "      <td>2021-11-18 16:43:34</td>\n",
       "      <td>NaN</td>\n",
       "      <td>NaN</td>\n",
       "      <td>GooglePayIndia</td>\n",
       "    </tr>\n",
       "    <tr>\n",
       "      <th>2</th>\n",
       "      <td>2</td>\n",
       "      <td>gp:AOqpTOGTiyxy_FWSQe7eCONa7PsIP6v7cS-xWCL6jFF...</td>\n",
       "      <td>PARVESH MIAR</td>\n",
       "      <td>https://play-lh.googleusercontent.com/a-/AOh14...</td>\n",
       "      <td>All ok</td>\n",
       "      <td>5</td>\n",
       "      <td>0</td>\n",
       "      <td>2.138.406141160</td>\n",
       "      <td>2021-11-18 16:12:42</td>\n",
       "      <td>NaN</td>\n",
       "      <td>NaN</td>\n",
       "      <td>GooglePayIndia</td>\n",
       "    </tr>\n",
       "    <tr>\n",
       "      <th>3</th>\n",
       "      <td>3</td>\n",
       "      <td>gp:AOqpTOHllyGnmLGZqPUGokxYncq9kOKoY3Zz_4ZF6b0...</td>\n",
       "      <td>Mikko L.</td>\n",
       "      <td>https://play-lh.googleusercontent.com/a-/AOh14...</td>\n",
       "      <td>Rasy to use really... But there never, ever sh...</td>\n",
       "      <td>3</td>\n",
       "      <td>0</td>\n",
       "      <td>2.138.406141160</td>\n",
       "      <td>2021-11-18 16:06:35</td>\n",
       "      <td>NaN</td>\n",
       "      <td>NaN</td>\n",
       "      <td>GooglePayIndia</td>\n",
       "    </tr>\n",
       "    <tr>\n",
       "      <th>4</th>\n",
       "      <td>4</td>\n",
       "      <td>gp:AOqpTOHjnJ6gAF4NzruhLDGVszAaTKSerVeKt-UtJfM...</td>\n",
       "      <td>A Google user</td>\n",
       "      <td>https://play-lh.googleusercontent.com/EGemoI2N...</td>\n",
       "      <td>I still do not understand why your restricting...</td>\n",
       "      <td>3</td>\n",
       "      <td>251</td>\n",
       "      <td>2.134.392709498</td>\n",
       "      <td>2021-11-18 15:48:08</td>\n",
       "      <td>NaN</td>\n",
       "      <td>NaN</td>\n",
       "      <td>GooglePayIndia</td>\n",
       "    </tr>\n",
       "    <tr>\n",
       "      <th>...</th>\n",
       "      <td>...</td>\n",
       "      <td>...</td>\n",
       "      <td>...</td>\n",
       "      <td>...</td>\n",
       "      <td>...</td>\n",
       "      <td>...</td>\n",
       "      <td>...</td>\n",
       "      <td>...</td>\n",
       "      <td>...</td>\n",
       "      <td>...</td>\n",
       "      <td>...</td>\n",
       "      <td>...</td>\n",
       "    </tr>\n",
       "    <tr>\n",
       "      <th>11736</th>\n",
       "      <td>11736</td>\n",
       "      <td>gp:AOqpTOEI3U9pLM_RUp8LcwRgbDyaImBZQlgPh1lhVUA...</td>\n",
       "      <td>Ashok Pawar</td>\n",
       "      <td>https://play-lh.googleusercontent.com/a-/AOh14...</td>\n",
       "      <td>good</td>\n",
       "      <td>5</td>\n",
       "      <td>0</td>\n",
       "      <td>4.1.25</td>\n",
       "      <td>2021-11-10 15:27:29</td>\n",
       "      <td>NaN</td>\n",
       "      <td>NaN</td>\n",
       "      <td>PhonePayIndia</td>\n",
       "    </tr>\n",
       "    <tr>\n",
       "      <th>11737</th>\n",
       "      <td>11737</td>\n",
       "      <td>gp:AOqpTOFuSV_9Lt31JbHaR000CauJbntWPTdISIwneYE...</td>\n",
       "      <td>Tabish Khan</td>\n",
       "      <td>https://play-lh.googleusercontent.com/a-/AOh14...</td>\n",
       "      <td>Simply awesome 😎</td>\n",
       "      <td>5</td>\n",
       "      <td>0</td>\n",
       "      <td>4.1.25</td>\n",
       "      <td>2021-11-10 15:27:27</td>\n",
       "      <td>NaN</td>\n",
       "      <td>NaN</td>\n",
       "      <td>PhonePayIndia</td>\n",
       "    </tr>\n",
       "    <tr>\n",
       "      <th>11738</th>\n",
       "      <td>11738</td>\n",
       "      <td>gp:AOqpTOEdjlMnAP0bMX4oKZ2eOEUtZvfJjzGjsljWCKK...</td>\n",
       "      <td>Kiran Shinde Patil</td>\n",
       "      <td>https://play-lh.googleusercontent.com/a-/AOh14...</td>\n",
       "      <td>Super</td>\n",
       "      <td>1</td>\n",
       "      <td>0</td>\n",
       "      <td>4.1.25</td>\n",
       "      <td>2021-11-10 15:26:55</td>\n",
       "      <td>Thank you for the feedback, Kiran. We work har...</td>\n",
       "      <td>2021-11-10 15:40:13</td>\n",
       "      <td>PhonePayIndia</td>\n",
       "    </tr>\n",
       "    <tr>\n",
       "      <th>11739</th>\n",
       "      <td>11739</td>\n",
       "      <td>gp:AOqpTOH6bRKH7nM-B6306EUk-mSMrKejmGMyDm2u-iK...</td>\n",
       "      <td>The Indian</td>\n",
       "      <td>https://play-lh.googleusercontent.com/a-/AOh14...</td>\n",
       "      <td>Excellent</td>\n",
       "      <td>5</td>\n",
       "      <td>0</td>\n",
       "      <td>4.1.18</td>\n",
       "      <td>2021-11-10 15:23:32</td>\n",
       "      <td>NaN</td>\n",
       "      <td>NaN</td>\n",
       "      <td>PhonePayIndia</td>\n",
       "    </tr>\n",
       "    <tr>\n",
       "      <th>11740</th>\n",
       "      <td>11740</td>\n",
       "      <td>gp:AOqpTOEMimszwKu5Az9tXim_1Wd0snjEVVmA_7JfIup...</td>\n",
       "      <td>Nageshwarao Samala</td>\n",
       "      <td>https://play-lh.googleusercontent.com/a/AATXAJ...</td>\n",
       "      <td>Ok</td>\n",
       "      <td>4</td>\n",
       "      <td>0</td>\n",
       "      <td>4.1.25</td>\n",
       "      <td>2021-11-10 15:22:05</td>\n",
       "      <td>NaN</td>\n",
       "      <td>NaN</td>\n",
       "      <td>PhonePayIndia</td>\n",
       "    </tr>\n",
       "  </tbody>\n",
       "</table>\n",
       "<p>183876 rows × 12 columns</p>\n",
       "</div>"
      ],
      "text/plain": [
       "       Unnamed: 0                                           reviewId  \\\n",
       "0               0  gp:AOqpTOEdT_VactGi_J9Q2PEWY7J4XlD7BINhOj9xwOr...   \n",
       "1               1  gp:AOqpTOHltpCzXurPoFUgj-a3L-wApC93-fTvocbF9K7...   \n",
       "2               2  gp:AOqpTOGTiyxy_FWSQe7eCONa7PsIP6v7cS-xWCL6jFF...   \n",
       "3               3  gp:AOqpTOHllyGnmLGZqPUGokxYncq9kOKoY3Zz_4ZF6b0...   \n",
       "4               4  gp:AOqpTOHjnJ6gAF4NzruhLDGVszAaTKSerVeKt-UtJfM...   \n",
       "...           ...                                                ...   \n",
       "11736       11736  gp:AOqpTOEI3U9pLM_RUp8LcwRgbDyaImBZQlgPh1lhVUA...   \n",
       "11737       11737  gp:AOqpTOFuSV_9Lt31JbHaR000CauJbntWPTdISIwneYE...   \n",
       "11738       11738  gp:AOqpTOEdjlMnAP0bMX4oKZ2eOEUtZvfJjzGjsljWCKK...   \n",
       "11739       11739  gp:AOqpTOH6bRKH7nM-B6306EUk-mSMrKejmGMyDm2u-iK...   \n",
       "11740       11740  gp:AOqpTOEMimszwKu5Az9tXim_1Wd0snjEVVmA_7JfIup...   \n",
       "\n",
       "                 userName                                          userImage  \\\n",
       "0              Len Pagnam  https://play-lh.googleusercontent.com/a-/AOh14...   \n",
       "1          Benjamin Silva  https://play-lh.googleusercontent.com/a/AATXAJ...   \n",
       "2            PARVESH MIAR  https://play-lh.googleusercontent.com/a-/AOh14...   \n",
       "3                Mikko L.  https://play-lh.googleusercontent.com/a-/AOh14...   \n",
       "4           A Google user  https://play-lh.googleusercontent.com/EGemoI2N...   \n",
       "...                   ...                                                ...   \n",
       "11736         Ashok Pawar  https://play-lh.googleusercontent.com/a-/AOh14...   \n",
       "11737         Tabish Khan  https://play-lh.googleusercontent.com/a-/AOh14...   \n",
       "11738  Kiran Shinde Patil  https://play-lh.googleusercontent.com/a-/AOh14...   \n",
       "11739          The Indian  https://play-lh.googleusercontent.com/a-/AOh14...   \n",
       "11740  Nageshwarao Samala  https://play-lh.googleusercontent.com/a/AATXAJ...   \n",
       "\n",
       "                                                 content  score  \\\n",
       "0       How do add a boarding pass? I see no passes tab.      1   \n",
       "1                                                   Best      5   \n",
       "2                                                 All ok      5   \n",
       "3      Rasy to use really... But there never, ever sh...      3   \n",
       "4      I still do not understand why your restricting...      3   \n",
       "...                                                  ...    ...   \n",
       "11736                                               good      5   \n",
       "11737                                   Simply awesome 😎      5   \n",
       "11738                                              Super      1   \n",
       "11739                                          Excellent      5   \n",
       "11740                                                 Ok      4   \n",
       "\n",
       "       thumbsUpCount reviewCreatedVersion                   at  \\\n",
       "0                  0      2.137.401329300  2021-11-18 17:03:06   \n",
       "1                  0      2.134.392709498  2021-11-18 16:43:34   \n",
       "2                  0      2.138.406141160  2021-11-18 16:12:42   \n",
       "3                  0      2.138.406141160  2021-11-18 16:06:35   \n",
       "4                251      2.134.392709498  2021-11-18 15:48:08   \n",
       "...              ...                  ...                  ...   \n",
       "11736              0               4.1.25  2021-11-10 15:27:29   \n",
       "11737              0               4.1.25  2021-11-10 15:27:27   \n",
       "11738              0               4.1.25  2021-11-10 15:26:55   \n",
       "11739              0               4.1.18  2021-11-10 15:23:32   \n",
       "11740              0               4.1.25  2021-11-10 15:22:05   \n",
       "\n",
       "                                            replyContent            repliedAt  \\\n",
       "0      Hi Len. Could you try the steps in this guide ...  2021-11-18 17:27:11   \n",
       "1                                                    NaN                  NaN   \n",
       "2                                                    NaN                  NaN   \n",
       "3                                                    NaN                  NaN   \n",
       "4                                                    NaN                  NaN   \n",
       "...                                                  ...                  ...   \n",
       "11736                                                NaN                  NaN   \n",
       "11737                                                NaN                  NaN   \n",
       "11738  Thank you for the feedback, Kiran. We work har...  2021-11-10 15:40:13   \n",
       "11739                                                NaN                  NaN   \n",
       "11740                                                NaN                  NaN   \n",
       "\n",
       "                  app  \n",
       "0      GooglePayIndia  \n",
       "1      GooglePayIndia  \n",
       "2      GooglePayIndia  \n",
       "3      GooglePayIndia  \n",
       "4      GooglePayIndia  \n",
       "...               ...  \n",
       "11736   PhonePayIndia  \n",
       "11737   PhonePayIndia  \n",
       "11738   PhonePayIndia  \n",
       "11739   PhonePayIndia  \n",
       "11740   PhonePayIndia  \n",
       "\n",
       "[183876 rows x 12 columns]"
      ]
     },
     "execution_count": 101,
     "metadata": {},
     "output_type": "execute_result"
    }
   ],
   "source": [
    "df"
   ]
  },
  {
   "cell_type": "code",
   "execution_count": 102,
   "metadata": {},
   "outputs": [],
   "source": [
    "data = df.drop(['Unnamed: 0','reviewId','userImage','reviewCreatedVersion','replyContent','repliedAt'],axis=1)"
   ]
  },
  {
   "cell_type": "code",
   "execution_count": 103,
   "metadata": {},
   "outputs": [
    {
     "data": {
      "text/html": [
       "<div>\n",
       "<style scoped>\n",
       "    .dataframe tbody tr th:only-of-type {\n",
       "        vertical-align: middle;\n",
       "    }\n",
       "\n",
       "    .dataframe tbody tr th {\n",
       "        vertical-align: top;\n",
       "    }\n",
       "\n",
       "    .dataframe thead th {\n",
       "        text-align: right;\n",
       "    }\n",
       "</style>\n",
       "<table border=\"1\" class=\"dataframe\">\n",
       "  <thead>\n",
       "    <tr style=\"text-align: right;\">\n",
       "      <th></th>\n",
       "      <th>userName</th>\n",
       "      <th>content</th>\n",
       "      <th>score</th>\n",
       "      <th>thumbsUpCount</th>\n",
       "      <th>at</th>\n",
       "      <th>app</th>\n",
       "    </tr>\n",
       "  </thead>\n",
       "  <tbody>\n",
       "    <tr>\n",
       "      <th>0</th>\n",
       "      <td>Len Pagnam</td>\n",
       "      <td>How do add a boarding pass? I see no passes tab.</td>\n",
       "      <td>1</td>\n",
       "      <td>0</td>\n",
       "      <td>2021-11-18 17:03:06</td>\n",
       "      <td>GooglePayIndia</td>\n",
       "    </tr>\n",
       "    <tr>\n",
       "      <th>1</th>\n",
       "      <td>Benjamin Silva</td>\n",
       "      <td>Best</td>\n",
       "      <td>5</td>\n",
       "      <td>0</td>\n",
       "      <td>2021-11-18 16:43:34</td>\n",
       "      <td>GooglePayIndia</td>\n",
       "    </tr>\n",
       "    <tr>\n",
       "      <th>2</th>\n",
       "      <td>PARVESH MIAR</td>\n",
       "      <td>All ok</td>\n",
       "      <td>5</td>\n",
       "      <td>0</td>\n",
       "      <td>2021-11-18 16:12:42</td>\n",
       "      <td>GooglePayIndia</td>\n",
       "    </tr>\n",
       "    <tr>\n",
       "      <th>3</th>\n",
       "      <td>Mikko L.</td>\n",
       "      <td>Rasy to use really... But there never, ever sh...</td>\n",
       "      <td>3</td>\n",
       "      <td>0</td>\n",
       "      <td>2021-11-18 16:06:35</td>\n",
       "      <td>GooglePayIndia</td>\n",
       "    </tr>\n",
       "    <tr>\n",
       "      <th>4</th>\n",
       "      <td>A Google user</td>\n",
       "      <td>I still do not understand why your restricting...</td>\n",
       "      <td>3</td>\n",
       "      <td>251</td>\n",
       "      <td>2021-11-18 15:48:08</td>\n",
       "      <td>GooglePayIndia</td>\n",
       "    </tr>\n",
       "    <tr>\n",
       "      <th>...</th>\n",
       "      <td>...</td>\n",
       "      <td>...</td>\n",
       "      <td>...</td>\n",
       "      <td>...</td>\n",
       "      <td>...</td>\n",
       "      <td>...</td>\n",
       "    </tr>\n",
       "    <tr>\n",
       "      <th>11736</th>\n",
       "      <td>Ashok Pawar</td>\n",
       "      <td>good</td>\n",
       "      <td>5</td>\n",
       "      <td>0</td>\n",
       "      <td>2021-11-10 15:27:29</td>\n",
       "      <td>PhonePayIndia</td>\n",
       "    </tr>\n",
       "    <tr>\n",
       "      <th>11737</th>\n",
       "      <td>Tabish Khan</td>\n",
       "      <td>Simply awesome 😎</td>\n",
       "      <td>5</td>\n",
       "      <td>0</td>\n",
       "      <td>2021-11-10 15:27:27</td>\n",
       "      <td>PhonePayIndia</td>\n",
       "    </tr>\n",
       "    <tr>\n",
       "      <th>11738</th>\n",
       "      <td>Kiran Shinde Patil</td>\n",
       "      <td>Super</td>\n",
       "      <td>1</td>\n",
       "      <td>0</td>\n",
       "      <td>2021-11-10 15:26:55</td>\n",
       "      <td>PhonePayIndia</td>\n",
       "    </tr>\n",
       "    <tr>\n",
       "      <th>11739</th>\n",
       "      <td>The Indian</td>\n",
       "      <td>Excellent</td>\n",
       "      <td>5</td>\n",
       "      <td>0</td>\n",
       "      <td>2021-11-10 15:23:32</td>\n",
       "      <td>PhonePayIndia</td>\n",
       "    </tr>\n",
       "    <tr>\n",
       "      <th>11740</th>\n",
       "      <td>Nageshwarao Samala</td>\n",
       "      <td>Ok</td>\n",
       "      <td>4</td>\n",
       "      <td>0</td>\n",
       "      <td>2021-11-10 15:22:05</td>\n",
       "      <td>PhonePayIndia</td>\n",
       "    </tr>\n",
       "  </tbody>\n",
       "</table>\n",
       "<p>183876 rows × 6 columns</p>\n",
       "</div>"
      ],
      "text/plain": [
       "                 userName                                            content  \\\n",
       "0              Len Pagnam   How do add a boarding pass? I see no passes tab.   \n",
       "1          Benjamin Silva                                               Best   \n",
       "2            PARVESH MIAR                                             All ok   \n",
       "3                Mikko L.  Rasy to use really... But there never, ever sh...   \n",
       "4           A Google user  I still do not understand why your restricting...   \n",
       "...                   ...                                                ...   \n",
       "11736         Ashok Pawar                                               good   \n",
       "11737         Tabish Khan                                   Simply awesome 😎   \n",
       "11738  Kiran Shinde Patil                                              Super   \n",
       "11739          The Indian                                          Excellent   \n",
       "11740  Nageshwarao Samala                                                 Ok   \n",
       "\n",
       "       score  thumbsUpCount                   at             app  \n",
       "0          1              0  2021-11-18 17:03:06  GooglePayIndia  \n",
       "1          5              0  2021-11-18 16:43:34  GooglePayIndia  \n",
       "2          5              0  2021-11-18 16:12:42  GooglePayIndia  \n",
       "3          3              0  2021-11-18 16:06:35  GooglePayIndia  \n",
       "4          3            251  2021-11-18 15:48:08  GooglePayIndia  \n",
       "...      ...            ...                  ...             ...  \n",
       "11736      5              0  2021-11-10 15:27:29   PhonePayIndia  \n",
       "11737      5              0  2021-11-10 15:27:27   PhonePayIndia  \n",
       "11738      1              0  2021-11-10 15:26:55   PhonePayIndia  \n",
       "11739      5              0  2021-11-10 15:23:32   PhonePayIndia  \n",
       "11740      4              0  2021-11-10 15:22:05   PhonePayIndia  \n",
       "\n",
       "[183876 rows x 6 columns]"
      ]
     },
     "execution_count": 103,
     "metadata": {},
     "output_type": "execute_result"
    }
   ],
   "source": [
    "data"
   ]
  },
  {
   "cell_type": "code",
   "execution_count": 104,
   "metadata": {},
   "outputs": [
    {
     "data": {
      "text/plain": [
       "(183868, 6)"
      ]
     },
     "execution_count": 104,
     "metadata": {},
     "output_type": "execute_result"
    }
   ],
   "source": [
    "data = data[data[\"content\"].notna()]\n",
    "data = data[data[\"userName\"].notna()]\n",
    "data.shape"
   ]
  },
  {
   "cell_type": "code",
   "execution_count": 105,
   "metadata": {},
   "outputs": [
    {
     "name": "stderr",
     "output_type": "stream",
     "text": [
      "[nltk_data] Downloading package wordnet to\n",
      "[nltk_data]     C:\\Users\\lenovo\\AppData\\Roaming\\nltk_data...\n",
      "[nltk_data]   Package wordnet is already up-to-date!\n"
     ]
    }
   ],
   "source": [
    "import nltk \n",
    "nltk.download('wordnet')\n",
    "stop_words = stopwords.words(\"english\")\n",
    "data.loc[:, \"content\"] = data.loc[:, \"content\"].apply(lambda x: \" \".join(x for x in x.split() if x not in stop_words))\n",
    "data.loc[:, \"content\"] = data.loc[:, \"content\"].apply(lambda x: \" \".join(Word(x).lemmatize() for x in x.split()))\n",
    "data.loc[:, \"content\"] = data.loc[:, \"content\"].apply(lambda x: x.encode('ascii', 'ignore').decode('ascii'))"
   ]
  },
  {
   "cell_type": "code",
   "execution_count": 106,
   "metadata": {},
   "outputs": [
    {
     "data": {
      "text/html": [
       "<div>\n",
       "<style scoped>\n",
       "    .dataframe tbody tr th:only-of-type {\n",
       "        vertical-align: middle;\n",
       "    }\n",
       "\n",
       "    .dataframe tbody tr th {\n",
       "        vertical-align: top;\n",
       "    }\n",
       "\n",
       "    .dataframe thead th {\n",
       "        text-align: right;\n",
       "    }\n",
       "</style>\n",
       "<table border=\"1\" class=\"dataframe\">\n",
       "  <thead>\n",
       "    <tr style=\"text-align: right;\">\n",
       "      <th></th>\n",
       "      <th>userName</th>\n",
       "      <th>content</th>\n",
       "      <th>score</th>\n",
       "      <th>thumbsUpCount</th>\n",
       "      <th>at</th>\n",
       "      <th>app</th>\n",
       "    </tr>\n",
       "  </thead>\n",
       "  <tbody>\n",
       "    <tr>\n",
       "      <th>0</th>\n",
       "      <td>Len Pagnam</td>\n",
       "      <td>How add boarding pass? I see pass tab.</td>\n",
       "      <td>1</td>\n",
       "      <td>0</td>\n",
       "      <td>2021-11-18 17:03:06</td>\n",
       "      <td>GooglePayIndia</td>\n",
       "    </tr>\n",
       "    <tr>\n",
       "      <th>1</th>\n",
       "      <td>Benjamin Silva</td>\n",
       "      <td>Best</td>\n",
       "      <td>5</td>\n",
       "      <td>0</td>\n",
       "      <td>2021-11-18 16:43:34</td>\n",
       "      <td>GooglePayIndia</td>\n",
       "    </tr>\n",
       "    <tr>\n",
       "      <th>2</th>\n",
       "      <td>PARVESH MIAR</td>\n",
       "      <td>All ok</td>\n",
       "      <td>5</td>\n",
       "      <td>0</td>\n",
       "      <td>2021-11-18 16:12:42</td>\n",
       "      <td>GooglePayIndia</td>\n",
       "    </tr>\n",
       "    <tr>\n",
       "      <th>3</th>\n",
       "      <td>Mikko L.</td>\n",
       "      <td>Rasy use really... But never, ever \"bad-data\" ...</td>\n",
       "      <td>3</td>\n",
       "      <td>0</td>\n",
       "      <td>2021-11-18 16:06:35</td>\n",
       "      <td>GooglePayIndia</td>\n",
       "    </tr>\n",
       "    <tr>\n",
       "      <th>4</th>\n",
       "      <td>A Google user</td>\n",
       "      <td>I still understand restricting certain legal a...</td>\n",
       "      <td>3</td>\n",
       "      <td>251</td>\n",
       "      <td>2021-11-18 15:48:08</td>\n",
       "      <td>GooglePayIndia</td>\n",
       "    </tr>\n",
       "    <tr>\n",
       "      <th>...</th>\n",
       "      <td>...</td>\n",
       "      <td>...</td>\n",
       "      <td>...</td>\n",
       "      <td>...</td>\n",
       "      <td>...</td>\n",
       "      <td>...</td>\n",
       "    </tr>\n",
       "    <tr>\n",
       "      <th>11736</th>\n",
       "      <td>Ashok Pawar</td>\n",
       "      <td>good</td>\n",
       "      <td>5</td>\n",
       "      <td>0</td>\n",
       "      <td>2021-11-10 15:27:29</td>\n",
       "      <td>PhonePayIndia</td>\n",
       "    </tr>\n",
       "    <tr>\n",
       "      <th>11737</th>\n",
       "      <td>Tabish Khan</td>\n",
       "      <td>Simply awesome</td>\n",
       "      <td>5</td>\n",
       "      <td>0</td>\n",
       "      <td>2021-11-10 15:27:27</td>\n",
       "      <td>PhonePayIndia</td>\n",
       "    </tr>\n",
       "    <tr>\n",
       "      <th>11738</th>\n",
       "      <td>Kiran Shinde Patil</td>\n",
       "      <td>Super</td>\n",
       "      <td>1</td>\n",
       "      <td>0</td>\n",
       "      <td>2021-11-10 15:26:55</td>\n",
       "      <td>PhonePayIndia</td>\n",
       "    </tr>\n",
       "    <tr>\n",
       "      <th>11739</th>\n",
       "      <td>The Indian</td>\n",
       "      <td>Excellent</td>\n",
       "      <td>5</td>\n",
       "      <td>0</td>\n",
       "      <td>2021-11-10 15:23:32</td>\n",
       "      <td>PhonePayIndia</td>\n",
       "    </tr>\n",
       "    <tr>\n",
       "      <th>11740</th>\n",
       "      <td>Nageshwarao Samala</td>\n",
       "      <td>Ok</td>\n",
       "      <td>4</td>\n",
       "      <td>0</td>\n",
       "      <td>2021-11-10 15:22:05</td>\n",
       "      <td>PhonePayIndia</td>\n",
       "    </tr>\n",
       "  </tbody>\n",
       "</table>\n",
       "<p>183868 rows × 6 columns</p>\n",
       "</div>"
      ],
      "text/plain": [
       "                 userName                                            content  \\\n",
       "0              Len Pagnam             How add boarding pass? I see pass tab.   \n",
       "1          Benjamin Silva                                               Best   \n",
       "2            PARVESH MIAR                                             All ok   \n",
       "3                Mikko L.  Rasy use really... But never, ever \"bad-data\" ...   \n",
       "4           A Google user  I still understand restricting certain legal a...   \n",
       "...                   ...                                                ...   \n",
       "11736         Ashok Pawar                                               good   \n",
       "11737         Tabish Khan                                    Simply awesome    \n",
       "11738  Kiran Shinde Patil                                              Super   \n",
       "11739          The Indian                                          Excellent   \n",
       "11740  Nageshwarao Samala                                                 Ok   \n",
       "\n",
       "       score  thumbsUpCount                   at             app  \n",
       "0          1              0  2021-11-18 17:03:06  GooglePayIndia  \n",
       "1          5              0  2021-11-18 16:43:34  GooglePayIndia  \n",
       "2          5              0  2021-11-18 16:12:42  GooglePayIndia  \n",
       "3          3              0  2021-11-18 16:06:35  GooglePayIndia  \n",
       "4          3            251  2021-11-18 15:48:08  GooglePayIndia  \n",
       "...      ...            ...                  ...             ...  \n",
       "11736      5              0  2021-11-10 15:27:29   PhonePayIndia  \n",
       "11737      5              0  2021-11-10 15:27:27   PhonePayIndia  \n",
       "11738      1              0  2021-11-10 15:26:55   PhonePayIndia  \n",
       "11739      5              0  2021-11-10 15:23:32   PhonePayIndia  \n",
       "11740      4              0  2021-11-10 15:22:05   PhonePayIndia  \n",
       "\n",
       "[183868 rows x 6 columns]"
      ]
     },
     "execution_count": 106,
     "metadata": {},
     "output_type": "execute_result"
    }
   ],
   "source": [
    "data"
   ]
  },
  {
   "cell_type": "code",
   "execution_count": 107,
   "metadata": {},
   "outputs": [],
   "source": [
    "data.loc[:,'content'] = data.loc[:,'content'].str.replace('?','',regex=True)\n",
    "data.loc[:,'content'] = data.loc[:,'content'].str.replace('!','',regex=True)\n",
    "data.loc[:,'content'] = data.loc[:,'content'].str.replace('@','',regex=True)\n",
    "data.loc[:,'content'] = data.loc[:,'content'].str.replace('*','',regex=True)\n",
    "data.loc[:,'content'] = data.loc[:,'content'].str.replace('&','',regex=True)\n",
    "data.loc[:,'content'] = data.loc[:,'content'].str.replace(':','',regex=True)\n",
    "data.loc[:,'content'] = data.loc[:,'content'].str.replace('.','',regex=True)\n",
    "data.loc[:,'content'] = data.loc[:,'content'].str.replace('-','',regex=True)\n",
    "data.loc[:,'content'] = data.loc[:,'content'].str.replace('%','',regex=True)\n",
    "data.loc[:,'content'] = data.loc[:,'content'].str.replace('$','',regex=True)\n",
    "data.loc[:,'content'] = data.loc[:,'content'].str.replace(',','',regex=True)"
   ]
  },
  {
   "cell_type": "code",
   "execution_count": 108,
   "metadata": {},
   "outputs": [],
   "source": [
    "data.loc[:,'content'] = data.loc[:,'content'].str.replace('app','',regex=True)\n",
    "data.loc[:,'content'] = data.loc[:,'content'].str.replace('paytm','',regex=True)\n",
    "data.loc[:,'content'] = data.loc[:,'content'].str.replace('google','',regex=True)"
   ]
  },
  {
   "cell_type": "code",
   "execution_count": 109,
   "metadata": {},
   "outputs": [
    {
     "data": {
      "text/html": [
       "<div>\n",
       "<style scoped>\n",
       "    .dataframe tbody tr th:only-of-type {\n",
       "        vertical-align: middle;\n",
       "    }\n",
       "\n",
       "    .dataframe tbody tr th {\n",
       "        vertical-align: top;\n",
       "    }\n",
       "\n",
       "    .dataframe thead th {\n",
       "        text-align: right;\n",
       "    }\n",
       "</style>\n",
       "<table border=\"1\" class=\"dataframe\">\n",
       "  <thead>\n",
       "    <tr style=\"text-align: right;\">\n",
       "      <th></th>\n",
       "      <th>userName</th>\n",
       "      <th>content</th>\n",
       "      <th>score</th>\n",
       "      <th>thumbsUpCount</th>\n",
       "      <th>at</th>\n",
       "      <th>app</th>\n",
       "    </tr>\n",
       "  </thead>\n",
       "  <tbody>\n",
       "    <tr>\n",
       "      <th>0</th>\n",
       "      <td>Len Pagnam</td>\n",
       "      <td>How add boarding pass I see pass tab</td>\n",
       "      <td>1</td>\n",
       "      <td>0</td>\n",
       "      <td>2021-11-18 17:03:06</td>\n",
       "      <td>GooglePayIndia</td>\n",
       "    </tr>\n",
       "    <tr>\n",
       "      <th>1</th>\n",
       "      <td>Benjamin Silva</td>\n",
       "      <td>Best</td>\n",
       "      <td>5</td>\n",
       "      <td>0</td>\n",
       "      <td>2021-11-18 16:43:34</td>\n",
       "      <td>GooglePayIndia</td>\n",
       "    </tr>\n",
       "    <tr>\n",
       "      <th>2</th>\n",
       "      <td>PARVESH MIAR</td>\n",
       "      <td>All ok</td>\n",
       "      <td>5</td>\n",
       "      <td>0</td>\n",
       "      <td>2021-11-18 16:12:42</td>\n",
       "      <td>GooglePayIndia</td>\n",
       "    </tr>\n",
       "    <tr>\n",
       "      <th>3</th>\n",
       "      <td>Mikko L.</td>\n",
       "      <td>Rasy use really But never ever \"baddata\" among...</td>\n",
       "      <td>3</td>\n",
       "      <td>0</td>\n",
       "      <td>2021-11-18 16:06:35</td>\n",
       "      <td>GooglePayIndia</td>\n",
       "    </tr>\n",
       "    <tr>\n",
       "      <th>4</th>\n",
       "      <td>A Google user</td>\n",
       "      <td>I still understand restricting certain legal a...</td>\n",
       "      <td>3</td>\n",
       "      <td>251</td>\n",
       "      <td>2021-11-18 15:48:08</td>\n",
       "      <td>GooglePayIndia</td>\n",
       "    </tr>\n",
       "    <tr>\n",
       "      <th>...</th>\n",
       "      <td>...</td>\n",
       "      <td>...</td>\n",
       "      <td>...</td>\n",
       "      <td>...</td>\n",
       "      <td>...</td>\n",
       "      <td>...</td>\n",
       "    </tr>\n",
       "    <tr>\n",
       "      <th>11736</th>\n",
       "      <td>Ashok Pawar</td>\n",
       "      <td>good</td>\n",
       "      <td>5</td>\n",
       "      <td>0</td>\n",
       "      <td>2021-11-10 15:27:29</td>\n",
       "      <td>PhonePayIndia</td>\n",
       "    </tr>\n",
       "    <tr>\n",
       "      <th>11737</th>\n",
       "      <td>Tabish Khan</td>\n",
       "      <td>Simply awesome</td>\n",
       "      <td>5</td>\n",
       "      <td>0</td>\n",
       "      <td>2021-11-10 15:27:27</td>\n",
       "      <td>PhonePayIndia</td>\n",
       "    </tr>\n",
       "    <tr>\n",
       "      <th>11738</th>\n",
       "      <td>Kiran Shinde Patil</td>\n",
       "      <td>Super</td>\n",
       "      <td>1</td>\n",
       "      <td>0</td>\n",
       "      <td>2021-11-10 15:26:55</td>\n",
       "      <td>PhonePayIndia</td>\n",
       "    </tr>\n",
       "    <tr>\n",
       "      <th>11739</th>\n",
       "      <td>The Indian</td>\n",
       "      <td>Excellent</td>\n",
       "      <td>5</td>\n",
       "      <td>0</td>\n",
       "      <td>2021-11-10 15:23:32</td>\n",
       "      <td>PhonePayIndia</td>\n",
       "    </tr>\n",
       "    <tr>\n",
       "      <th>11740</th>\n",
       "      <td>Nageshwarao Samala</td>\n",
       "      <td>Ok</td>\n",
       "      <td>4</td>\n",
       "      <td>0</td>\n",
       "      <td>2021-11-10 15:22:05</td>\n",
       "      <td>PhonePayIndia</td>\n",
       "    </tr>\n",
       "  </tbody>\n",
       "</table>\n",
       "<p>183868 rows × 6 columns</p>\n",
       "</div>"
      ],
      "text/plain": [
       "                 userName                                            content  \\\n",
       "0              Len Pagnam               How add boarding pass I see pass tab   \n",
       "1          Benjamin Silva                                               Best   \n",
       "2            PARVESH MIAR                                             All ok   \n",
       "3                Mikko L.  Rasy use really But never ever \"baddata\" among...   \n",
       "4           A Google user  I still understand restricting certain legal a...   \n",
       "...                   ...                                                ...   \n",
       "11736         Ashok Pawar                                               good   \n",
       "11737         Tabish Khan                                    Simply awesome    \n",
       "11738  Kiran Shinde Patil                                              Super   \n",
       "11739          The Indian                                          Excellent   \n",
       "11740  Nageshwarao Samala                                                 Ok   \n",
       "\n",
       "       score  thumbsUpCount                   at             app  \n",
       "0          1              0  2021-11-18 17:03:06  GooglePayIndia  \n",
       "1          5              0  2021-11-18 16:43:34  GooglePayIndia  \n",
       "2          5              0  2021-11-18 16:12:42  GooglePayIndia  \n",
       "3          3              0  2021-11-18 16:06:35  GooglePayIndia  \n",
       "4          3            251  2021-11-18 15:48:08  GooglePayIndia  \n",
       "...      ...            ...                  ...             ...  \n",
       "11736      5              0  2021-11-10 15:27:29   PhonePayIndia  \n",
       "11737      5              0  2021-11-10 15:27:27   PhonePayIndia  \n",
       "11738      1              0  2021-11-10 15:26:55   PhonePayIndia  \n",
       "11739      5              0  2021-11-10 15:23:32   PhonePayIndia  \n",
       "11740      4              0  2021-11-10 15:22:05   PhonePayIndia  \n",
       "\n",
       "[183868 rows x 6 columns]"
      ]
     },
     "execution_count": 109,
     "metadata": {},
     "output_type": "execute_result"
    }
   ],
   "source": [
    "data"
   ]
  },
  {
   "cell_type": "code",
   "execution_count": 110,
   "metadata": {},
   "outputs": [],
   "source": [
    "data5 = data[data['score']==5]\n",
    "corp = data5['content'].values\n",
    "tok = Tokenizer(num_words=250, split=' ')\n",
    "tok.fit_on_texts(data5['content'].values)\n",
    "\n",
    "P = []\n",
    "CNT = []\n",
    "N = []\n",
    "CNT1 =[]"
   ]
  },
  {
   "cell_type": "code",
   "execution_count": 111,
   "metadata": {},
   "outputs": [
    {
     "data": {
      "text/html": [
       "<div>\n",
       "<style scoped>\n",
       "    .dataframe tbody tr th:only-of-type {\n",
       "        vertical-align: middle;\n",
       "    }\n",
       "\n",
       "    .dataframe tbody tr th {\n",
       "        vertical-align: top;\n",
       "    }\n",
       "\n",
       "    .dataframe thead th {\n",
       "        text-align: right;\n",
       "    }\n",
       "</style>\n",
       "<table border=\"1\" class=\"dataframe\">\n",
       "  <thead>\n",
       "    <tr style=\"text-align: right;\">\n",
       "      <th></th>\n",
       "      <th>userName</th>\n",
       "      <th>content</th>\n",
       "      <th>score</th>\n",
       "      <th>thumbsUpCount</th>\n",
       "      <th>at</th>\n",
       "      <th>app</th>\n",
       "    </tr>\n",
       "  </thead>\n",
       "  <tbody>\n",
       "    <tr>\n",
       "      <th>1</th>\n",
       "      <td>Benjamin Silva</td>\n",
       "      <td>Best</td>\n",
       "      <td>5</td>\n",
       "      <td>0</td>\n",
       "      <td>2021-11-18 16:43:34</td>\n",
       "      <td>GooglePayIndia</td>\n",
       "    </tr>\n",
       "    <tr>\n",
       "      <th>2</th>\n",
       "      <td>PARVESH MIAR</td>\n",
       "      <td>All ok</td>\n",
       "      <td>5</td>\n",
       "      <td>0</td>\n",
       "      <td>2021-11-18 16:12:42</td>\n",
       "      <td>GooglePayIndia</td>\n",
       "    </tr>\n",
       "    <tr>\n",
       "      <th>7</th>\n",
       "      <td>Robin Cramp</td>\n",
       "      <td>App working expected Google Pay smart watch (f...</td>\n",
       "      <td>5</td>\n",
       "      <td>11</td>\n",
       "      <td>2021-11-18 14:05:44</td>\n",
       "      <td>GooglePayIndia</td>\n",
       "    </tr>\n",
       "    <tr>\n",
       "      <th>8</th>\n",
       "      <td>Matthew Chandler</td>\n",
       "      <td>Good</td>\n",
       "      <td>5</td>\n",
       "      <td>0</td>\n",
       "      <td>2021-11-18 13:38:21</td>\n",
       "      <td>GooglePayIndia</td>\n",
       "    </tr>\n",
       "    <tr>\n",
       "      <th>10</th>\n",
       "      <td>Andrei Vacareanu</td>\n",
       "      <td>Ok</td>\n",
       "      <td>5</td>\n",
       "      <td>0</td>\n",
       "      <td>2021-11-18 13:01:58</td>\n",
       "      <td>GooglePayIndia</td>\n",
       "    </tr>\n",
       "    <tr>\n",
       "      <th>...</th>\n",
       "      <td>...</td>\n",
       "      <td>...</td>\n",
       "      <td>...</td>\n",
       "      <td>...</td>\n",
       "      <td>...</td>\n",
       "      <td>...</td>\n",
       "    </tr>\n",
       "    <tr>\n",
       "      <th>11733</th>\n",
       "      <td>Venkata Rao Gundapu</td>\n",
       "      <td>Excellent</td>\n",
       "      <td>5</td>\n",
       "      <td>0</td>\n",
       "      <td>2021-11-10 15:28:48</td>\n",
       "      <td>PhonePayIndia</td>\n",
       "    </tr>\n",
       "    <tr>\n",
       "      <th>11734</th>\n",
       "      <td>Mb Raj</td>\n",
       "      <td>Very nice</td>\n",
       "      <td>5</td>\n",
       "      <td>0</td>\n",
       "      <td>2021-11-10 15:28:12</td>\n",
       "      <td>PhonePayIndia</td>\n",
       "    </tr>\n",
       "    <tr>\n",
       "      <th>11736</th>\n",
       "      <td>Ashok Pawar</td>\n",
       "      <td>good</td>\n",
       "      <td>5</td>\n",
       "      <td>0</td>\n",
       "      <td>2021-11-10 15:27:29</td>\n",
       "      <td>PhonePayIndia</td>\n",
       "    </tr>\n",
       "    <tr>\n",
       "      <th>11737</th>\n",
       "      <td>Tabish Khan</td>\n",
       "      <td>Simply awesome</td>\n",
       "      <td>5</td>\n",
       "      <td>0</td>\n",
       "      <td>2021-11-10 15:27:27</td>\n",
       "      <td>PhonePayIndia</td>\n",
       "    </tr>\n",
       "    <tr>\n",
       "      <th>11739</th>\n",
       "      <td>The Indian</td>\n",
       "      <td>Excellent</td>\n",
       "      <td>5</td>\n",
       "      <td>0</td>\n",
       "      <td>2021-11-10 15:23:32</td>\n",
       "      <td>PhonePayIndia</td>\n",
       "    </tr>\n",
       "  </tbody>\n",
       "</table>\n",
       "<p>126327 rows × 6 columns</p>\n",
       "</div>"
      ],
      "text/plain": [
       "                  userName                                            content  \\\n",
       "1           Benjamin Silva                                               Best   \n",
       "2             PARVESH MIAR                                             All ok   \n",
       "7              Robin Cramp  App working expected Google Pay smart watch (f...   \n",
       "8         Matthew Chandler                                               Good   \n",
       "10        Andrei Vacareanu                                                 Ok   \n",
       "...                    ...                                                ...   \n",
       "11733  Venkata Rao Gundapu                                          Excellent   \n",
       "11734               Mb Raj                                         Very nice    \n",
       "11736          Ashok Pawar                                               good   \n",
       "11737          Tabish Khan                                    Simply awesome    \n",
       "11739           The Indian                                          Excellent   \n",
       "\n",
       "       score  thumbsUpCount                   at             app  \n",
       "1          5              0  2021-11-18 16:43:34  GooglePayIndia  \n",
       "2          5              0  2021-11-18 16:12:42  GooglePayIndia  \n",
       "7          5             11  2021-11-18 14:05:44  GooglePayIndia  \n",
       "8          5              0  2021-11-18 13:38:21  GooglePayIndia  \n",
       "10         5              0  2021-11-18 13:01:58  GooglePayIndia  \n",
       "...      ...            ...                  ...             ...  \n",
       "11733      5              0  2021-11-10 15:28:48   PhonePayIndia  \n",
       "11734      5              0  2021-11-10 15:28:12   PhonePayIndia  \n",
       "11736      5              0  2021-11-10 15:27:29   PhonePayIndia  \n",
       "11737      5              0  2021-11-10 15:27:27   PhonePayIndia  \n",
       "11739      5              0  2021-11-10 15:23:32   PhonePayIndia  \n",
       "\n",
       "[126327 rows x 6 columns]"
      ]
     },
     "execution_count": 111,
     "metadata": {},
     "output_type": "execute_result"
    }
   ],
   "source": [
    "data5"
   ]
  },
  {
   "cell_type": "code",
   "execution_count": 112,
   "metadata": {},
   "outputs": [],
   "source": [
    "for i in range(1,15):\n",
    "    P.append(tok.index_word[i])"
   ]
  },
  {
   "cell_type": "code",
   "execution_count": 113,
   "metadata": {},
   "outputs": [
    {
     "data": {
      "text/plain": [
       "['good',\n",
       " 'nice',\n",
       " 'very',\n",
       " 'i',\n",
       " 'best',\n",
       " 'easy',\n",
       " 'super',\n",
       " 'excellent',\n",
       " 'use',\n",
       " 'great',\n",
       " 'payment',\n",
       " 'fast',\n",
       " 'love',\n",
       " 'service']"
      ]
     },
     "execution_count": 113,
     "metadata": {},
     "output_type": "execute_result"
    }
   ],
   "source": [
    "P"
   ]
  },
  {
   "cell_type": "code",
   "execution_count": 114,
   "metadata": {},
   "outputs": [],
   "source": [
    "for word in P:\n",
    "    CNT.append(tok.word_counts[word])"
   ]
  },
  {
   "cell_type": "code",
   "execution_count": 115,
   "metadata": {},
   "outputs": [
    {
     "data": {
      "image/png": "[encoded data removed]",
      "text/plain": [
       "<Figure size 1008x576 with 1 Axes>"
      ]
     },
     "metadata": {
      "needs_background": "light"
     },
     "output_type": "display_data"
    }
   ],
   "source": [
    "plt.figure(figsize=(14,8))\n",
    "plt.bar(P,CNT,color='green')\n",
    "plt.title('Most Positive words')\n",
    "plt.xlabel('Positive word')\n",
    "plt.ylabel('Frequency')\n",
    "plt.show()"
   ]
  },
  {
   "cell_type": "code",
   "execution_count": 116,
   "metadata": {},
   "outputs": [
    {
     "data": {
      "application/vnd.plotly.v1+json": {
       "config": {
        "plotlyServerURL": "https://plot.ly"
       },
       "data": [
        {
         "alignmentgroup": "True",
         "hovertemplate": "Positive Word=%{x}<br>Count=%{y}<extra></extra>",
         "legendgroup": "",
         "marker": {
          "color": "#636efa",
          "pattern": {
           "shape": ""
          }
         },
         "name": "",
         "offsetgroup": "",
         "orientation": "v",
         "showlegend": false,
         "textposition": "auto",
         "type": "bar",
         "x": [
          "good",
          "nice",
          "very",
          "i",
          "best",
          "easy",
          "super",
          "excellent",
          "use",
          "great",
          "payment",
          "fast",
          "love",
          "service"
         ],
         "xaxis": "x",
         "y": [
          34402,
          18350,
          10016,
          7830,
          7039,
          6352,
          6086,
          4979,
          4705,
          4609,
          4571,
          3681,
          3458,
          3233
         ],
         "yaxis": "y"
        }
       ],
       "layout": {
        "barmode": "relative",
        "legend": {
         "tracegroupgap": 0
        },
        "template": {
         "data": {
          "bar": [
           {
            "error_x": {
             "color": "#2a3f5f"
            },
            "error_y": {
             "color": "#2a3f5f"
            },
            "marker": {
             "line": {
              "color": "#E5ECF6",
              "width": 0.5
             },
             "pattern": {
              "fillmode": "overlay",
              "size": 10,
              "solidity": 0.2
             }
            },
            "type": "bar"
           }
          ],
          "barpolar": [
           {
            "marker": {
             "line": {
              "color": "#E5ECF6",
              "width": 0.5
             },
             "pattern": {
              "fillmode": "overlay",
              "size": 10,
              "solidity": 0.2
             }
            },
            "type": "barpolar"
           }
          ],
          "carpet": [
           {
            "aaxis": {
             "endlinecolor": "#2a3f5f",
             "gridcolor": "white",
             "linecolor": "white",
             "minorgridcolor": "white",
             "startlinecolor": "#2a3f5f"
            },
            "baxis": {
             "endlinecolor": "#2a3f5f",
             "gridcolor": "white",
             "linecolor": "white",
             "minorgridcolor": "white",
             "startlinecolor": "#2a3f5f"
            },
            "type": "carpet"
           }
          ],
          "choropleth": [
           {
            "colorbar": {
             "outlinewidth": 0,
             "ticks": ""
            },
            "type": "choropleth"
           }
          ],
          "contour": [
           {
            "colorbar": {
             "outlinewidth": 0,
             "ticks": ""
            },
            "colorscale": [
             [
              0,
              "#0d0887"
             ],
             [
              0.1111111111111111,
              "#46039f"
             ],
             [
              0.2222222222222222,
              "#7201a8"
             ],
             [
              0.3333333333333333,
              "#9c179e"
             ],
             [
              0.4444444444444444,
              "#bd3786"
             ],
             [
              0.5555555555555556,
              "#d8576b"
             ],
             [
              0.6666666666666666,
              "#ed7953"
             ],
             [
              0.7777777777777778,
              "#fb9f3a"
             ],
             [
              0.8888888888888888,
              "#fdca26"
             ],
             [
              1,
              "#f0f921"
             ]
            ],
            "type": "contour"
           }
          ],
          "contourcarpet": [
           {
            "colorbar": {
             "outlinewidth": 0,
             "ticks": ""
            },
            "type": "contourcarpet"
           }
          ],
          "heatmap": [
           {
            "colorbar": {
             "outlinewidth": 0,
             "ticks": ""
            },
            "colorscale": [
             [
              0,
              "#0d0887"
             ],
             [
              0.1111111111111111,
              "#46039f"
             ],
             [
              0.2222222222222222,
              "#7201a8"
             ],
             [
              0.3333333333333333,
              "#9c179e"
             ],
             [
              0.4444444444444444,
              "#bd3786"
             ],
             [
              0.5555555555555556,
              "#d8576b"
             ],
             [
              0.6666666666666666,
              "#ed7953"
             ],
             [
              0.7777777777777778,
              "#fb9f3a"
             ],
             [
              0.8888888888888888,
              "#fdca26"
             ],
             [
              1,
              "#f0f921"
             ]
            ],
            "type": "heatmap"
           }
          ],
          "heatmapgl": [
           {
            "colorbar": {
             "outlinewidth": 0,
             "ticks": ""
            },
            "colorscale": [
             [
              0,
              "#0d0887"
             ],
             [
              0.1111111111111111,
              "#46039f"
             ],
             [
              0.2222222222222222,
              "#7201a8"
             ],
             [
              0.3333333333333333,
              "#9c179e"
             ],
             [
              0.4444444444444444,
              "#bd3786"
             ],
             [
              0.5555555555555556,
              "#d8576b"
             ],
             [
              0.6666666666666666,
              "#ed7953"
             ],
             [
              0.7777777777777778,
              "#fb9f3a"
             ],
             [
              0.8888888888888888,
              "#fdca26"
             ],
             [
              1,
              "#f0f921"
             ]
            ],
            "type": "heatmapgl"
           }
          ],
          "histogram": [
           {
            "marker": {
             "pattern": {
              "fillmode": "overlay",
              "size": 10,
              "solidity": 0.2
             }
            },
            "type": "histogram"
           }
          ],
          "histogram2d": [
           {
            "colorbar": {
             "outlinewidth": 0,
             "ticks": ""
            },
            "colorscale": [
             [
              0,
              "#0d0887"
             ],
             [
              0.1111111111111111,
              "#46039f"
             ],
             [
              0.2222222222222222,
              "#7201a8"
             ],
             [
              0.3333333333333333,
              "#9c179e"
             ],
             [
              0.4444444444444444,
              "#bd3786"
             ],
             [
              0.5555555555555556,
              "#d8576b"
             ],
             [
              0.6666666666666666,
              "#ed7953"
             ],
             [
              0.7777777777777778,
              "#fb9f3a"
             ],
             [
              0.8888888888888888,
              "#fdca26"
             ],
             [
              1,
              "#f0f921"
             ]
            ],
            "type": "histogram2d"
           }
          ],
          "histogram2dcontour": [
           {
            "colorbar": {
             "outlinewidth": 0,
             "ticks": ""
            },
            "colorscale": [
             [
              0,
              "#0d0887"
             ],
             [
              0.1111111111111111,
              "#46039f"
             ],
             [
              0.2222222222222222,
              "#7201a8"
             ],
             [
              0.3333333333333333,
              "#9c179e"
             ],
             [
              0.4444444444444444,
              "#bd3786"
             ],
             [
              0.5555555555555556,
              "#d8576b"
             ],
             [
              0.6666666666666666,
              "#ed7953"
             ],
             [
              0.7777777777777778,
              "#fb9f3a"
             ],
             [
              0.8888888888888888,
              "#fdca26"
             ],
             [
              1,
              "#f0f921"
             ]
            ],
            "type": "histogram2dcontour"
           }
          ],
          "mesh3d": [
           {
            "colorbar": {
             "outlinewidth": 0,
             "ticks": ""
            },
            "type": "mesh3d"
           }
          ],
          "parcoords": [
           {
            "line": {
             "colorbar": {
              "outlinewidth": 0,
              "ticks": ""
             }
            },
            "type": "parcoords"
           }
          ],
          "pie": [
           {
            "automargin": true,
            "type": "pie"
           }
          ],
          "scatter": [
           {
            "marker": {
             "colorbar": {
              "outlinewidth": 0,
              "ticks": ""
             }
            },
            "type": "scatter"
           }
          ],
          "scatter3d": [
           {
            "line": {
             "colorbar": {
              "outlinewidth": 0,
              "ticks": ""
             }
            },
            "marker": {
             "colorbar": {
              "outlinewidth": 0,
              "ticks": ""
             }
            },
            "type": "scatter3d"
           }
          ],
          "scattercarpet": [
           {
            "marker": {
             "colorbar": {
              "outlinewidth": 0,
              "ticks": ""
             }
            },
            "type": "scattercarpet"
           }
          ],
          "scattergeo": [
           {
            "marker": {
             "colorbar": {
              "outlinewidth": 0,
              "ticks": ""
             }
            },
            "type": "scattergeo"
           }
          ],
          "scattergl": [
           {
            "marker": {
             "colorbar": {
              "outlinewidth": 0,
              "ticks": ""
             }
            },
            "type": "scattergl"
           }
          ],
          "scattermapbox": [
           {
            "marker": {
             "colorbar": {
              "outlinewidth": 0,
              "ticks": ""
             }
            },
            "type": "scattermapbox"
           }
          ],
          "scatterpolar": [
           {
            "marker": {
             "colorbar": {
              "outlinewidth": 0,
              "ticks": ""
             }
            },
            "type": "scatterpolar"
           }
          ],
          "scatterpolargl": [
           {
            "marker": {
             "colorbar": {
              "outlinewidth": 0,
              "ticks": ""
             }
            },
            "type": "scatterpolargl"
           }
          ],
          "scatterternary": [
           {
            "marker": {
             "colorbar": {
              "outlinewidth": 0,
              "ticks": ""
             }
            },
            "type": "scatterternary"
           }
          ],
          "surface": [
           {
            "colorbar": {
             "outlinewidth": 0,
             "ticks": ""
            },
            "colorscale": [
             [
              0,
              "#0d0887"
             ],
             [
              0.1111111111111111,
              "#46039f"
             ],
             [
              0.2222222222222222,
              "#7201a8"
             ],
             [
              0.3333333333333333,
              "#9c179e"
             ],
             [
              0.4444444444444444,
              "#bd3786"
             ],
             [
              0.5555555555555556,
              "#d8576b"
             ],
             [
              0.6666666666666666,
              "#ed7953"
             ],
             [
              0.7777777777777778,
              "#fb9f3a"
             ],
             [
              0.8888888888888888,
              "#fdca26"
             ],
             [
              1,
              "#f0f921"
             ]
            ],
            "type": "surface"
           }
          ],
          "table": [
           {
            "cells": {
             "fill": {
              "color": "#EBF0F8"
             },
             "line": {
              "color": "white"
             }
            },
            "header": {
             "fill": {
              "color": "#C8D4E3"
             },
             "line": {
              "color": "white"
             }
            },
            "type": "table"
           }
          ]
         },
         "layout": {
          "annotationdefaults": {
           "arrowcolor": "#2a3f5f",
           "arrowhead": 0,
           "arrowwidth": 1
          },
          "autotypenumbers": "strict",
          "coloraxis": {
           "colorbar": {
            "outlinewidth": 0,
            "ticks": ""
           }
          },
          "colorscale": {
           "diverging": [
            [
             0,
             "#8e0152"
            ],
            [
             0.1,
             "#c51b7d"
            ],
            [
             0.2,
             "#de77ae"
            ],
            [
             0.3,
             "#f1b6da"
            ],
            [
             0.4,
             "#fde0ef"
            ],
            [
             0.5,
             "#f7f7f7"
            ],
            [
             0.6,
             "#e6f5d0"
            ],
            [
             0.7,
             "#b8e186"
            ],
            [
             0.8,
             "#7fbc41"
            ],
            [
             0.9,
             "#4d9221"
            ],
            [
             1,
             "#276419"
            ]
           ],
           "sequential": [
            [
             0,
             "#0d0887"
            ],
            [
             0.1111111111111111,
             "#46039f"
            ],
            [
             0.2222222222222222,
             "#7201a8"
            ],
            [
             0.3333333333333333,
             "#9c179e"
            ],
            [
             0.4444444444444444,
             "#bd3786"
            ],
            [
             0.5555555555555556,
             "#d8576b"
            ],
            [
             0.6666666666666666,
             "#ed7953"
            ],
            [
             0.7777777777777778,
             "#fb9f3a"
            ],
            [
             0.8888888888888888,
             "#fdca26"
            ],
            [
             1,
             "#f0f921"
            ]
           ],
           "sequentialminus": [
            [
             0,
             "#0d0887"
            ],
            [
             0.1111111111111111,
             "#46039f"
            ],
            [
             0.2222222222222222,
             "#7201a8"
            ],
            [
             0.3333333333333333,
             "#9c179e"
            ],
            [
             0.4444444444444444,
             "#bd3786"
            ],
            [
             0.5555555555555556,
             "#d8576b"
            ],
            [
             0.6666666666666666,
             "#ed7953"
            ],
            [
             0.7777777777777778,
             "#fb9f3a"
            ],
            [
             0.8888888888888888,
             "#fdca26"
            ],
            [
             1,
             "#f0f921"
            ]
           ]
          },
          "colorway": [
           "#636efa",
           "#EF553B",
           "#00cc96",
           "#ab63fa",
           "#FFA15A",
           "#19d3f3",
           "#FF6692",
           "#B6E880",
           "#FF97FF",
           "#FECB52"
          ],
          "font": {
           "color": "#2a3f5f"
          },
          "geo": {
           "bgcolor": "white",
           "lakecolor": "white",
           "landcolor": "#E5ECF6",
           "showlakes": true,
           "showland": true,
           "subunitcolor": "white"
          },
          "hoverlabel": {
           "align": "left"
          },
          "hovermode": "closest",
          "mapbox": {
           "style": "light"
          },
          "paper_bgcolor": "white",
          "plot_bgcolor": "#E5ECF6",
          "polar": {
           "angularaxis": {
            "gridcolor": "white",
            "linecolor": "white",
            "ticks": ""
           },
           "bgcolor": "#E5ECF6",
           "radialaxis": {
            "gridcolor": "white",
            "linecolor": "white",
            "ticks": ""
           }
          },
          "scene": {
           "xaxis": {
            "backgroundcolor": "#E5ECF6",
            "gridcolor": "white",
            "gridwidth": 2,
            "linecolor": "white",
            "showbackground": true,
            "ticks": "",
            "zerolinecolor": "white"
           },
           "yaxis": {
            "backgroundcolor": "#E5ECF6",
            "gridcolor": "white",
            "gridwidth": 2,
            "linecolor": "white",
            "showbackground": true,
            "ticks": "",
            "zerolinecolor": "white"
           },
           "zaxis": {
            "backgroundcolor": "#E5ECF6",
            "gridcolor": "white",
            "gridwidth": 2,
            "linecolor": "white",
            "showbackground": true,
            "ticks": "",
            "zerolinecolor": "white"
           }
          },
          "shapedefaults": {
           "line": {
            "color": "#2a3f5f"
           }
          },
          "ternary": {
           "aaxis": {
            "gridcolor": "white",
            "linecolor": "white",
            "ticks": ""
           },
           "baxis": {
            "gridcolor": "white",
            "linecolor": "white",
            "ticks": ""
           },
           "bgcolor": "#E5ECF6",
           "caxis": {
            "gridcolor": "white",
            "linecolor": "white",
            "ticks": ""
           }
          },
          "title": {
           "x": 0.05
          },
          "xaxis": {
           "automargin": true,
           "gridcolor": "white",
           "linecolor": "white",
           "ticks": "",
           "title": {
            "standoff": 15
           },
           "zerolinecolor": "white",
           "zerolinewidth": 2
          },
          "yaxis": {
           "automargin": true,
           "gridcolor": "white",
           "linecolor": "white",
           "ticks": "",
           "title": {
            "standoff": 15
           },
           "zerolinecolor": "white",
           "zerolinewidth": 2
          }
         }
        },
        "title": {
         "text": "Positive Words Count"
        },
        "xaxis": {
         "anchor": "y",
         "domain": [
          0,
          1
         ],
         "title": {
          "text": "Positive Word"
         }
        },
        "yaxis": {
         "anchor": "x",
         "domain": [
          0,
          1
         ],
         "title": {
          "text": "Count"
         }
        }
       }
      }
     },
     "metadata": {},
     "output_type": "display_data"
    }
   ],
   "source": [
    "'''plt.figure(figsize=(14,8))\n",
    "plt.bar(P,CNT,color='green')\n",
    "plt.title('Most Positive words')\n",
    "plt.xlabel('Positive word')\n",
    "plt.ylabel('Frequency')\n",
    "plt.show()'''\n",
    "import plotly.express as dx\n",
    "dx.bar(x=P, y=CNT,labels={\n",
    "    \"x\":\"Positive Word\",\n",
    "    \"y\":\"Count\"},\n",
    "    title=\"Positive Words Count\")"
   ]
  },
  {
   "cell_type": "code",
   "execution_count": 117,
   "metadata": {},
   "outputs": [],
   "source": [
    "data1 = data[(data['score']==1)]\n",
    "corp1 = data1['content'].values\n",
    "tokn = Tokenizer(num_words=250, split=' ')\n",
    "tokn.fit_on_texts(data1['content'].values)\n",
    "for n in range(1,15):\n",
    "    N.append(tokn.index_word[n])\n",
    "\n",
    "for word in N:\n",
    "    CNT1.append(tokn.word_counts[word])"
   ]
  },
  {
   "cell_type": "code",
   "execution_count": 118,
   "metadata": {},
   "outputs": [
    {
     "data": {
      "image/png": "[encoded data removed]",
      "text/plain": [
       "<Figure size 1008x576 with 1 Axes>"
      ]
     },
     "metadata": {
      "needs_background": "light"
     },
     "output_type": "display_data"
    }
   ],
   "source": [
    "plt.figure(figsize=(14,8))\n",
    "plt.bar(N,CNT1,color='red')\n",
    "plt.title('Most Negative words')\n",
    "plt.xlabel('Negative word')\n",
    "plt.ylabel('Frequency')\n",
    "plt.show()"
   ]
  },
  {
   "cell_type": "code",
   "execution_count": 119,
   "metadata": {},
   "outputs": [
    {
     "data": {
      "application/vnd.plotly.v1+json": {
       "config": {
        "plotlyServerURL": "https://plot.ly"
       },
       "data": [
        {
         "alignmentgroup": "True",
         "hovertemplate": "Positive Word=%{x}<br>Count=%{y}<extra></extra>",
         "legendgroup": "",
         "marker": {
          "color": "#636efa",
          "pattern": {
           "shape": ""
          }
         },
         "name": "",
         "offsetgroup": "",
         "orientation": "v",
         "showlegend": false,
         "textposition": "auto",
         "type": "bar",
         "x": [
          "i",
          "money",
          "card",
          "pay",
          "use",
          "account",
          "customer",
          "payment",
          "worst",
          "paytm",
          "service",
          "google",
          "time",
          "bad"
         ],
         "xaxis": "x",
         "y": [
          12607,
          4006,
          3725,
          3464,
          3353,
          3065,
          2935,
          2763,
          2673,
          2625,
          2574,
          2525,
          2408,
          2344
         ],
         "yaxis": "y"
        }
       ],
       "layout": {
        "barmode": "relative",
        "legend": {
         "tracegroupgap": 0
        },
        "template": {
         "data": {
          "bar": [
           {
            "error_x": {
             "color": "#2a3f5f"
            },
            "error_y": {
             "color": "#2a3f5f"
            },
            "marker": {
             "line": {
              "color": "#E5ECF6",
              "width": 0.5
             },
             "pattern": {
              "fillmode": "overlay",
              "size": 10,
              "solidity": 0.2
             }
            },
            "type": "bar"
           }
          ],
          "barpolar": [
           {
            "marker": {
             "line": {
              "color": "#E5ECF6",
              "width": 0.5
             },
             "pattern": {
              "fillmode": "overlay",
              "size": 10,
              "solidity": 0.2
             }
            },
            "type": "barpolar"
           }
          ],
          "carpet": [
           {
            "aaxis": {
             "endlinecolor": "#2a3f5f",
             "gridcolor": "white",
             "linecolor": "white",
             "minorgridcolor": "white",
             "startlinecolor": "#2a3f5f"
            },
            "baxis": {
             "endlinecolor": "#2a3f5f",
             "gridcolor": "white",
             "linecolor": "white",
             "minorgridcolor": "white",
             "startlinecolor": "#2a3f5f"
            },
            "type": "carpet"
           }
          ],
          "choropleth": [
           {
            "colorbar": {
             "outlinewidth": 0,
             "ticks": ""
            },
            "type": "choropleth"
           }
          ],
          "contour": [
           {
            "colorbar": {
             "outlinewidth": 0,
             "ticks": ""
            },
            "colorscale": [
             [
              0,
              "#0d0887"
             ],
             [
              0.1111111111111111,
              "#46039f"
             ],
             [
              0.2222222222222222,
              "#7201a8"
             ],
             [
              0.3333333333333333,
              "#9c179e"
             ],
             [
              0.4444444444444444,
              "#bd3786"
             ],
             [
              0.5555555555555556,
              "#d8576b"
             ],
             [
              0.6666666666666666,
              "#ed7953"
             ],
             [
              0.7777777777777778,
              "#fb9f3a"
             ],
             [
              0.8888888888888888,
              "#fdca26"
             ],
             [
              1,
              "#f0f921"
             ]
            ],
            "type": "contour"
           }
          ],
          "contourcarpet": [
           {
            "colorbar": {
             "outlinewidth": 0,
             "ticks": ""
            },
            "type": "contourcarpet"
           }
          ],
          "heatmap": [
           {
            "colorbar": {
             "outlinewidth": 0,
             "ticks": ""
            },
            "colorscale": [
             [
              0,
              "#0d0887"
             ],
             [
              0.1111111111111111,
              "#46039f"
             ],
             [
              0.2222222222222222,
              "#7201a8"
             ],
             [
              0.3333333333333333,
              "#9c179e"
             ],
             [
              0.4444444444444444,
              "#bd3786"
             ],
             [
              0.5555555555555556,
              "#d8576b"
             ],
             [
              0.6666666666666666,
              "#ed7953"
             ],
             [
              0.7777777777777778,
              "#fb9f3a"
             ],
             [
              0.8888888888888888,
              "#fdca26"
             ],
             [
              1,
              "#f0f921"
             ]
            ],
            "type": "heatmap"
           }
          ],
          "heatmapgl": [
           {
            "colorbar": {
             "outlinewidth": 0,
             "ticks": ""
            },
            "colorscale": [
             [
              0,
              "#0d0887"
             ],
             [
              0.1111111111111111,
              "#46039f"
             ],
             [
              0.2222222222222222,
              "#7201a8"
             ],
             [
              0.3333333333333333,
              "#9c179e"
             ],
             [
              0.4444444444444444,
              "#bd3786"
             ],
             [
              0.5555555555555556,
              "#d8576b"
             ],
             [
              0.6666666666666666,
              "#ed7953"
             ],
             [
              0.7777777777777778,
              "#fb9f3a"
             ],
             [
              0.8888888888888888,
              "#fdca26"
             ],
             [
              1,
              "#f0f921"
             ]
            ],
            "type": "heatmapgl"
           }
          ],
          "histogram": [
           {
            "marker": {
             "pattern": {
              "fillmode": "overlay",
              "size": 10,
              "solidity": 0.2
             }
            },
            "type": "histogram"
           }
          ],
          "histogram2d": [
           {
            "colorbar": {
             "outlinewidth": 0,
             "ticks": ""
            },
            "colorscale": [
             [
              0,
              "#0d0887"
             ],
             [
              0.1111111111111111,
              "#46039f"
             ],
             [
              0.2222222222222222,
              "#7201a8"
             ],
             [
              0.3333333333333333,
              "#9c179e"
             ],
             [
              0.4444444444444444,
              "#bd3786"
             ],
             [
              0.5555555555555556,
              "#d8576b"
             ],
             [
              0.6666666666666666,
              "#ed7953"
             ],
             [
              0.7777777777777778,
              "#fb9f3a"
             ],
             [
              0.8888888888888888,
              "#fdca26"
             ],
             [
              1,
              "#f0f921"
             ]
            ],
            "type": "histogram2d"
           }
          ],
          "histogram2dcontour": [
           {
            "colorbar": {
             "outlinewidth": 0,
             "ticks": ""
            },
            "colorscale": [
             [
              0,
              "#0d0887"
             ],
             [
              0.1111111111111111,
              "#46039f"
             ],
             [
              0.2222222222222222,
              "#7201a8"
             ],
             [
              0.3333333333333333,
              "#9c179e"
             ],
             [
              0.4444444444444444,
              "#bd3786"
             ],
             [
              0.5555555555555556,
              "#d8576b"
             ],
             [
              0.6666666666666666,
              "#ed7953"
             ],
             [
              0.7777777777777778,
              "#fb9f3a"
             ],
             [
              0.8888888888888888,
              "#fdca26"
             ],
             [
              1,
              "#f0f921"
             ]
            ],
            "type": "histogram2dcontour"
           }
          ],
          "mesh3d": [
           {
            "colorbar": {
             "outlinewidth": 0,
             "ticks": ""
            },
            "type": "mesh3d"
           }
          ],
          "parcoords": [
           {
            "line": {
             "colorbar": {
              "outlinewidth": 0,
              "ticks": ""
             }
            },
            "type": "parcoords"
           }
          ],
          "pie": [
           {
            "automargin": true,
            "type": "pie"
           }
          ],
          "scatter": [
           {
            "marker": {
             "colorbar": {
              "outlinewidth": 0,
              "ticks": ""
             }
            },
            "type": "scatter"
           }
          ],
          "scatter3d": [
           {
            "line": {
             "colorbar": {
              "outlinewidth": 0,
              "ticks": ""
             }
            },
            "marker": {
             "colorbar": {
              "outlinewidth": 0,
              "ticks": ""
             }
            },
            "type": "scatter3d"
           }
          ],
          "scattercarpet": [
           {
            "marker": {
             "colorbar": {
              "outlinewidth": 0,
              "ticks": ""
             }
            },
            "type": "scattercarpet"
           }
          ],
          "scattergeo": [
           {
            "marker": {
             "colorbar": {
              "outlinewidth": 0,
              "ticks": ""
             }
            },
            "type": "scattergeo"
           }
          ],
          "scattergl": [
           {
            "marker": {
             "colorbar": {
              "outlinewidth": 0,
              "ticks": ""
             }
            },
            "type": "scattergl"
           }
          ],
          "scattermapbox": [
           {
            "marker": {
             "colorbar": {
              "outlinewidth": 0,
              "ticks": ""
             }
            },
            "type": "scattermapbox"
           }
          ],
          "scatterpolar": [
           {
            "marker": {
             "colorbar": {
              "outlinewidth": 0,
              "ticks": ""
             }
            },
            "type": "scatterpolar"
           }
          ],
          "scatterpolargl": [
           {
            "marker": {
             "colorbar": {
              "outlinewidth": 0,
              "ticks": ""
             }
            },
            "type": "scatterpolargl"
           }
          ],
          "scatterternary": [
           {
            "marker": {
             "colorbar": {
              "outlinewidth": 0,
              "ticks": ""
             }
            },
            "type": "scatterternary"
           }
          ],
          "surface": [
           {
            "colorbar": {
             "outlinewidth": 0,
             "ticks": ""
            },
            "colorscale": [
             [
              0,
              "#0d0887"
             ],
             [
              0.1111111111111111,
              "#46039f"
             ],
             [
              0.2222222222222222,
              "#7201a8"
             ],
             [
              0.3333333333333333,
              "#9c179e"
             ],
             [
              0.4444444444444444,
              "#bd3786"
             ],
             [
              0.5555555555555556,
              "#d8576b"
             ],
             [
              0.6666666666666666,
              "#ed7953"
             ],
             [
              0.7777777777777778,
              "#fb9f3a"
             ],
             [
              0.8888888888888888,
              "#fdca26"
             ],
             [
              1,
              "#f0f921"
             ]
            ],
            "type": "surface"
           }
          ],
          "table": [
           {
            "cells": {
             "fill": {
              "color": "#EBF0F8"
             },
             "line": {
              "color": "white"
             }
            },
            "header": {
             "fill": {
              "color": "#C8D4E3"
             },
             "line": {
              "color": "white"
             }
            },
            "type": "table"
           }
          ]
         },
         "layout": {
          "annotationdefaults": {
           "arrowcolor": "#2a3f5f",
           "arrowhead": 0,
           "arrowwidth": 1
          },
          "autotypenumbers": "strict",
          "coloraxis": {
           "colorbar": {
            "outlinewidth": 0,
            "ticks": ""
           }
          },
          "colorscale": {
           "diverging": [
            [
             0,
             "#8e0152"
            ],
            [
             0.1,
             "#c51b7d"
            ],
            [
             0.2,
             "#de77ae"
            ],
            [
             0.3,
             "#f1b6da"
            ],
            [
             0.4,
             "#fde0ef"
            ],
            [
             0.5,
             "#f7f7f7"
            ],
            [
             0.6,
             "#e6f5d0"
            ],
            [
             0.7,
             "#b8e186"
            ],
            [
             0.8,
             "#7fbc41"
            ],
            [
             0.9,
             "#4d9221"
            ],
            [
             1,
             "#276419"
            ]
           ],
           "sequential": [
            [
             0,
             "#0d0887"
            ],
            [
             0.1111111111111111,
             "#46039f"
            ],
            [
             0.2222222222222222,
             "#7201a8"
            ],
            [
             0.3333333333333333,
             "#9c179e"
            ],
            [
             0.4444444444444444,
             "#bd3786"
            ],
            [
             0.5555555555555556,
             "#d8576b"
            ],
            [
             0.6666666666666666,
             "#ed7953"
            ],
            [
             0.7777777777777778,
             "#fb9f3a"
            ],
            [
             0.8888888888888888,
             "#fdca26"
            ],
            [
             1,
             "#f0f921"
            ]
           ],
           "sequentialminus": [
            [
             0,
             "#0d0887"
            ],
            [
             0.1111111111111111,
             "#46039f"
            ],
            [
             0.2222222222222222,
             "#7201a8"
            ],
            [
             0.3333333333333333,
             "#9c179e"
            ],
            [
             0.4444444444444444,
             "#bd3786"
            ],
            [
             0.5555555555555556,
             "#d8576b"
            ],
            [
             0.6666666666666666,
             "#ed7953"
            ],
            [
             0.7777777777777778,
             "#fb9f3a"
            ],
            [
             0.8888888888888888,
             "#fdca26"
            ],
            [
             1,
             "#f0f921"
            ]
           ]
          },
          "colorway": [
           "#636efa",
           "#EF553B",
           "#00cc96",
           "#ab63fa",
           "#FFA15A",
           "#19d3f3",
           "#FF6692",
           "#B6E880",
           "#FF97FF",
           "#FECB52"
          ],
          "font": {
           "color": "#2a3f5f"
          },
          "geo": {
           "bgcolor": "white",
           "lakecolor": "white",
           "landcolor": "#E5ECF6",
           "showlakes": true,
           "showland": true,
           "subunitcolor": "white"
          },
          "hoverlabel": {
           "align": "left"
          },
          "hovermode": "closest",
          "mapbox": {
           "style": "light"
          },
          "paper_bgcolor": "white",
          "plot_bgcolor": "#E5ECF6",
          "polar": {
           "angularaxis": {
            "gridcolor": "white",
            "linecolor": "white",
            "ticks": ""
           },
           "bgcolor": "#E5ECF6",
           "radialaxis": {
            "gridcolor": "white",
            "linecolor": "white",
            "ticks": ""
           }
          },
          "scene": {
           "xaxis": {
            "backgroundcolor": "#E5ECF6",
            "gridcolor": "white",
            "gridwidth": 2,
            "linecolor": "white",
            "showbackground": true,
            "ticks": "",
            "zerolinecolor": "white"
           },
           "yaxis": {
            "backgroundcolor": "#E5ECF6",
            "gridcolor": "white",
            "gridwidth": 2,
            "linecolor": "white",
            "showbackground": true,
            "ticks": "",
            "zerolinecolor": "white"
           },
           "zaxis": {
            "backgroundcolor": "#E5ECF6",
            "gridcolor": "white",
            "gridwidth": 2,
            "linecolor": "white",
            "showbackground": true,
            "ticks": "",
            "zerolinecolor": "white"
           }
          },
          "shapedefaults": {
           "line": {
            "color": "#2a3f5f"
           }
          },
          "ternary": {
           "aaxis": {
            "gridcolor": "white",
            "linecolor": "white",
            "ticks": ""
           },
           "baxis": {
            "gridcolor": "white",
            "linecolor": "white",
            "ticks": ""
           },
           "bgcolor": "#E5ECF6",
           "caxis": {
            "gridcolor": "white",
            "linecolor": "white",
            "ticks": ""
           }
          },
          "title": {
           "x": 0.05
          },
          "xaxis": {
           "automargin": true,
           "gridcolor": "white",
           "linecolor": "white",
           "ticks": "",
           "title": {
            "standoff": 15
           },
           "zerolinecolor": "white",
           "zerolinewidth": 2
          },
          "yaxis": {
           "automargin": true,
           "gridcolor": "white",
           "linecolor": "white",
           "ticks": "",
           "title": {
            "standoff": 15
           },
           "zerolinecolor": "white",
           "zerolinewidth": 2
          }
         }
        },
        "title": {
         "text": "Negative Words Count"
        },
        "xaxis": {
         "anchor": "y",
         "domain": [
          0,
          1
         ],
         "title": {
          "text": "Positive Word"
         }
        },
        "yaxis": {
         "anchor": "x",
         "domain": [
          0,
          1
         ],
         "title": {
          "text": "Count"
         }
        }
       }
      }
     },
     "metadata": {},
     "output_type": "display_data"
    }
   ],
   "source": [
    "dx.bar(x=N, y=CNT1,labels={\n",
    "    \"x\":\"Positive Word\",\n",
    "    \"y\":\"Count\"},\n",
    "    title=\"Negative Words Count\")"
   ]
  },
  {
   "cell_type": "code",
   "execution_count": 120,
   "metadata": {},
   "outputs": [],
   "source": [
    "data[\"New_date\"] = pd.to_datetime(data['at'], format=\"%Y-%m-%d %H:%M:%S\")"
   ]
  },
  {
   "cell_type": "code",
   "execution_count": 121,
   "metadata": {},
   "outputs": [],
   "source": [
    "data['Month'] = data['New_date'].dt.month_name()\n",
    "data['Year'] = data['New_date'].dt.year\n",
    "data['date'] = data['New_date'].dt.day\n",
    "data['hour'] = data['New_date'].dt.hour\n",
    "data['Minutes'] = data['New_date'].dt.minute\n",
    "data['Seconds'] = data['New_date'].dt.second\n"
   ]
  },
  {
   "cell_type": "code",
   "execution_count": 122,
   "metadata": {},
   "outputs": [
    {
     "data": {
      "text/html": [
       "<div>\n",
       "<style scoped>\n",
       "    .dataframe tbody tr th:only-of-type {\n",
       "        vertical-align: middle;\n",
       "    }\n",
       "\n",
       "    .dataframe tbody tr th {\n",
       "        vertical-align: top;\n",
       "    }\n",
       "\n",
       "    .dataframe thead th {\n",
       "        text-align: right;\n",
       "    }\n",
       "</style>\n",
       "<table border=\"1\" class=\"dataframe\">\n",
       "  <thead>\n",
       "    <tr style=\"text-align: right;\">\n",
       "      <th></th>\n",
       "      <th>userName</th>\n",
       "      <th>content</th>\n",
       "      <th>score</th>\n",
       "      <th>thumbsUpCount</th>\n",
       "      <th>at</th>\n",
       "      <th>app</th>\n",
       "      <th>New_date</th>\n",
       "      <th>Month</th>\n",
       "      <th>Year</th>\n",
       "      <th>date</th>\n",
       "      <th>hour</th>\n",
       "      <th>Minutes</th>\n",
       "      <th>Seconds</th>\n",
       "    </tr>\n",
       "  </thead>\n",
       "  <tbody>\n",
       "    <tr>\n",
       "      <th>0</th>\n",
       "      <td>Len Pagnam</td>\n",
       "      <td>How add boarding pass I see pass tab</td>\n",
       "      <td>1</td>\n",
       "      <td>0</td>\n",
       "      <td>2021-11-18 17:03:06</td>\n",
       "      <td>GooglePayIndia</td>\n",
       "      <td>2021-11-18 17:03:06</td>\n",
       "      <td>November</td>\n",
       "      <td>2021</td>\n",
       "      <td>18</td>\n",
       "      <td>17</td>\n",
       "      <td>3</td>\n",
       "      <td>6</td>\n",
       "    </tr>\n",
       "    <tr>\n",
       "      <th>1</th>\n",
       "      <td>Benjamin Silva</td>\n",
       "      <td>Best</td>\n",
       "      <td>5</td>\n",
       "      <td>0</td>\n",
       "      <td>2021-11-18 16:43:34</td>\n",
       "      <td>GooglePayIndia</td>\n",
       "      <td>2021-11-18 16:43:34</td>\n",
       "      <td>November</td>\n",
       "      <td>2021</td>\n",
       "      <td>18</td>\n",
       "      <td>16</td>\n",
       "      <td>43</td>\n",
       "      <td>34</td>\n",
       "    </tr>\n",
       "    <tr>\n",
       "      <th>2</th>\n",
       "      <td>PARVESH MIAR</td>\n",
       "      <td>All ok</td>\n",
       "      <td>5</td>\n",
       "      <td>0</td>\n",
       "      <td>2021-11-18 16:12:42</td>\n",
       "      <td>GooglePayIndia</td>\n",
       "      <td>2021-11-18 16:12:42</td>\n",
       "      <td>November</td>\n",
       "      <td>2021</td>\n",
       "      <td>18</td>\n",
       "      <td>16</td>\n",
       "      <td>12</td>\n",
       "      <td>42</td>\n",
       "    </tr>\n",
       "    <tr>\n",
       "      <th>3</th>\n",
       "      <td>Mikko L.</td>\n",
       "      <td>Rasy use really But never ever \"baddata\" among...</td>\n",
       "      <td>3</td>\n",
       "      <td>0</td>\n",
       "      <td>2021-11-18 16:06:35</td>\n",
       "      <td>GooglePayIndia</td>\n",
       "      <td>2021-11-18 16:06:35</td>\n",
       "      <td>November</td>\n",
       "      <td>2021</td>\n",
       "      <td>18</td>\n",
       "      <td>16</td>\n",
       "      <td>6</td>\n",
       "      <td>35</td>\n",
       "    </tr>\n",
       "    <tr>\n",
       "      <th>4</th>\n",
       "      <td>A Google user</td>\n",
       "      <td>I still understand restricting certain legal a...</td>\n",
       "      <td>3</td>\n",
       "      <td>251</td>\n",
       "      <td>2021-11-18 15:48:08</td>\n",
       "      <td>GooglePayIndia</td>\n",
       "      <td>2021-11-18 15:48:08</td>\n",
       "      <td>November</td>\n",
       "      <td>2021</td>\n",
       "      <td>18</td>\n",
       "      <td>15</td>\n",
       "      <td>48</td>\n",
       "      <td>8</td>\n",
       "    </tr>\n",
       "    <tr>\n",
       "      <th>...</th>\n",
       "      <td>...</td>\n",
       "      <td>...</td>\n",
       "      <td>...</td>\n",
       "      <td>...</td>\n",
       "      <td>...</td>\n",
       "      <td>...</td>\n",
       "      <td>...</td>\n",
       "      <td>...</td>\n",
       "      <td>...</td>\n",
       "      <td>...</td>\n",
       "      <td>...</td>\n",
       "      <td>...</td>\n",
       "      <td>...</td>\n",
       "    </tr>\n",
       "    <tr>\n",
       "      <th>11736</th>\n",
       "      <td>Ashok Pawar</td>\n",
       "      <td>good</td>\n",
       "      <td>5</td>\n",
       "      <td>0</td>\n",
       "      <td>2021-11-10 15:27:29</td>\n",
       "      <td>PhonePayIndia</td>\n",
       "      <td>2021-11-10 15:27:29</td>\n",
       "      <td>November</td>\n",
       "      <td>2021</td>\n",
       "      <td>10</td>\n",
       "      <td>15</td>\n",
       "      <td>27</td>\n",
       "      <td>29</td>\n",
       "    </tr>\n",
       "    <tr>\n",
       "      <th>11737</th>\n",
       "      <td>Tabish Khan</td>\n",
       "      <td>Simply awesome</td>\n",
       "      <td>5</td>\n",
       "      <td>0</td>\n",
       "      <td>2021-11-10 15:27:27</td>\n",
       "      <td>PhonePayIndia</td>\n",
       "      <td>2021-11-10 15:27:27</td>\n",
       "      <td>November</td>\n",
       "      <td>2021</td>\n",
       "      <td>10</td>\n",
       "      <td>15</td>\n",
       "      <td>27</td>\n",
       "      <td>27</td>\n",
       "    </tr>\n",
       "    <tr>\n",
       "      <th>11738</th>\n",
       "      <td>Kiran Shinde Patil</td>\n",
       "      <td>Super</td>\n",
       "      <td>1</td>\n",
       "      <td>0</td>\n",
       "      <td>2021-11-10 15:26:55</td>\n",
       "      <td>PhonePayIndia</td>\n",
       "      <td>2021-11-10 15:26:55</td>\n",
       "      <td>November</td>\n",
       "      <td>2021</td>\n",
       "      <td>10</td>\n",
       "      <td>15</td>\n",
       "      <td>26</td>\n",
       "      <td>55</td>\n",
       "    </tr>\n",
       "    <tr>\n",
       "      <th>11739</th>\n",
       "      <td>The Indian</td>\n",
       "      <td>Excellent</td>\n",
       "      <td>5</td>\n",
       "      <td>0</td>\n",
       "      <td>2021-11-10 15:23:32</td>\n",
       "      <td>PhonePayIndia</td>\n",
       "      <td>2021-11-10 15:23:32</td>\n",
       "      <td>November</td>\n",
       "      <td>2021</td>\n",
       "      <td>10</td>\n",
       "      <td>15</td>\n",
       "      <td>23</td>\n",
       "      <td>32</td>\n",
       "    </tr>\n",
       "    <tr>\n",
       "      <th>11740</th>\n",
       "      <td>Nageshwarao Samala</td>\n",
       "      <td>Ok</td>\n",
       "      <td>4</td>\n",
       "      <td>0</td>\n",
       "      <td>2021-11-10 15:22:05</td>\n",
       "      <td>PhonePayIndia</td>\n",
       "      <td>2021-11-10 15:22:05</td>\n",
       "      <td>November</td>\n",
       "      <td>2021</td>\n",
       "      <td>10</td>\n",
       "      <td>15</td>\n",
       "      <td>22</td>\n",
       "      <td>5</td>\n",
       "    </tr>\n",
       "  </tbody>\n",
       "</table>\n",
       "<p>183868 rows × 13 columns</p>\n",
       "</div>"
      ],
      "text/plain": [
       "                 userName                                            content  \\\n",
       "0              Len Pagnam               How add boarding pass I see pass tab   \n",
       "1          Benjamin Silva                                               Best   \n",
       "2            PARVESH MIAR                                             All ok   \n",
       "3                Mikko L.  Rasy use really But never ever \"baddata\" among...   \n",
       "4           A Google user  I still understand restricting certain legal a...   \n",
       "...                   ...                                                ...   \n",
       "11736         Ashok Pawar                                               good   \n",
       "11737         Tabish Khan                                    Simply awesome    \n",
       "11738  Kiran Shinde Patil                                              Super   \n",
       "11739          The Indian                                          Excellent   \n",
       "11740  Nageshwarao Samala                                                 Ok   \n",
       "\n",
       "       score  thumbsUpCount                   at             app  \\\n",
       "0          1              0  2021-11-18 17:03:06  GooglePayIndia   \n",
       "1          5              0  2021-11-18 16:43:34  GooglePayIndia   \n",
       "2          5              0  2021-11-18 16:12:42  GooglePayIndia   \n",
       "3          3              0  2021-11-18 16:06:35  GooglePayIndia   \n",
       "4          3            251  2021-11-18 15:48:08  GooglePayIndia   \n",
       "...      ...            ...                  ...             ...   \n",
       "11736      5              0  2021-11-10 15:27:29   PhonePayIndia   \n",
       "11737      5              0  2021-11-10 15:27:27   PhonePayIndia   \n",
       "11738      1              0  2021-11-10 15:26:55   PhonePayIndia   \n",
       "11739      5              0  2021-11-10 15:23:32   PhonePayIndia   \n",
       "11740      4              0  2021-11-10 15:22:05   PhonePayIndia   \n",
       "\n",
       "                 New_date     Month  Year  date  hour  Minutes  Seconds  \n",
       "0     2021-11-18 17:03:06  November  2021    18    17        3        6  \n",
       "1     2021-11-18 16:43:34  November  2021    18    16       43       34  \n",
       "2     2021-11-18 16:12:42  November  2021    18    16       12       42  \n",
       "3     2021-11-18 16:06:35  November  2021    18    16        6       35  \n",
       "4     2021-11-18 15:48:08  November  2021    18    15       48        8  \n",
       "...                   ...       ...   ...   ...   ...      ...      ...  \n",
       "11736 2021-11-10 15:27:29  November  2021    10    15       27       29  \n",
       "11737 2021-11-10 15:27:27  November  2021    10    15       27       27  \n",
       "11738 2021-11-10 15:26:55  November  2021    10    15       26       55  \n",
       "11739 2021-11-10 15:23:32  November  2021    10    15       23       32  \n",
       "11740 2021-11-10 15:22:05  November  2021    10    15       22        5  \n",
       "\n",
       "[183868 rows x 13 columns]"
      ]
     },
     "execution_count": 122,
     "metadata": {},
     "output_type": "execute_result"
    }
   ],
   "source": [
    "data"
   ]
  },
  {
   "cell_type": "code",
   "execution_count": 123,
   "metadata": {},
   "outputs": [],
   "source": [
    "data.groupby([\"app\", \"score\"]).count()\n",
    "A = data.groupby([\"app\", \"score\"]).count().reset_index()\n",
    "A[\"count\"] = A[\"Year\"]\n",
    "A = A.drop(['userName','content','thumbsUpCount','at','New_date','Month','Year','date','hour','Minutes','Seconds'], axis=1)"
   ]
  },
  {
   "cell_type": "code",
   "execution_count": 124,
   "metadata": {},
   "outputs": [
    {
     "data": {
      "text/html": [
       "<div>\n",
       "<style scoped>\n",
       "    .dataframe tbody tr th:only-of-type {\n",
       "        vertical-align: middle;\n",
       "    }\n",
       "\n",
       "    .dataframe tbody tr th {\n",
       "        vertical-align: top;\n",
       "    }\n",
       "\n",
       "    .dataframe thead th {\n",
       "        text-align: right;\n",
       "    }\n",
       "</style>\n",
       "<table border=\"1\" class=\"dataframe\">\n",
       "  <thead>\n",
       "    <tr style=\"text-align: right;\">\n",
       "      <th></th>\n",
       "      <th>app</th>\n",
       "      <th>score</th>\n",
       "      <th>count</th>\n",
       "    </tr>\n",
       "  </thead>\n",
       "  <tbody>\n",
       "    <tr>\n",
       "      <th>0</th>\n",
       "      <td>GooglePayIndia</td>\n",
       "      <td>1</td>\n",
       "      <td>8618</td>\n",
       "    </tr>\n",
       "    <tr>\n",
       "      <th>1</th>\n",
       "      <td>GooglePayIndia</td>\n",
       "      <td>2</td>\n",
       "      <td>1591</td>\n",
       "    </tr>\n",
       "    <tr>\n",
       "      <th>2</th>\n",
       "      <td>GooglePayIndia</td>\n",
       "      <td>3</td>\n",
       "      <td>1928</td>\n",
       "    </tr>\n",
       "    <tr>\n",
       "      <th>3</th>\n",
       "      <td>GooglePayIndia</td>\n",
       "      <td>4</td>\n",
       "      <td>3042</td>\n",
       "    </tr>\n",
       "    <tr>\n",
       "      <th>4</th>\n",
       "      <td>GooglePayIndia</td>\n",
       "      <td>5</td>\n",
       "      <td>19043</td>\n",
       "    </tr>\n",
       "    <tr>\n",
       "      <th>5</th>\n",
       "      <td>PaytmIndia</td>\n",
       "      <td>1</td>\n",
       "      <td>17499</td>\n",
       "    </tr>\n",
       "    <tr>\n",
       "      <th>6</th>\n",
       "      <td>PaytmIndia</td>\n",
       "      <td>2</td>\n",
       "      <td>2627</td>\n",
       "    </tr>\n",
       "    <tr>\n",
       "      <th>7</th>\n",
       "      <td>PaytmIndia</td>\n",
       "      <td>3</td>\n",
       "      <td>4554</td>\n",
       "    </tr>\n",
       "    <tr>\n",
       "      <th>8</th>\n",
       "      <td>PaytmIndia</td>\n",
       "      <td>4</td>\n",
       "      <td>13640</td>\n",
       "    </tr>\n",
       "    <tr>\n",
       "      <th>9</th>\n",
       "      <td>PaytmIndia</td>\n",
       "      <td>5</td>\n",
       "      <td>99585</td>\n",
       "    </tr>\n",
       "    <tr>\n",
       "      <th>10</th>\n",
       "      <td>PhonePayIndia</td>\n",
       "      <td>1</td>\n",
       "      <td>1765</td>\n",
       "    </tr>\n",
       "    <tr>\n",
       "      <th>11</th>\n",
       "      <td>PhonePayIndia</td>\n",
       "      <td>2</td>\n",
       "      <td>277</td>\n",
       "    </tr>\n",
       "    <tr>\n",
       "      <th>12</th>\n",
       "      <td>PhonePayIndia</td>\n",
       "      <td>3</td>\n",
       "      <td>517</td>\n",
       "    </tr>\n",
       "    <tr>\n",
       "      <th>13</th>\n",
       "      <td>PhonePayIndia</td>\n",
       "      <td>4</td>\n",
       "      <td>1483</td>\n",
       "    </tr>\n",
       "    <tr>\n",
       "      <th>14</th>\n",
       "      <td>PhonePayIndia</td>\n",
       "      <td>5</td>\n",
       "      <td>7699</td>\n",
       "    </tr>\n",
       "  </tbody>\n",
       "</table>\n",
       "</div>"
      ],
      "text/plain": [
       "               app  score  count\n",
       "0   GooglePayIndia      1   8618\n",
       "1   GooglePayIndia      2   1591\n",
       "2   GooglePayIndia      3   1928\n",
       "3   GooglePayIndia      4   3042\n",
       "4   GooglePayIndia      5  19043\n",
       "5       PaytmIndia      1  17499\n",
       "6       PaytmIndia      2   2627\n",
       "7       PaytmIndia      3   4554\n",
       "8       PaytmIndia      4  13640\n",
       "9       PaytmIndia      5  99585\n",
       "10   PhonePayIndia      1   1765\n",
       "11   PhonePayIndia      2    277\n",
       "12   PhonePayIndia      3    517\n",
       "13   PhonePayIndia      4   1483\n",
       "14   PhonePayIndia      5   7699"
      ]
     },
     "execution_count": 124,
     "metadata": {},
     "output_type": "execute_result"
    }
   ],
   "source": [
    "A"
   ]
  },
  {
   "cell_type": "code",
   "execution_count": 125,
   "metadata": {},
   "outputs": [],
   "source": [
    "Gpay = A.iloc[0:5, 2:3][\"count\"].sum()\n",
    "Paytm = A.iloc[5:10, 2:3][\"count\"].sum()\n",
    "PhonePay = A.iloc[10:15, 2:3][\"count\"].sum()\n",
    "A.loc[A[\"app\"] == \"GooglePayIndia\", \"Percentage\"] = (A['count']/Gpay)*100\n",
    "A.loc[A[\"app\"] == \"PaytmIndia\", \"Percentage\"] = (A['count']/Paytm)*100\n",
    "A.loc[A[\"app\"] == \"PhonePayIndia\", \"Percentage\"] = (A['count']/PhonePay)*100"
   ]
  },
  {
   "cell_type": "code",
   "execution_count": 126,
   "metadata": {},
   "outputs": [
    {
     "data": {
      "image/png": "[encoded data removed]",
      "text/plain": [
       "<Figure size 936x648 with 1 Axes>"
      ]
     },
     "metadata": {
      "needs_background": "light"
     },
     "output_type": "display_data"
    }
   ],
   "source": [
    "plt.figure(figsize=(13,9))\n",
    "sns.barplot(x='app',y='count',data=A,hue='score')\n",
    "plt.title('Score 1-5 Reviews count ')\n",
    "plt.show()"
   ]
  },
  {
   "cell_type": "code",
   "execution_count": 127,
   "metadata": {},
   "outputs": [
    {
     "data": {
      "image/png": "[encoded data removed]",
      "text/plain": [
       "<Figure size 936x648 with 1 Axes>"
      ]
     },
     "metadata": {
      "needs_background": "light"
     },
     "output_type": "display_data"
    }
   ],
   "source": [
    "plt.figure(figsize=(13,9))\n",
    "sns.barplot(x='app',y='Percentage',data=A,hue='score')\n",
    "plt.title('Percentage of reviews for scores 1-5')\n",
    "plt.show()"
   ]
  }
 ],
 "metadata": {
  "interpreter": {
   "hash": "948d73eb6dfda2e804d788ca8e9f193cc8a7762f6fd3fe59d9c3fe882d54f9f4"
  },
  "kernelspec": {
   "display_name": "Python 3.8.3 64-bit ('base': conda)",
   "language": "python",
   "name": "python3"
  },
  "language_info": {
   "codemirror_mode": {
    "name": "ipython",
    "version": 3
   },
   "file_extension": ".py",
   "mimetype": "text/x-python",
   "name": "python",
   "nbconvert_exporter": "python",
   "pygments_lexer": "ipython3",
   "version": "3.8.3"
  },
  "orig_nbformat": 4
 },
 "nbformat": 4,
 "nbformat_minor": 2
}
