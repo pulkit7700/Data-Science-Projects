{
  "nbformat": 4,
  "nbformat_minor": 0,
  "metadata": {
    "orig_nbformat": 4,
    "language_info": {
      "name": "python",
      "version": "3.8.3",
      "mimetype": "text/x-python",
      "codemirror_mode": {
        "name": "ipython",
        "version": 3
      },
      "pygments_lexer": "ipython3",
      "nbconvert_exporter": "python",
      "file_extension": ".py"
    },
    "kernelspec": {
      "name": "python3",
      "display_name": "Python 3.8.3 64-bit ('base': conda)"
    },
    "interpreter": {
      "hash": "948d73eb6dfda2e804d788ca8e9f193cc8a7762f6fd3fe59d9c3fe882d54f9f4"
    },
    "colab": {
      "name": "Regression.ipynb",
      "provenance": []
    }
  },
  "cells": [
    {
      "cell_type": "code",
      "metadata": {
        "id": "wIrc01Pgub6c"
      },
      "source": [
        "import numpy as np\n",
        "import pandas as pd\n",
        "import matplotlib.pyplot as plt \n",
        "import seaborn as sns"
      ],
      "execution_count": 1,
      "outputs": []
    },
    {
      "cell_type": "code",
      "metadata": {
        "colab": {
          "base_uri": "https://localhost:8080/",
          "height": 443
        },
        "id": "esR8C2zSub6o",
        "outputId": "1c283ada-a266-4318-c037-b75c38c737e0"
      },
      "source": [
        "df = pd.read_csv(\"student_mat.csv\")\n",
        "df"
      ],
      "execution_count": 2,
      "outputs": [
        {
          "output_type": "execute_result",
          "data": {
            "text/html": [
              "<div>\n",
              "<style scoped>\n",
              "    .dataframe tbody tr th:only-of-type {\n",
              "        vertical-align: middle;\n",
              "    }\n",
              "\n",
              "    .dataframe tbody tr th {\n",
              "        vertical-align: top;\n",
              "    }\n",
              "\n",
              "    .dataframe thead th {\n",
              "        text-align: right;\n",
              "    }\n",
              "</style>\n",
              "<table border=\"1\" class=\"dataframe\">\n",
              "  <thead>\n",
              "    <tr style=\"text-align: right;\">\n",
              "      <th></th>\n",
              "      <th>school</th>\n",
              "      <th>sex</th>\n",
              "      <th>age</th>\n",
              "      <th>address</th>\n",
              "      <th>famsize</th>\n",
              "      <th>Pstatus</th>\n",
              "      <th>Medu</th>\n",
              "      <th>Fedu</th>\n",
              "      <th>Mjob</th>\n",
              "      <th>Fjob</th>\n",
              "      <th>reason</th>\n",
              "      <th>guardian</th>\n",
              "      <th>traveltime</th>\n",
              "      <th>studytime</th>\n",
              "      <th>failures</th>\n",
              "      <th>schoolsup</th>\n",
              "      <th>famsup</th>\n",
              "      <th>paid</th>\n",
              "      <th>activities</th>\n",
              "      <th>nursery</th>\n",
              "      <th>higher</th>\n",
              "      <th>internet</th>\n",
              "      <th>romantic</th>\n",
              "      <th>famrel</th>\n",
              "      <th>freetime</th>\n",
              "      <th>goout</th>\n",
              "      <th>Dalc</th>\n",
              "      <th>Walc</th>\n",
              "      <th>health</th>\n",
              "      <th>absences</th>\n",
              "      <th>G1</th>\n",
              "      <th>G2</th>\n",
              "      <th>G3</th>\n",
              "    </tr>\n",
              "  </thead>\n",
              "  <tbody>\n",
              "    <tr>\n",
              "      <th>0</th>\n",
              "      <td>GP</td>\n",
              "      <td>F</td>\n",
              "      <td>18</td>\n",
              "      <td>U</td>\n",
              "      <td>GT3</td>\n",
              "      <td>A</td>\n",
              "      <td>4</td>\n",
              "      <td>4</td>\n",
              "      <td>at_home</td>\n",
              "      <td>teacher</td>\n",
              "      <td>course</td>\n",
              "      <td>mother</td>\n",
              "      <td>2</td>\n",
              "      <td>2</td>\n",
              "      <td>0</td>\n",
              "      <td>yes</td>\n",
              "      <td>no</td>\n",
              "      <td>no</td>\n",
              "      <td>no</td>\n",
              "      <td>yes</td>\n",
              "      <td>yes</td>\n",
              "      <td>no</td>\n",
              "      <td>no</td>\n",
              "      <td>4</td>\n",
              "      <td>3</td>\n",
              "      <td>4</td>\n",
              "      <td>1</td>\n",
              "      <td>1</td>\n",
              "      <td>3</td>\n",
              "      <td>6</td>\n",
              "      <td>5</td>\n",
              "      <td>6</td>\n",
              "      <td>6</td>\n",
              "    </tr>\n",
              "    <tr>\n",
              "      <th>1</th>\n",
              "      <td>GP</td>\n",
              "      <td>F</td>\n",
              "      <td>17</td>\n",
              "      <td>U</td>\n",
              "      <td>GT3</td>\n",
              "      <td>T</td>\n",
              "      <td>1</td>\n",
              "      <td>1</td>\n",
              "      <td>at_home</td>\n",
              "      <td>other</td>\n",
              "      <td>course</td>\n",
              "      <td>father</td>\n",
              "      <td>1</td>\n",
              "      <td>2</td>\n",
              "      <td>0</td>\n",
              "      <td>no</td>\n",
              "      <td>yes</td>\n",
              "      <td>no</td>\n",
              "      <td>no</td>\n",
              "      <td>no</td>\n",
              "      <td>yes</td>\n",
              "      <td>yes</td>\n",
              "      <td>no</td>\n",
              "      <td>5</td>\n",
              "      <td>3</td>\n",
              "      <td>3</td>\n",
              "      <td>1</td>\n",
              "      <td>1</td>\n",
              "      <td>3</td>\n",
              "      <td>4</td>\n",
              "      <td>5</td>\n",
              "      <td>5</td>\n",
              "      <td>6</td>\n",
              "    </tr>\n",
              "    <tr>\n",
              "      <th>2</th>\n",
              "      <td>GP</td>\n",
              "      <td>F</td>\n",
              "      <td>15</td>\n",
              "      <td>U</td>\n",
              "      <td>LE3</td>\n",
              "      <td>T</td>\n",
              "      <td>1</td>\n",
              "      <td>1</td>\n",
              "      <td>at_home</td>\n",
              "      <td>other</td>\n",
              "      <td>other</td>\n",
              "      <td>mother</td>\n",
              "      <td>1</td>\n",
              "      <td>2</td>\n",
              "      <td>3</td>\n",
              "      <td>yes</td>\n",
              "      <td>no</td>\n",
              "      <td>yes</td>\n",
              "      <td>no</td>\n",
              "      <td>yes</td>\n",
              "      <td>yes</td>\n",
              "      <td>yes</td>\n",
              "      <td>no</td>\n",
              "      <td>4</td>\n",
              "      <td>3</td>\n",
              "      <td>2</td>\n",
              "      <td>2</td>\n",
              "      <td>3</td>\n",
              "      <td>3</td>\n",
              "      <td>10</td>\n",
              "      <td>7</td>\n",
              "      <td>8</td>\n",
              "      <td>10</td>\n",
              "    </tr>\n",
              "    <tr>\n",
              "      <th>3</th>\n",
              "      <td>GP</td>\n",
              "      <td>F</td>\n",
              "      <td>15</td>\n",
              "      <td>U</td>\n",
              "      <td>GT3</td>\n",
              "      <td>T</td>\n",
              "      <td>4</td>\n",
              "      <td>2</td>\n",
              "      <td>health</td>\n",
              "      <td>services</td>\n",
              "      <td>home</td>\n",
              "      <td>mother</td>\n",
              "      <td>1</td>\n",
              "      <td>3</td>\n",
              "      <td>0</td>\n",
              "      <td>no</td>\n",
              "      <td>yes</td>\n",
              "      <td>yes</td>\n",
              "      <td>yes</td>\n",
              "      <td>yes</td>\n",
              "      <td>yes</td>\n",
              "      <td>yes</td>\n",
              "      <td>yes</td>\n",
              "      <td>3</td>\n",
              "      <td>2</td>\n",
              "      <td>2</td>\n",
              "      <td>1</td>\n",
              "      <td>1</td>\n",
              "      <td>5</td>\n",
              "      <td>2</td>\n",
              "      <td>15</td>\n",
              "      <td>14</td>\n",
              "      <td>15</td>\n",
              "    </tr>\n",
              "    <tr>\n",
              "      <th>4</th>\n",
              "      <td>GP</td>\n",
              "      <td>F</td>\n",
              "      <td>16</td>\n",
              "      <td>U</td>\n",
              "      <td>GT3</td>\n",
              "      <td>T</td>\n",
              "      <td>3</td>\n",
              "      <td>3</td>\n",
              "      <td>other</td>\n",
              "      <td>other</td>\n",
              "      <td>home</td>\n",
              "      <td>father</td>\n",
              "      <td>1</td>\n",
              "      <td>2</td>\n",
              "      <td>0</td>\n",
              "      <td>no</td>\n",
              "      <td>yes</td>\n",
              "      <td>yes</td>\n",
              "      <td>no</td>\n",
              "      <td>yes</td>\n",
              "      <td>yes</td>\n",
              "      <td>no</td>\n",
              "      <td>no</td>\n",
              "      <td>4</td>\n",
              "      <td>3</td>\n",
              "      <td>2</td>\n",
              "      <td>1</td>\n",
              "      <td>2</td>\n",
              "      <td>5</td>\n",
              "      <td>4</td>\n",
              "      <td>6</td>\n",
              "      <td>10</td>\n",
              "      <td>10</td>\n",
              "    </tr>\n",
              "    <tr>\n",
              "      <th>...</th>\n",
              "      <td>...</td>\n",
              "      <td>...</td>\n",
              "      <td>...</td>\n",
              "      <td>...</td>\n",
              "      <td>...</td>\n",
              "      <td>...</td>\n",
              "      <td>...</td>\n",
              "      <td>...</td>\n",
              "      <td>...</td>\n",
              "      <td>...</td>\n",
              "      <td>...</td>\n",
              "      <td>...</td>\n",
              "      <td>...</td>\n",
              "      <td>...</td>\n",
              "      <td>...</td>\n",
              "      <td>...</td>\n",
              "      <td>...</td>\n",
              "      <td>...</td>\n",
              "      <td>...</td>\n",
              "      <td>...</td>\n",
              "      <td>...</td>\n",
              "      <td>...</td>\n",
              "      <td>...</td>\n",
              "      <td>...</td>\n",
              "      <td>...</td>\n",
              "      <td>...</td>\n",
              "      <td>...</td>\n",
              "      <td>...</td>\n",
              "      <td>...</td>\n",
              "      <td>...</td>\n",
              "      <td>...</td>\n",
              "      <td>...</td>\n",
              "      <td>...</td>\n",
              "    </tr>\n",
              "    <tr>\n",
              "      <th>390</th>\n",
              "      <td>MS</td>\n",
              "      <td>M</td>\n",
              "      <td>20</td>\n",
              "      <td>U</td>\n",
              "      <td>LE3</td>\n",
              "      <td>A</td>\n",
              "      <td>2</td>\n",
              "      <td>2</td>\n",
              "      <td>services</td>\n",
              "      <td>services</td>\n",
              "      <td>course</td>\n",
              "      <td>other</td>\n",
              "      <td>1</td>\n",
              "      <td>2</td>\n",
              "      <td>2</td>\n",
              "      <td>no</td>\n",
              "      <td>yes</td>\n",
              "      <td>yes</td>\n",
              "      <td>no</td>\n",
              "      <td>yes</td>\n",
              "      <td>yes</td>\n",
              "      <td>no</td>\n",
              "      <td>no</td>\n",
              "      <td>5</td>\n",
              "      <td>5</td>\n",
              "      <td>4</td>\n",
              "      <td>4</td>\n",
              "      <td>5</td>\n",
              "      <td>4</td>\n",
              "      <td>11</td>\n",
              "      <td>9</td>\n",
              "      <td>9</td>\n",
              "      <td>9</td>\n",
              "    </tr>\n",
              "    <tr>\n",
              "      <th>391</th>\n",
              "      <td>MS</td>\n",
              "      <td>M</td>\n",
              "      <td>17</td>\n",
              "      <td>U</td>\n",
              "      <td>LE3</td>\n",
              "      <td>T</td>\n",
              "      <td>3</td>\n",
              "      <td>1</td>\n",
              "      <td>services</td>\n",
              "      <td>services</td>\n",
              "      <td>course</td>\n",
              "      <td>mother</td>\n",
              "      <td>2</td>\n",
              "      <td>1</td>\n",
              "      <td>0</td>\n",
              "      <td>no</td>\n",
              "      <td>no</td>\n",
              "      <td>no</td>\n",
              "      <td>no</td>\n",
              "      <td>no</td>\n",
              "      <td>yes</td>\n",
              "      <td>yes</td>\n",
              "      <td>no</td>\n",
              "      <td>2</td>\n",
              "      <td>4</td>\n",
              "      <td>5</td>\n",
              "      <td>3</td>\n",
              "      <td>4</td>\n",
              "      <td>2</td>\n",
              "      <td>3</td>\n",
              "      <td>14</td>\n",
              "      <td>16</td>\n",
              "      <td>16</td>\n",
              "    </tr>\n",
              "    <tr>\n",
              "      <th>392</th>\n",
              "      <td>MS</td>\n",
              "      <td>M</td>\n",
              "      <td>21</td>\n",
              "      <td>R</td>\n",
              "      <td>GT3</td>\n",
              "      <td>T</td>\n",
              "      <td>1</td>\n",
              "      <td>1</td>\n",
              "      <td>other</td>\n",
              "      <td>other</td>\n",
              "      <td>course</td>\n",
              "      <td>other</td>\n",
              "      <td>1</td>\n",
              "      <td>1</td>\n",
              "      <td>3</td>\n",
              "      <td>no</td>\n",
              "      <td>no</td>\n",
              "      <td>no</td>\n",
              "      <td>no</td>\n",
              "      <td>no</td>\n",
              "      <td>yes</td>\n",
              "      <td>no</td>\n",
              "      <td>no</td>\n",
              "      <td>5</td>\n",
              "      <td>5</td>\n",
              "      <td>3</td>\n",
              "      <td>3</td>\n",
              "      <td>3</td>\n",
              "      <td>3</td>\n",
              "      <td>3</td>\n",
              "      <td>10</td>\n",
              "      <td>8</td>\n",
              "      <td>7</td>\n",
              "    </tr>\n",
              "    <tr>\n",
              "      <th>393</th>\n",
              "      <td>MS</td>\n",
              "      <td>M</td>\n",
              "      <td>18</td>\n",
              "      <td>R</td>\n",
              "      <td>LE3</td>\n",
              "      <td>T</td>\n",
              "      <td>3</td>\n",
              "      <td>2</td>\n",
              "      <td>services</td>\n",
              "      <td>other</td>\n",
              "      <td>course</td>\n",
              "      <td>mother</td>\n",
              "      <td>3</td>\n",
              "      <td>1</td>\n",
              "      <td>0</td>\n",
              "      <td>no</td>\n",
              "      <td>no</td>\n",
              "      <td>no</td>\n",
              "      <td>no</td>\n",
              "      <td>no</td>\n",
              "      <td>yes</td>\n",
              "      <td>yes</td>\n",
              "      <td>no</td>\n",
              "      <td>4</td>\n",
              "      <td>4</td>\n",
              "      <td>1</td>\n",
              "      <td>3</td>\n",
              "      <td>4</td>\n",
              "      <td>5</td>\n",
              "      <td>0</td>\n",
              "      <td>11</td>\n",
              "      <td>12</td>\n",
              "      <td>10</td>\n",
              "    </tr>\n",
              "    <tr>\n",
              "      <th>394</th>\n",
              "      <td>MS</td>\n",
              "      <td>M</td>\n",
              "      <td>19</td>\n",
              "      <td>U</td>\n",
              "      <td>LE3</td>\n",
              "      <td>T</td>\n",
              "      <td>1</td>\n",
              "      <td>1</td>\n",
              "      <td>other</td>\n",
              "      <td>at_home</td>\n",
              "      <td>course</td>\n",
              "      <td>father</td>\n",
              "      <td>1</td>\n",
              "      <td>1</td>\n",
              "      <td>0</td>\n",
              "      <td>no</td>\n",
              "      <td>no</td>\n",
              "      <td>no</td>\n",
              "      <td>no</td>\n",
              "      <td>yes</td>\n",
              "      <td>yes</td>\n",
              "      <td>yes</td>\n",
              "      <td>no</td>\n",
              "      <td>3</td>\n",
              "      <td>2</td>\n",
              "      <td>3</td>\n",
              "      <td>3</td>\n",
              "      <td>3</td>\n",
              "      <td>5</td>\n",
              "      <td>5</td>\n",
              "      <td>8</td>\n",
              "      <td>9</td>\n",
              "      <td>9</td>\n",
              "    </tr>\n",
              "  </tbody>\n",
              "</table>\n",
              "<p>395 rows × 33 columns</p>\n",
              "</div>"
            ],
            "text/plain": [
              "    school sex  age address famsize Pstatus  ...  Walc  health absences  G1  G2  G3\n",
              "0       GP   F   18       U     GT3       A  ...     1       3        6   5   6   6\n",
              "1       GP   F   17       U     GT3       T  ...     1       3        4   5   5   6\n",
              "2       GP   F   15       U     LE3       T  ...     3       3       10   7   8  10\n",
              "3       GP   F   15       U     GT3       T  ...     1       5        2  15  14  15\n",
              "4       GP   F   16       U     GT3       T  ...     2       5        4   6  10  10\n",
              "..     ...  ..  ...     ...     ...     ...  ...   ...     ...      ...  ..  ..  ..\n",
              "390     MS   M   20       U     LE3       A  ...     5       4       11   9   9   9\n",
              "391     MS   M   17       U     LE3       T  ...     4       2        3  14  16  16\n",
              "392     MS   M   21       R     GT3       T  ...     3       3        3  10   8   7\n",
              "393     MS   M   18       R     LE3       T  ...     4       5        0  11  12  10\n",
              "394     MS   M   19       U     LE3       T  ...     3       5        5   8   9   9\n",
              "\n",
              "[395 rows x 33 columns]"
            ]
          },
          "metadata": {},
          "execution_count": 2
        }
      ]
    },
    {
      "cell_type": "code",
      "metadata": {
        "id": "eShJ7u1Kub6r",
        "outputId": "ecd6a2eb-0c2e-4c9b-8af8-9fb066422c34"
      },
      "source": [
        "df[\"school\"].value_counts()"
      ],
      "execution_count": null,
      "outputs": [
        {
          "output_type": "execute_result",
          "data": {
            "text/plain": [
              "GP    349\n",
              "MS     46\n",
              "Name: school, dtype: int64"
            ]
          },
          "metadata": {},
          "execution_count": 3
        }
      ]
    },
    {
      "cell_type": "code",
      "metadata": {
        "id": "u-37-RO7ub6t",
        "outputId": "73d14fb7-d703-4ae4-92db-7f0b3acda62f"
      },
      "source": [
        "sns.countplot(df[\"school\"], palette=\"coolwarm\", hue=\"sex\", data=df)"
      ],
      "execution_count": null,
      "outputs": [
        {
          "output_type": "execute_result",
          "data": {
            "text/plain": [
              "<matplotlib.axes._subplots.AxesSubplot at 0x15a7fd55790>"
            ]
          },
          "metadata": {},
          "execution_count": 4
        },
        {
          "output_type": "display_data",
          "data": {
            "image/png": "[encoded data removed]",
            "text/plain": [
              "<Figure size 432x288 with 1 Axes>"
            ]
          },
          "metadata": {
            "needs_background": "light"
          }
        }
      ]
    },
    {
      "cell_type": "code",
      "metadata": {
        "id": "VoiscgOdub6u",
        "outputId": "725e727b-008b-4dae-836f-f0b720c9e6dc"
      },
      "source": [
        "df[\"address\"].value_counts()"
      ],
      "execution_count": null,
      "outputs": [
        {
          "output_type": "execute_result",
          "data": {
            "text/plain": [
              "U    307\n",
              "R     88\n",
              "Name: address, dtype: int64"
            ]
          },
          "metadata": {},
          "execution_count": 5
        }
      ]
    },
    {
      "cell_type": "code",
      "metadata": {
        "id": "F21DeMOrub6v",
        "outputId": "e5eaefbb-ed96-4bc3-e8fb-be47f9e191f1"
      },
      "source": [
        "sns.countplot(df[\"address\"], palette=\"coolwarm\", hue=\"sex\", data=df)"
      ],
      "execution_count": null,
      "outputs": [
        {
          "output_type": "execute_result",
          "data": {
            "text/plain": [
              "<matplotlib.axes._subplots.AxesSubplot at 0x15a7fe276d0>"
            ]
          },
          "metadata": {},
          "execution_count": 6
        },
        {
          "output_type": "display_data",
          "data": {
            "image/png": "[encoded data removed]",
            "text/plain": [
              "<Figure size 432x288 with 1 Axes>"
            ]
          },
          "metadata": {
            "needs_background": "light"
          }
        }
      ]
    },
    {
      "cell_type": "code",
      "metadata": {
        "id": "l2z6telQub6x",
        "outputId": "0bd3f495-ad33-4022-f400-f5147fa01939"
      },
      "source": [
        "df[\"famsize\"].value_counts()"
      ],
      "execution_count": null,
      "outputs": [
        {
          "output_type": "execute_result",
          "data": {
            "text/plain": [
              "GT3    281\n",
              "LE3    114\n",
              "Name: famsize, dtype: int64"
            ]
          },
          "metadata": {},
          "execution_count": 7
        }
      ]
    },
    {
      "cell_type": "code",
      "metadata": {
        "id": "RJUanAaUub6z",
        "outputId": "e4ece80c-2cf0-44d1-b6e3-e7e0315922aa"
      },
      "source": [
        "sns.countplot(df[\"famsize\"], palette=\"coolwarm\", hue=\"sex\", data=df)"
      ],
      "execution_count": null,
      "outputs": [
        {
          "output_type": "execute_result",
          "data": {
            "text/plain": [
              "<matplotlib.axes._subplots.AxesSubplot at 0x15a7fe9a2e0>"
            ]
          },
          "metadata": {},
          "execution_count": 8
        },
        {
          "output_type": "display_data",
          "data": {
            "image/png": "[encoded data removed]",
            "text/plain": [
              "<Figure size 432x288 with 1 Axes>"
            ]
          },
          "metadata": {
            "needs_background": "light"
          }
        }
      ]
    },
    {
      "cell_type": "code",
      "metadata": {
        "id": "wh6wZFSGub61",
        "outputId": "9eaffaa8-46a5-460c-f50c-c637003b75a3"
      },
      "source": [
        "df[\"Pstatus\"].value_counts()"
      ],
      "execution_count": null,
      "outputs": [
        {
          "output_type": "execute_result",
          "data": {
            "text/plain": [
              "T    354\n",
              "A     41\n",
              "Name: Pstatus, dtype: int64"
            ]
          },
          "metadata": {},
          "execution_count": 9
        }
      ]
    },
    {
      "cell_type": "code",
      "metadata": {
        "id": "UzP9irBeub63",
        "outputId": "75045e76-dd88-40cc-a9e7-5bb9cb570687"
      },
      "source": [
        "sns.countplot(df[\"Pstatus\"], palette=\"coolwarm\", hue=\"sex\", data=df)"
      ],
      "execution_count": null,
      "outputs": [
        {
          "output_type": "execute_result",
          "data": {
            "text/plain": [
              "<matplotlib.axes._subplots.AxesSubplot at 0x15a7fefb7c0>"
            ]
          },
          "metadata": {},
          "execution_count": 10
        },
        {
          "output_type": "display_data",
          "data": {
            "image/png": "[encoded data removed]",
            "text/plain": [
              "<Figure size 432x288 with 1 Axes>"
            ]
          },
          "metadata": {
            "needs_background": "light"
          }
        }
      ]
    },
    {
      "cell_type": "code",
      "metadata": {
        "id": "tshmAEHrub65",
        "outputId": "d2d264ae-7087-4566-e2d6-f29bb220374e"
      },
      "source": [
        "df[\"Mjob\"].value_counts()"
      ],
      "execution_count": null,
      "outputs": [
        {
          "output_type": "execute_result",
          "data": {
            "text/plain": [
              "other       141\n",
              "services    103\n",
              "at_home      59\n",
              "teacher      58\n",
              "health       34\n",
              "Name: Mjob, dtype: int64"
            ]
          },
          "metadata": {},
          "execution_count": 11
        }
      ]
    },
    {
      "cell_type": "code",
      "metadata": {
        "id": "yiASGb4lub66",
        "outputId": "a73d6717-c367-4d2b-fef9-218222267341"
      },
      "source": [
        "sns.countplot(df[\"Mjob\"], palette=\"coolwarm\", hue=\"sex\", data=df)"
      ],
      "execution_count": null,
      "outputs": [
        {
          "output_type": "execute_result",
          "data": {
            "text/plain": [
              "<matplotlib.axes._subplots.AxesSubplot at 0x15a7ff572b0>"
            ]
          },
          "metadata": {},
          "execution_count": 12
        },
        {
          "output_type": "display_data",
          "data": {
            "image/png": "[encoded data removed]",
            "text/plain": [
              "<Figure size 432x288 with 1 Axes>"
            ]
          },
          "metadata": {
            "needs_background": "light"
          }
        }
      ]
    },
    {
      "cell_type": "code",
      "metadata": {
        "id": "dxvUWuqzub67",
        "outputId": "5e5ad481-4999-4040-c4cd-424880cfd462"
      },
      "source": [
        "df[\"Fjob\"].value_counts()"
      ],
      "execution_count": null,
      "outputs": [
        {
          "output_type": "execute_result",
          "data": {
            "text/plain": [
              "other       217\n",
              "services    111\n",
              "teacher      29\n",
              "at_home      20\n",
              "health       18\n",
              "Name: Fjob, dtype: int64"
            ]
          },
          "metadata": {},
          "execution_count": 13
        }
      ]
    },
    {
      "cell_type": "code",
      "metadata": {
        "id": "zAnQp0Kuub68",
        "outputId": "432e1e6a-fbcf-457b-c041-b89277c178fe"
      },
      "source": [
        "sns.countplot(df[\"Fjob\"], palette=\"coolwarm\", hue=\"sex\", data=df)"
      ],
      "execution_count": null,
      "outputs": [
        {
          "output_type": "execute_result",
          "data": {
            "text/plain": [
              "<matplotlib.axes._subplots.AxesSubplot at 0x15a7ffac820>"
            ]
          },
          "metadata": {},
          "execution_count": 14
        },
        {
          "output_type": "display_data",
          "data": {
            "image/png": "[encoded data removed]",
            "text/plain": [
              "<Figure size 432x288 with 1 Axes>"
            ]
          },
          "metadata": {
            "needs_background": "light"
          }
        }
      ]
    },
    {
      "cell_type": "code",
      "metadata": {
        "id": "wUvPi-ONub69",
        "outputId": "a6f14b42-6bf0-431b-c36a-aa7be62d7ca0"
      },
      "source": [
        "df[\"reason\"].value_counts()"
      ],
      "execution_count": null,
      "outputs": [
        {
          "output_type": "execute_result",
          "data": {
            "text/plain": [
              "course        145\n",
              "home          109\n",
              "reputation    105\n",
              "other          36\n",
              "Name: reason, dtype: int64"
            ]
          },
          "metadata": {},
          "execution_count": 15
        }
      ]
    },
    {
      "cell_type": "code",
      "metadata": {
        "id": "tnJ2RmUCub69",
        "outputId": "07b2c4f3-4a6a-416c-fdc4-53aa9acbd756"
      },
      "source": [
        "sns.countplot(df[\"reason\"], palette=\"coolwarm\", hue=\"sex\", data=df)"
      ],
      "execution_count": null,
      "outputs": [
        {
          "output_type": "execute_result",
          "data": {
            "text/plain": [
              "<matplotlib.axes._subplots.AxesSubplot at 0x15a03018e20>"
            ]
          },
          "metadata": {},
          "execution_count": 16
        },
        {
          "output_type": "display_data",
          "data": {
            "image/png": "[encoded data removed]",
            "text/plain": [
              "<Figure size 432x288 with 1 Axes>"
            ]
          },
          "metadata": {
            "needs_background": "light"
          }
        }
      ]
    },
    {
      "cell_type": "code",
      "metadata": {
        "id": "lKaZTCK5ub6-",
        "outputId": "cb106b55-fe20-46fd-d5d0-a9ec2f6bdefa"
      },
      "source": [
        "df[\"guardian\"].value_counts()"
      ],
      "execution_count": null,
      "outputs": [
        {
          "output_type": "execute_result",
          "data": {
            "text/plain": [
              "mother    273\n",
              "father     90\n",
              "other      32\n",
              "Name: guardian, dtype: int64"
            ]
          },
          "metadata": {},
          "execution_count": 17
        }
      ]
    },
    {
      "cell_type": "code",
      "metadata": {
        "id": "oh52BWo6ub6_",
        "outputId": "61bb359b-9844-40d9-f20f-00c23d7aa204"
      },
      "source": [
        "sns.countplot(df[\"guardian\"], palette=\"coolwarm\", hue=\"sex\", data=df)"
      ],
      "execution_count": null,
      "outputs": [
        {
          "output_type": "execute_result",
          "data": {
            "text/plain": [
              "<matplotlib.axes._subplots.AxesSubplot at 0x15a0308a940>"
            ]
          },
          "metadata": {},
          "execution_count": 18
        },
        {
          "output_type": "display_data",
          "data": {
            "image/png": "[encoded data removed]",
            "text/plain": [
              "<Figure size 432x288 with 1 Axes>"
            ]
          },
          "metadata": {
            "needs_background": "light"
          }
        }
      ]
    },
    {
      "cell_type": "code",
      "metadata": {
        "id": "Pl7de7YCub7A",
        "outputId": "a50c7a03-aff6-4cd3-9adc-3c7fec1b077c"
      },
      "source": [
        "df[\"schoolsup\"].value_counts()"
      ],
      "execution_count": null,
      "outputs": [
        {
          "output_type": "execute_result",
          "data": {
            "text/plain": [
              "no     344\n",
              "yes     51\n",
              "Name: schoolsup, dtype: int64"
            ]
          },
          "metadata": {},
          "execution_count": 19
        }
      ]
    },
    {
      "cell_type": "code",
      "metadata": {
        "id": "suptNfTyub7B",
        "outputId": "ddac81d4-9689-4206-f766-04901b108f4f"
      },
      "source": [
        "sns.countplot(df[\"schoolsup\"], palette=\"coolwarm\", hue=\"sex\", data=df)"
      ],
      "execution_count": null,
      "outputs": [
        {
          "output_type": "execute_result",
          "data": {
            "text/plain": [
              "<matplotlib.axes._subplots.AxesSubplot at 0x15a030f3190>"
            ]
          },
          "metadata": {},
          "execution_count": 20
        },
        {
          "output_type": "display_data",
          "data": {
            "image/png": "[encoded data removed]",
            "text/plain": [
              "<Figure size 432x288 with 1 Axes>"
            ]
          },
          "metadata": {
            "needs_background": "light"
          }
        }
      ]
    },
    {
      "cell_type": "code",
      "metadata": {
        "id": "YYdfN19Jub7C",
        "outputId": "5e687ff3-c780-440e-cd4b-e0e65248277b"
      },
      "source": [
        "sns.countplot(df[\"famsup\"], palette=\"coolwarm\", hue=\"sex\", data=df)"
      ],
      "execution_count": null,
      "outputs": [
        {
          "output_type": "execute_result",
          "data": {
            "text/plain": [
              "<matplotlib.axes._subplots.AxesSubplot at 0x15a031546d0>"
            ]
          },
          "metadata": {},
          "execution_count": 21
        },
        {
          "output_type": "display_data",
          "data": {
            "image/png": "[encoded data removed]",
            "text/plain": [
              "<Figure size 432x288 with 1 Axes>"
            ]
          },
          "metadata": {
            "needs_background": "light"
          }
        }
      ]
    },
    {
      "cell_type": "code",
      "metadata": {
        "id": "5GWq-LB_ub7C",
        "outputId": "b75d4e12-f837-42f7-e868-051f2a0eb7a8"
      },
      "source": [
        "sns.countplot(df[\"paid\"], palette=\"coolwarm\", hue=\"sex\", data=df)"
      ],
      "execution_count": null,
      "outputs": [
        {
          "output_type": "execute_result",
          "data": {
            "text/plain": [
              "<matplotlib.axes._subplots.AxesSubplot at 0x15a03195940>"
            ]
          },
          "metadata": {},
          "execution_count": 22
        },
        {
          "output_type": "display_data",
          "data": {
            "image/png": "[encoded data removed]",
            "text/plain": [
              "<Figure size 432x288 with 1 Axes>"
            ]
          },
          "metadata": {
            "needs_background": "light"
          }
        }
      ]
    },
    {
      "cell_type": "code",
      "metadata": {
        "id": "bwWosTVEub7D",
        "outputId": "66b00b0d-8a50-4611-8ec0-678dcb9f8746"
      },
      "source": [
        "sns.countplot(df[\"activities\"], palette=\"coolwarm\", hue=\"sex\", data=df)"
      ],
      "execution_count": null,
      "outputs": [
        {
          "output_type": "execute_result",
          "data": {
            "text/plain": [
              "<matplotlib.axes._subplots.AxesSubplot at 0x15a7fdbb3a0>"
            ]
          },
          "metadata": {},
          "execution_count": 23
        },
        {
          "output_type": "display_data",
          "data": {
            "image/png": "[encoded data removed]",
            "text/plain": [
              "<Figure size 432x288 with 1 Axes>"
            ]
          },
          "metadata": {
            "needs_background": "light"
          }
        }
      ]
    },
    {
      "cell_type": "code",
      "metadata": {
        "id": "cInW6RZdub7E",
        "outputId": "1c5cf483-82a2-4a67-9442-f81b6fe1dab3"
      },
      "source": [
        "sns.countplot(df[\"nursery\"], palette=\"coolwarm\", hue=\"sex\", data=df)\n"
      ],
      "execution_count": null,
      "outputs": [
        {
          "output_type": "execute_result",
          "data": {
            "text/plain": [
              "<matplotlib.axes._subplots.AxesSubplot at 0x15a030fd400>"
            ]
          },
          "metadata": {},
          "execution_count": 24
        },
        {
          "output_type": "display_data",
          "data": {
            "image/png": "[encoded data removed]",
            "text/plain": [
              "<Figure size 432x288 with 1 Axes>"
            ]
          },
          "metadata": {
            "needs_background": "light"
          }
        }
      ]
    },
    {
      "cell_type": "code",
      "metadata": {
        "id": "FmsPndw6ub7F",
        "outputId": "8f2d6f9e-1792-480e-c3d5-39a217c582f1"
      },
      "source": [
        "sns.countplot(df[\"higher\"], palette=\"coolwarm\", hue=\"sex\", data=df)"
      ],
      "execution_count": null,
      "outputs": [
        {
          "output_type": "execute_result",
          "data": {
            "text/plain": [
              "<matplotlib.axes._subplots.AxesSubplot at 0x15a03285ca0>"
            ]
          },
          "metadata": {},
          "execution_count": 25
        },
        {
          "output_type": "display_data",
          "data": {
            "image/png": "[encoded data removed]",
            "text/plain": [
              "<Figure size 432x288 with 1 Axes>"
            ]
          },
          "metadata": {
            "needs_background": "light"
          }
        }
      ]
    },
    {
      "cell_type": "code",
      "metadata": {
        "id": "PGBemtd6ub7F",
        "outputId": "c9e81526-1c60-4f4f-c588-8a61be471f0f"
      },
      "source": [
        "sns.countplot(df[\"internet\"], palette=\"coolwarm\", hue=\"sex\", data=df)"
      ],
      "execution_count": null,
      "outputs": [
        {
          "output_type": "execute_result",
          "data": {
            "text/plain": [
              "<matplotlib.axes._subplots.AxesSubplot at 0x15a032db100>"
            ]
          },
          "metadata": {},
          "execution_count": 26
        },
        {
          "output_type": "display_data",
          "data": {
            "image/png": "[encoded data removed]",
            "text/plain": [
              "<Figure size 432x288 with 1 Axes>"
            ]
          },
          "metadata": {
            "needs_background": "light"
          }
        }
      ]
    },
    {
      "cell_type": "code",
      "metadata": {
        "id": "Szt_5jYWub7G",
        "outputId": "ee6ce79d-f905-43a8-c424-b6a59b4e641c"
      },
      "source": [
        "sns.countplot(df[\"romantic\"], palette=\"coolwarm\", hue=\"sex\", data=df)"
      ],
      "execution_count": null,
      "outputs": [
        {
          "output_type": "execute_result",
          "data": {
            "text/plain": [
              "<matplotlib.axes._subplots.AxesSubplot at 0x15a03332520>"
            ]
          },
          "metadata": {},
          "execution_count": 27
        },
        {
          "output_type": "display_data",
          "data": {
            "image/png": "[encoded data removed]",
            "text/plain": [
              "<Figure size 432x288 with 1 Axes>"
            ]
          },
          "metadata": {
            "needs_background": "light"
          }
        }
      ]
    },
    {
      "cell_type": "code",
      "metadata": {
        "id": "mBasyqW7ub7G"
      },
      "source": [
        "X = df.drop(['G1', 'G2', 'G3'], axis=1)"
      ],
      "execution_count": 3,
      "outputs": []
    },
    {
      "cell_type": "code",
      "metadata": {
        "colab": {
          "base_uri": "https://localhost:8080/",
          "height": 443
        },
        "id": "qZqZJO52ub7H",
        "outputId": "16bb9d78-3ac6-4d56-bc5b-326c511aa776"
      },
      "source": [
        "X"
      ],
      "execution_count": 4,
      "outputs": [
        {
          "output_type": "execute_result",
          "data": {
            "text/html": [
              "<div>\n",
              "<style scoped>\n",
              "    .dataframe tbody tr th:only-of-type {\n",
              "        vertical-align: middle;\n",
              "    }\n",
              "\n",
              "    .dataframe tbody tr th {\n",
              "        vertical-align: top;\n",
              "    }\n",
              "\n",
              "    .dataframe thead th {\n",
              "        text-align: right;\n",
              "    }\n",
              "</style>\n",
              "<table border=\"1\" class=\"dataframe\">\n",
              "  <thead>\n",
              "    <tr style=\"text-align: right;\">\n",
              "      <th></th>\n",
              "      <th>school</th>\n",
              "      <th>sex</th>\n",
              "      <th>age</th>\n",
              "      <th>address</th>\n",
              "      <th>famsize</th>\n",
              "      <th>Pstatus</th>\n",
              "      <th>Medu</th>\n",
              "      <th>Fedu</th>\n",
              "      <th>Mjob</th>\n",
              "      <th>Fjob</th>\n",
              "      <th>reason</th>\n",
              "      <th>guardian</th>\n",
              "      <th>traveltime</th>\n",
              "      <th>studytime</th>\n",
              "      <th>failures</th>\n",
              "      <th>schoolsup</th>\n",
              "      <th>famsup</th>\n",
              "      <th>paid</th>\n",
              "      <th>activities</th>\n",
              "      <th>nursery</th>\n",
              "      <th>higher</th>\n",
              "      <th>internet</th>\n",
              "      <th>romantic</th>\n",
              "      <th>famrel</th>\n",
              "      <th>freetime</th>\n",
              "      <th>goout</th>\n",
              "      <th>Dalc</th>\n",
              "      <th>Walc</th>\n",
              "      <th>health</th>\n",
              "      <th>absences</th>\n",
              "    </tr>\n",
              "  </thead>\n",
              "  <tbody>\n",
              "    <tr>\n",
              "      <th>0</th>\n",
              "      <td>GP</td>\n",
              "      <td>F</td>\n",
              "      <td>18</td>\n",
              "      <td>U</td>\n",
              "      <td>GT3</td>\n",
              "      <td>A</td>\n",
              "      <td>4</td>\n",
              "      <td>4</td>\n",
              "      <td>at_home</td>\n",
              "      <td>teacher</td>\n",
              "      <td>course</td>\n",
              "      <td>mother</td>\n",
              "      <td>2</td>\n",
              "      <td>2</td>\n",
              "      <td>0</td>\n",
              "      <td>yes</td>\n",
              "      <td>no</td>\n",
              "      <td>no</td>\n",
              "      <td>no</td>\n",
              "      <td>yes</td>\n",
              "      <td>yes</td>\n",
              "      <td>no</td>\n",
              "      <td>no</td>\n",
              "      <td>4</td>\n",
              "      <td>3</td>\n",
              "      <td>4</td>\n",
              "      <td>1</td>\n",
              "      <td>1</td>\n",
              "      <td>3</td>\n",
              "      <td>6</td>\n",
              "    </tr>\n",
              "    <tr>\n",
              "      <th>1</th>\n",
              "      <td>GP</td>\n",
              "      <td>F</td>\n",
              "      <td>17</td>\n",
              "      <td>U</td>\n",
              "      <td>GT3</td>\n",
              "      <td>T</td>\n",
              "      <td>1</td>\n",
              "      <td>1</td>\n",
              "      <td>at_home</td>\n",
              "      <td>other</td>\n",
              "      <td>course</td>\n",
              "      <td>father</td>\n",
              "      <td>1</td>\n",
              "      <td>2</td>\n",
              "      <td>0</td>\n",
              "      <td>no</td>\n",
              "      <td>yes</td>\n",
              "      <td>no</td>\n",
              "      <td>no</td>\n",
              "      <td>no</td>\n",
              "      <td>yes</td>\n",
              "      <td>yes</td>\n",
              "      <td>no</td>\n",
              "      <td>5</td>\n",
              "      <td>3</td>\n",
              "      <td>3</td>\n",
              "      <td>1</td>\n",
              "      <td>1</td>\n",
              "      <td>3</td>\n",
              "      <td>4</td>\n",
              "    </tr>\n",
              "    <tr>\n",
              "      <th>2</th>\n",
              "      <td>GP</td>\n",
              "      <td>F</td>\n",
              "      <td>15</td>\n",
              "      <td>U</td>\n",
              "      <td>LE3</td>\n",
              "      <td>T</td>\n",
              "      <td>1</td>\n",
              "      <td>1</td>\n",
              "      <td>at_home</td>\n",
              "      <td>other</td>\n",
              "      <td>other</td>\n",
              "      <td>mother</td>\n",
              "      <td>1</td>\n",
              "      <td>2</td>\n",
              "      <td>3</td>\n",
              "      <td>yes</td>\n",
              "      <td>no</td>\n",
              "      <td>yes</td>\n",
              "      <td>no</td>\n",
              "      <td>yes</td>\n",
              "      <td>yes</td>\n",
              "      <td>yes</td>\n",
              "      <td>no</td>\n",
              "      <td>4</td>\n",
              "      <td>3</td>\n",
              "      <td>2</td>\n",
              "      <td>2</td>\n",
              "      <td>3</td>\n",
              "      <td>3</td>\n",
              "      <td>10</td>\n",
              "    </tr>\n",
              "    <tr>\n",
              "      <th>3</th>\n",
              "      <td>GP</td>\n",
              "      <td>F</td>\n",
              "      <td>15</td>\n",
              "      <td>U</td>\n",
              "      <td>GT3</td>\n",
              "      <td>T</td>\n",
              "      <td>4</td>\n",
              "      <td>2</td>\n",
              "      <td>health</td>\n",
              "      <td>services</td>\n",
              "      <td>home</td>\n",
              "      <td>mother</td>\n",
              "      <td>1</td>\n",
              "      <td>3</td>\n",
              "      <td>0</td>\n",
              "      <td>no</td>\n",
              "      <td>yes</td>\n",
              "      <td>yes</td>\n",
              "      <td>yes</td>\n",
              "      <td>yes</td>\n",
              "      <td>yes</td>\n",
              "      <td>yes</td>\n",
              "      <td>yes</td>\n",
              "      <td>3</td>\n",
              "      <td>2</td>\n",
              "      <td>2</td>\n",
              "      <td>1</td>\n",
              "      <td>1</td>\n",
              "      <td>5</td>\n",
              "      <td>2</td>\n",
              "    </tr>\n",
              "    <tr>\n",
              "      <th>4</th>\n",
              "      <td>GP</td>\n",
              "      <td>F</td>\n",
              "      <td>16</td>\n",
              "      <td>U</td>\n",
              "      <td>GT3</td>\n",
              "      <td>T</td>\n",
              "      <td>3</td>\n",
              "      <td>3</td>\n",
              "      <td>other</td>\n",
              "      <td>other</td>\n",
              "      <td>home</td>\n",
              "      <td>father</td>\n",
              "      <td>1</td>\n",
              "      <td>2</td>\n",
              "      <td>0</td>\n",
              "      <td>no</td>\n",
              "      <td>yes</td>\n",
              "      <td>yes</td>\n",
              "      <td>no</td>\n",
              "      <td>yes</td>\n",
              "      <td>yes</td>\n",
              "      <td>no</td>\n",
              "      <td>no</td>\n",
              "      <td>4</td>\n",
              "      <td>3</td>\n",
              "      <td>2</td>\n",
              "      <td>1</td>\n",
              "      <td>2</td>\n",
              "      <td>5</td>\n",
              "      <td>4</td>\n",
              "    </tr>\n",
              "    <tr>\n",
              "      <th>...</th>\n",
              "      <td>...</td>\n",
              "      <td>...</td>\n",
              "      <td>...</td>\n",
              "      <td>...</td>\n",
              "      <td>...</td>\n",
              "      <td>...</td>\n",
              "      <td>...</td>\n",
              "      <td>...</td>\n",
              "      <td>...</td>\n",
              "      <td>...</td>\n",
              "      <td>...</td>\n",
              "      <td>...</td>\n",
              "      <td>...</td>\n",
              "      <td>...</td>\n",
              "      <td>...</td>\n",
              "      <td>...</td>\n",
              "      <td>...</td>\n",
              "      <td>...</td>\n",
              "      <td>...</td>\n",
              "      <td>...</td>\n",
              "      <td>...</td>\n",
              "      <td>...</td>\n",
              "      <td>...</td>\n",
              "      <td>...</td>\n",
              "      <td>...</td>\n",
              "      <td>...</td>\n",
              "      <td>...</td>\n",
              "      <td>...</td>\n",
              "      <td>...</td>\n",
              "      <td>...</td>\n",
              "    </tr>\n",
              "    <tr>\n",
              "      <th>390</th>\n",
              "      <td>MS</td>\n",
              "      <td>M</td>\n",
              "      <td>20</td>\n",
              "      <td>U</td>\n",
              "      <td>LE3</td>\n",
              "      <td>A</td>\n",
              "      <td>2</td>\n",
              "      <td>2</td>\n",
              "      <td>services</td>\n",
              "      <td>services</td>\n",
              "      <td>course</td>\n",
              "      <td>other</td>\n",
              "      <td>1</td>\n",
              "      <td>2</td>\n",
              "      <td>2</td>\n",
              "      <td>no</td>\n",
              "      <td>yes</td>\n",
              "      <td>yes</td>\n",
              "      <td>no</td>\n",
              "      <td>yes</td>\n",
              "      <td>yes</td>\n",
              "      <td>no</td>\n",
              "      <td>no</td>\n",
              "      <td>5</td>\n",
              "      <td>5</td>\n",
              "      <td>4</td>\n",
              "      <td>4</td>\n",
              "      <td>5</td>\n",
              "      <td>4</td>\n",
              "      <td>11</td>\n",
              "    </tr>\n",
              "    <tr>\n",
              "      <th>391</th>\n",
              "      <td>MS</td>\n",
              "      <td>M</td>\n",
              "      <td>17</td>\n",
              "      <td>U</td>\n",
              "      <td>LE3</td>\n",
              "      <td>T</td>\n",
              "      <td>3</td>\n",
              "      <td>1</td>\n",
              "      <td>services</td>\n",
              "      <td>services</td>\n",
              "      <td>course</td>\n",
              "      <td>mother</td>\n",
              "      <td>2</td>\n",
              "      <td>1</td>\n",
              "      <td>0</td>\n",
              "      <td>no</td>\n",
              "      <td>no</td>\n",
              "      <td>no</td>\n",
              "      <td>no</td>\n",
              "      <td>no</td>\n",
              "      <td>yes</td>\n",
              "      <td>yes</td>\n",
              "      <td>no</td>\n",
              "      <td>2</td>\n",
              "      <td>4</td>\n",
              "      <td>5</td>\n",
              "      <td>3</td>\n",
              "      <td>4</td>\n",
              "      <td>2</td>\n",
              "      <td>3</td>\n",
              "    </tr>\n",
              "    <tr>\n",
              "      <th>392</th>\n",
              "      <td>MS</td>\n",
              "      <td>M</td>\n",
              "      <td>21</td>\n",
              "      <td>R</td>\n",
              "      <td>GT3</td>\n",
              "      <td>T</td>\n",
              "      <td>1</td>\n",
              "      <td>1</td>\n",
              "      <td>other</td>\n",
              "      <td>other</td>\n",
              "      <td>course</td>\n",
              "      <td>other</td>\n",
              "      <td>1</td>\n",
              "      <td>1</td>\n",
              "      <td>3</td>\n",
              "      <td>no</td>\n",
              "      <td>no</td>\n",
              "      <td>no</td>\n",
              "      <td>no</td>\n",
              "      <td>no</td>\n",
              "      <td>yes</td>\n",
              "      <td>no</td>\n",
              "      <td>no</td>\n",
              "      <td>5</td>\n",
              "      <td>5</td>\n",
              "      <td>3</td>\n",
              "      <td>3</td>\n",
              "      <td>3</td>\n",
              "      <td>3</td>\n",
              "      <td>3</td>\n",
              "    </tr>\n",
              "    <tr>\n",
              "      <th>393</th>\n",
              "      <td>MS</td>\n",
              "      <td>M</td>\n",
              "      <td>18</td>\n",
              "      <td>R</td>\n",
              "      <td>LE3</td>\n",
              "      <td>T</td>\n",
              "      <td>3</td>\n",
              "      <td>2</td>\n",
              "      <td>services</td>\n",
              "      <td>other</td>\n",
              "      <td>course</td>\n",
              "      <td>mother</td>\n",
              "      <td>3</td>\n",
              "      <td>1</td>\n",
              "      <td>0</td>\n",
              "      <td>no</td>\n",
              "      <td>no</td>\n",
              "      <td>no</td>\n",
              "      <td>no</td>\n",
              "      <td>no</td>\n",
              "      <td>yes</td>\n",
              "      <td>yes</td>\n",
              "      <td>no</td>\n",
              "      <td>4</td>\n",
              "      <td>4</td>\n",
              "      <td>1</td>\n",
              "      <td>3</td>\n",
              "      <td>4</td>\n",
              "      <td>5</td>\n",
              "      <td>0</td>\n",
              "    </tr>\n",
              "    <tr>\n",
              "      <th>394</th>\n",
              "      <td>MS</td>\n",
              "      <td>M</td>\n",
              "      <td>19</td>\n",
              "      <td>U</td>\n",
              "      <td>LE3</td>\n",
              "      <td>T</td>\n",
              "      <td>1</td>\n",
              "      <td>1</td>\n",
              "      <td>other</td>\n",
              "      <td>at_home</td>\n",
              "      <td>course</td>\n",
              "      <td>father</td>\n",
              "      <td>1</td>\n",
              "      <td>1</td>\n",
              "      <td>0</td>\n",
              "      <td>no</td>\n",
              "      <td>no</td>\n",
              "      <td>no</td>\n",
              "      <td>no</td>\n",
              "      <td>yes</td>\n",
              "      <td>yes</td>\n",
              "      <td>yes</td>\n",
              "      <td>no</td>\n",
              "      <td>3</td>\n",
              "      <td>2</td>\n",
              "      <td>3</td>\n",
              "      <td>3</td>\n",
              "      <td>3</td>\n",
              "      <td>5</td>\n",
              "      <td>5</td>\n",
              "    </tr>\n",
              "  </tbody>\n",
              "</table>\n",
              "<p>395 rows × 30 columns</p>\n",
              "</div>"
            ],
            "text/plain": [
              "    school sex  age address famsize  ... goout  Dalc  Walc health absences\n",
              "0       GP   F   18       U     GT3  ...     4     1     1      3        6\n",
              "1       GP   F   17       U     GT3  ...     3     1     1      3        4\n",
              "2       GP   F   15       U     LE3  ...     2     2     3      3       10\n",
              "3       GP   F   15       U     GT3  ...     2     1     1      5        2\n",
              "4       GP   F   16       U     GT3  ...     2     1     2      5        4\n",
              "..     ...  ..  ...     ...     ...  ...   ...   ...   ...    ...      ...\n",
              "390     MS   M   20       U     LE3  ...     4     4     5      4       11\n",
              "391     MS   M   17       U     LE3  ...     5     3     4      2        3\n",
              "392     MS   M   21       R     GT3  ...     3     3     3      3        3\n",
              "393     MS   M   18       R     LE3  ...     1     3     4      5        0\n",
              "394     MS   M   19       U     LE3  ...     3     3     3      5        5\n",
              "\n",
              "[395 rows x 30 columns]"
            ]
          },
          "metadata": {},
          "execution_count": 4
        }
      ]
    },
    {
      "cell_type": "code",
      "metadata": {
        "id": "QGwOOyzgub7H"
      },
      "source": [
        "y = df[\"G1\"]"
      ],
      "execution_count": 5,
      "outputs": []
    },
    {
      "cell_type": "code",
      "metadata": {
        "colab": {
          "base_uri": "https://localhost:8080/"
        },
        "id": "fr1KesYEub7I",
        "outputId": "d3e8b487-63d7-495e-ec55-efc2d4de2f6d"
      },
      "source": [
        "y"
      ],
      "execution_count": 6,
      "outputs": [
        {
          "output_type": "execute_result",
          "data": {
            "text/plain": [
              "0       5\n",
              "1       5\n",
              "2       7\n",
              "3      15\n",
              "4       6\n",
              "       ..\n",
              "390     9\n",
              "391    14\n",
              "392    10\n",
              "393    11\n",
              "394     8\n",
              "Name: G1, Length: 395, dtype: int64"
            ]
          },
          "metadata": {},
          "execution_count": 6
        }
      ]
    },
    {
      "cell_type": "code",
      "metadata": {
        "id": "EpKl2oRmub7I"
      },
      "source": [
        "from sklearn.base import BaseEstimator, TransformerMixin\n",
        "\n",
        "class DataFrameSelector(BaseEstimator, TransformerMixin):\n",
        "    def __init__(self, attribute_names):\n",
        "        self.attribute_names = attribute_names\n",
        "    def fit(self, X, y=None):\n",
        "        return self\n",
        "    def transform(self, X):\n",
        "        return X[self.attribute_names]"
      ],
      "execution_count": 7,
      "outputs": []
    },
    {
      "cell_type": "code",
      "metadata": {
        "id": "B_102Dy2ub7J"
      },
      "source": [
        "from sklearn.pipeline import Pipeline\n",
        "from sklearn.preprocessing import OneHotEncoder\n",
        "cat_pipeline = Pipeline([\n",
        "        (\"select_cat\", DataFrameSelector(['school', 'sex', 'address', 'famsize', 'Pstatus', 'Mjob', 'Fjob', 'reason', 'guardian', 'schoolsup', 'famsup', 'paid', 'activities', 'nursery', 'higher', 'internet', 'romantic'])),\n",
        "        (\"cat_encoder\", OneHotEncoder(sparse=False)),\n",
        "    ])"
      ],
      "execution_count": 8,
      "outputs": []
    },
    {
      "cell_type": "code",
      "metadata": {
        "id": "pJRfsAb8ub7K"
      },
      "source": [
        "from sklearn.model_selection import train_test_split\n",
        "X_train, X_test, y_train, y_test = train_test_split(X, y, test_size=0.2)"
      ],
      "execution_count": 9,
      "outputs": []
    },
    {
      "cell_type": "code",
      "metadata": {
        "id": "WoeKUxy-ub7K"
      },
      "source": [
        "X_train = cat_pipeline.fit_transform(X_train)"
      ],
      "execution_count": 10,
      "outputs": []
    },
    {
      "cell_type": "code",
      "metadata": {
        "colab": {
          "base_uri": "https://localhost:8080/"
        },
        "id": "vkMyF74-ub7L",
        "outputId": "7eeb31e8-8b2e-48e4-d2e4-d911dc9b8435"
      },
      "source": [
        "X_train"
      ],
      "execution_count": 11,
      "outputs": [
        {
          "output_type": "execute_result",
          "data": {
            "text/plain": [
              "array([[1., 0., 0., ..., 1., 0., 1.],\n",
              "       [1., 0., 0., ..., 0., 0., 1.],\n",
              "       [1., 0., 1., ..., 1., 0., 1.],\n",
              "       ...,\n",
              "       [1., 0., 0., ..., 1., 1., 0.],\n",
              "       [1., 0., 1., ..., 1., 0., 1.],\n",
              "       [1., 0., 1., ..., 1., 0., 1.]])"
            ]
          },
          "metadata": {},
          "execution_count": 11
        }
      ]
    },
    {
      "cell_type": "code",
      "metadata": {
        "id": "Ej7OMD56ub7L"
      },
      "source": [
        "X_test = cat_pipeline.fit_transform(X_test)"
      ],
      "execution_count": 12,
      "outputs": []
    },
    {
      "cell_type": "code",
      "metadata": {
        "colab": {
          "base_uri": "https://localhost:8080/"
        },
        "id": "ymp5eO9pub7M",
        "outputId": "d6f65bcb-55a6-4f44-baea-f70f2121fdcf"
      },
      "source": [
        "X_test"
      ],
      "execution_count": 13,
      "outputs": [
        {
          "output_type": "execute_result",
          "data": {
            "text/plain": [
              "array([[1., 0., 1., ..., 1., 1., 0.],\n",
              "       [1., 0., 1., ..., 1., 1., 0.],\n",
              "       [1., 0., 0., ..., 1., 0., 1.],\n",
              "       ...,\n",
              "       [1., 0., 1., ..., 0., 1., 0.],\n",
              "       [1., 0., 1., ..., 1., 1., 0.],\n",
              "       [1., 0., 0., ..., 1., 1., 0.]])"
            ]
          },
          "metadata": {},
          "execution_count": 13
        }
      ]
    },
    {
      "cell_type": "markdown",
      "metadata": {
        "id": "beIwn6D3u29D"
      },
      "source": [
        "# Building the Ann"
      ]
    },
    {
      "cell_type": "code",
      "metadata": {
        "id": "-zyqr9dIu-FK"
      },
      "source": [
        "import tensorflow as tf\n"
      ],
      "execution_count": 14,
      "outputs": []
    },
    {
      "cell_type": "code",
      "metadata": {
        "id": "6xLX8_zEvPKE"
      },
      "source": [
        "ann = tf.keras.Sequential()"
      ],
      "execution_count": 15,
      "outputs": []
    },
    {
      "cell_type": "markdown",
      "metadata": {
        "id": "mBc_zPdvvZCs"
      },
      "source": [
        "Adding layers\n"
      ]
    },
    {
      "cell_type": "code",
      "metadata": {
        "id": "l7op17lbvXGG"
      },
      "source": [
        "ann.add(tf.keras.layers.Dense(units=6, activation='relu'))"
      ],
      "execution_count": 16,
      "outputs": []
    },
    {
      "cell_type": "code",
      "metadata": {
        "id": "YNEJuYhUvjuK"
      },
      "source": [
        "ann.add(tf.keras.layers.Dense(units=6, activation='relu'))"
      ],
      "execution_count": 17,
      "outputs": []
    },
    {
      "cell_type": "code",
      "metadata": {
        "id": "VyeMxcdlvnJK"
      },
      "source": [
        "ann.add(tf.keras.layers.Dense(units=1))"
      ],
      "execution_count": 18,
      "outputs": []
    },
    {
      "cell_type": "markdown",
      "metadata": {
        "id": "RqGah5pNvu3U"
      },
      "source": [
        "Compiling the trainer "
      ]
    },
    {
      "cell_type": "code",
      "metadata": {
        "id": "7Det_MoVvrxi"
      },
      "source": [
        "ann.compile(optimizer = 'adam', loss = 'mean_squared_error')"
      ],
      "execution_count": 19,
      "outputs": []
    },
    {
      "cell_type": "markdown",
      "metadata": {
        "id": "TqVEUseRv1ZQ"
      },
      "source": [
        "Trining the data set \n"
      ]
    },
    {
      "cell_type": "code",
      "metadata": {
        "colab": {
          "base_uri": "https://localhost:8080/"
        },
        "id": "R1v55nJbv5LJ",
        "outputId": "36aa3330-6809-4222-c0b5-0723be93248d"
      },
      "source": [
        "ann.fit(X_train, y_train, batch_size = 32, epochs = 100)"
      ],
      "execution_count": 20,
      "outputs": [
        {
          "output_type": "stream",
          "name": "stdout",
          "text": [
            "Epoch 1/100\n",
            "10/10 [==============================] - 1s 2ms/step - loss: 113.8594\n",
            "Epoch 2/100\n",
            "10/10 [==============================] - 0s 2ms/step - loss: 104.2972\n",
            "Epoch 3/100\n",
            "10/10 [==============================] - 0s 1ms/step - loss: 95.3391\n",
            "Epoch 4/100\n",
            "10/10 [==============================] - 0s 2ms/step - loss: 86.4078\n",
            "Epoch 5/100\n",
            "10/10 [==============================] - 0s 2ms/step - loss: 77.8854\n",
            "Epoch 6/100\n",
            "10/10 [==============================] - 0s 2ms/step - loss: 69.5182\n",
            "Epoch 7/100\n",
            "10/10 [==============================] - 0s 2ms/step - loss: 61.4935\n",
            "Epoch 8/100\n",
            "10/10 [==============================] - 0s 2ms/step - loss: 53.9356\n",
            "Epoch 9/100\n",
            "10/10 [==============================] - 0s 2ms/step - loss: 46.8866\n",
            "Epoch 10/100\n",
            "10/10 [==============================] - 0s 2ms/step - loss: 40.3366\n",
            "Epoch 11/100\n",
            "10/10 [==============================] - 0s 2ms/step - loss: 34.6062\n",
            "Epoch 12/100\n",
            "10/10 [==============================] - 0s 2ms/step - loss: 29.3852\n",
            "Epoch 13/100\n",
            "10/10 [==============================] - 0s 3ms/step - loss: 25.0515\n",
            "Epoch 14/100\n",
            "10/10 [==============================] - 0s 2ms/step - loss: 21.4591\n",
            "Epoch 15/100\n",
            "10/10 [==============================] - 0s 2ms/step - loss: 18.5238\n",
            "Epoch 16/100\n",
            "10/10 [==============================] - 0s 2ms/step - loss: 16.3103\n",
            "Epoch 17/100\n",
            "10/10 [==============================] - 0s 2ms/step - loss: 14.7154\n",
            "Epoch 18/100\n",
            "10/10 [==============================] - 0s 2ms/step - loss: 13.6426\n",
            "Epoch 19/100\n",
            "10/10 [==============================] - 0s 2ms/step - loss: 12.8515\n",
            "Epoch 20/100\n",
            "10/10 [==============================] - 0s 2ms/step - loss: 12.3871\n",
            "Epoch 21/100\n",
            "10/10 [==============================] - 0s 2ms/step - loss: 12.0711\n",
            "Epoch 22/100\n",
            "10/10 [==============================] - 0s 2ms/step - loss: 11.9026\n",
            "Epoch 23/100\n",
            "10/10 [==============================] - 0s 2ms/step - loss: 11.7999\n",
            "Epoch 24/100\n",
            "10/10 [==============================] - 0s 2ms/step - loss: 11.6999\n",
            "Epoch 25/100\n",
            "10/10 [==============================] - 0s 2ms/step - loss: 11.6461\n",
            "Epoch 26/100\n",
            "10/10 [==============================] - 0s 2ms/step - loss: 11.5876\n",
            "Epoch 27/100\n",
            "10/10 [==============================] - 0s 2ms/step - loss: 11.5458\n",
            "Epoch 28/100\n",
            "10/10 [==============================] - 0s 2ms/step - loss: 11.4967\n",
            "Epoch 29/100\n",
            "10/10 [==============================] - 0s 2ms/step - loss: 11.4348\n",
            "Epoch 30/100\n",
            "10/10 [==============================] - 0s 3ms/step - loss: 11.3923\n",
            "Epoch 31/100\n",
            "10/10 [==============================] - 0s 2ms/step - loss: 11.3383\n",
            "Epoch 32/100\n",
            "10/10 [==============================] - 0s 2ms/step - loss: 11.2911\n",
            "Epoch 33/100\n",
            "10/10 [==============================] - 0s 2ms/step - loss: 11.2424\n",
            "Epoch 34/100\n",
            "10/10 [==============================] - 0s 3ms/step - loss: 11.1916\n",
            "Epoch 35/100\n",
            "10/10 [==============================] - 0s 2ms/step - loss: 11.1415\n",
            "Epoch 36/100\n",
            "10/10 [==============================] - 0s 2ms/step - loss: 11.0887\n",
            "Epoch 37/100\n",
            "10/10 [==============================] - 0s 2ms/step - loss: 11.0383\n",
            "Epoch 38/100\n",
            "10/10 [==============================] - 0s 2ms/step - loss: 10.9866\n",
            "Epoch 39/100\n",
            "10/10 [==============================] - 0s 2ms/step - loss: 10.9392\n",
            "Epoch 40/100\n",
            "10/10 [==============================] - 0s 2ms/step - loss: 10.8794\n",
            "Epoch 41/100\n",
            "10/10 [==============================] - 0s 2ms/step - loss: 10.8326\n",
            "Epoch 42/100\n",
            "10/10 [==============================] - 0s 2ms/step - loss: 10.7870\n",
            "Epoch 43/100\n",
            "10/10 [==============================] - 0s 2ms/step - loss: 10.7360\n",
            "Epoch 44/100\n",
            "10/10 [==============================] - 0s 2ms/step - loss: 10.6803\n",
            "Epoch 45/100\n",
            "10/10 [==============================] - 0s 2ms/step - loss: 10.6353\n",
            "Epoch 46/100\n",
            "10/10 [==============================] - 0s 2ms/step - loss: 10.5930\n",
            "Epoch 47/100\n",
            "10/10 [==============================] - 0s 2ms/step - loss: 10.5476\n",
            "Epoch 48/100\n",
            "10/10 [==============================] - 0s 2ms/step - loss: 10.4991\n",
            "Epoch 49/100\n",
            "10/10 [==============================] - 0s 2ms/step - loss: 10.4521\n",
            "Epoch 50/100\n",
            "10/10 [==============================] - 0s 2ms/step - loss: 10.4126\n",
            "Epoch 51/100\n",
            "10/10 [==============================] - 0s 2ms/step - loss: 10.3536\n",
            "Epoch 52/100\n",
            "10/10 [==============================] - 0s 2ms/step - loss: 10.2982\n",
            "Epoch 53/100\n",
            "10/10 [==============================] - 0s 2ms/step - loss: 10.2532\n",
            "Epoch 54/100\n",
            "10/10 [==============================] - 0s 2ms/step - loss: 10.1980\n",
            "Epoch 55/100\n",
            "10/10 [==============================] - 0s 2ms/step - loss: 10.1538\n",
            "Epoch 56/100\n",
            "10/10 [==============================] - 0s 2ms/step - loss: 10.1061\n",
            "Epoch 57/100\n",
            "10/10 [==============================] - 0s 2ms/step - loss: 10.0664\n",
            "Epoch 58/100\n",
            "10/10 [==============================] - 0s 2ms/step - loss: 10.0191\n",
            "Epoch 59/100\n",
            "10/10 [==============================] - 0s 2ms/step - loss: 9.9735\n",
            "Epoch 60/100\n",
            "10/10 [==============================] - 0s 2ms/step - loss: 9.9284\n",
            "Epoch 61/100\n",
            "10/10 [==============================] - 0s 2ms/step - loss: 9.8873\n",
            "Epoch 62/100\n",
            "10/10 [==============================] - 0s 2ms/step - loss: 9.8381\n",
            "Epoch 63/100\n",
            "10/10 [==============================] - 0s 2ms/step - loss: 9.7962\n",
            "Epoch 64/100\n",
            "10/10 [==============================] - 0s 2ms/step - loss: 9.7576\n",
            "Epoch 65/100\n",
            "10/10 [==============================] - 0s 2ms/step - loss: 9.7247\n",
            "Epoch 66/100\n",
            "10/10 [==============================] - 0s 2ms/step - loss: 9.6810\n",
            "Epoch 67/100\n",
            "10/10 [==============================] - 0s 2ms/step - loss: 9.6385\n",
            "Epoch 68/100\n",
            "10/10 [==============================] - 0s 2ms/step - loss: 9.6023\n",
            "Epoch 69/100\n",
            "10/10 [==============================] - 0s 2ms/step - loss: 9.5623\n",
            "Epoch 70/100\n",
            "10/10 [==============================] - 0s 2ms/step - loss: 9.5216\n",
            "Epoch 71/100\n",
            "10/10 [==============================] - 0s 2ms/step - loss: 9.4877\n",
            "Epoch 72/100\n",
            "10/10 [==============================] - 0s 2ms/step - loss: 9.4510\n",
            "Epoch 73/100\n",
            "10/10 [==============================] - 0s 2ms/step - loss: 9.4127\n",
            "Epoch 74/100\n",
            "10/10 [==============================] - 0s 2ms/step - loss: 9.3787\n",
            "Epoch 75/100\n",
            "10/10 [==============================] - 0s 2ms/step - loss: 9.3426\n",
            "Epoch 76/100\n",
            "10/10 [==============================] - 0s 1ms/step - loss: 9.3063\n",
            "Epoch 77/100\n",
            "10/10 [==============================] - 0s 2ms/step - loss: 9.2751\n",
            "Epoch 78/100\n",
            "10/10 [==============================] - 0s 2ms/step - loss: 9.2446\n",
            "Epoch 79/100\n",
            "10/10 [==============================] - 0s 2ms/step - loss: 9.2207\n",
            "Epoch 80/100\n",
            "10/10 [==============================] - 0s 2ms/step - loss: 9.1851\n",
            "Epoch 81/100\n",
            "10/10 [==============================] - 0s 2ms/step - loss: 9.1650\n",
            "Epoch 82/100\n",
            "10/10 [==============================] - 0s 1ms/step - loss: 9.1293\n",
            "Epoch 83/100\n",
            "10/10 [==============================] - 0s 2ms/step - loss: 9.0999\n",
            "Epoch 84/100\n",
            "10/10 [==============================] - 0s 2ms/step - loss: 9.0771\n",
            "Epoch 85/100\n",
            "10/10 [==============================] - 0s 1ms/step - loss: 9.0461\n",
            "Epoch 86/100\n",
            "10/10 [==============================] - 0s 2ms/step - loss: 9.0197\n",
            "Epoch 87/100\n",
            "10/10 [==============================] - 0s 2ms/step - loss: 9.0016\n",
            "Epoch 88/100\n",
            "10/10 [==============================] - 0s 2ms/step - loss: 8.9667\n",
            "Epoch 89/100\n",
            "10/10 [==============================] - 0s 2ms/step - loss: 8.9449\n",
            "Epoch 90/100\n",
            "10/10 [==============================] - 0s 2ms/step - loss: 8.9192\n",
            "Epoch 91/100\n",
            "10/10 [==============================] - 0s 2ms/step - loss: 8.8949\n",
            "Epoch 92/100\n",
            "10/10 [==============================] - 0s 2ms/step - loss: 8.8799\n",
            "Epoch 93/100\n",
            "10/10 [==============================] - 0s 2ms/step - loss: 8.8511\n",
            "Epoch 94/100\n",
            "10/10 [==============================] - 0s 2ms/step - loss: 8.8260\n",
            "Epoch 95/100\n",
            "10/10 [==============================] - 0s 2ms/step - loss: 8.8018\n",
            "Epoch 96/100\n",
            "10/10 [==============================] - 0s 2ms/step - loss: 8.7889\n",
            "Epoch 97/100\n",
            "10/10 [==============================] - 0s 2ms/step - loss: 8.7638\n",
            "Epoch 98/100\n",
            "10/10 [==============================] - 0s 2ms/step - loss: 8.7392\n",
            "Epoch 99/100\n",
            "10/10 [==============================] - 0s 2ms/step - loss: 8.7335\n",
            "Epoch 100/100\n",
            "10/10 [==============================] - 0s 2ms/step - loss: 8.7020\n"
          ]
        },
        {
          "output_type": "execute_result",
          "data": {
            "text/plain": [
              "<keras.callbacks.History at 0x7f8d26d35bd0>"
            ]
          },
          "metadata": {},
          "execution_count": 20
        }
      ]
    },
    {
      "cell_type": "code",
      "metadata": {
        "id": "iYmA198Nub7N"
      },
      "source": [
        "y_pred = ann.predict(X_test)"
      ],
      "execution_count": 21,
      "outputs": []
    },
    {
      "cell_type": "code",
      "metadata": {
        "colab": {
          "base_uri": "https://localhost:8080/"
        },
        "id": "RRubmRh-wP0R",
        "outputId": "c7be91eb-42ed-4bb4-c8ff-427f204878fd"
      },
      "source": [
        "y_pred"
      ],
      "execution_count": 22,
      "outputs": [
        {
          "output_type": "execute_result",
          "data": {
            "text/plain": [
              "array([[10.540394 ],\n",
              "       [ 9.505669 ],\n",
              "       [11.194141 ],\n",
              "       [12.16927  ],\n",
              "       [ 9.56358  ],\n",
              "       [11.049765 ],\n",
              "       [11.7570915],\n",
              "       [11.161573 ],\n",
              "       [11.633154 ],\n",
              "       [10.423462 ],\n",
              "       [12.242308 ],\n",
              "       [10.896618 ],\n",
              "       [11.427168 ],\n",
              "       [10.064417 ],\n",
              "       [10.869326 ],\n",
              "       [11.063562 ],\n",
              "       [12.136061 ],\n",
              "       [10.953747 ],\n",
              "       [12.757244 ],\n",
              "       [10.935036 ],\n",
              "       [11.189758 ],\n",
              "       [11.3844185],\n",
              "       [10.291523 ],\n",
              "       [ 9.952293 ],\n",
              "       [ 9.255514 ],\n",
              "       [ 8.70467  ],\n",
              "       [12.649216 ],\n",
              "       [11.723755 ],\n",
              "       [11.596016 ],\n",
              "       [11.755262 ],\n",
              "       [ 9.960129 ],\n",
              "       [13.18099  ],\n",
              "       [12.873926 ],\n",
              "       [11.196354 ],\n",
              "       [ 8.353107 ],\n",
              "       [11.457136 ],\n",
              "       [10.64382  ],\n",
              "       [ 9.048426 ],\n",
              "       [11.00404  ],\n",
              "       [12.716318 ],\n",
              "       [ 8.38862  ],\n",
              "       [13.040846 ],\n",
              "       [10.250526 ],\n",
              "       [12.20491  ],\n",
              "       [11.11293  ],\n",
              "       [11.697935 ],\n",
              "       [10.600143 ],\n",
              "       [11.044199 ],\n",
              "       [11.863329 ],\n",
              "       [11.303755 ],\n",
              "       [11.271214 ],\n",
              "       [10.425489 ],\n",
              "       [11.004061 ],\n",
              "       [11.453144 ],\n",
              "       [10.668554 ],\n",
              "       [11.032656 ],\n",
              "       [10.585592 ],\n",
              "       [10.211435 ],\n",
              "       [11.892252 ],\n",
              "       [12.67761  ],\n",
              "       [ 9.843771 ],\n",
              "       [12.18749  ],\n",
              "       [11.725485 ],\n",
              "       [11.15654  ],\n",
              "       [10.97847  ],\n",
              "       [10.991222 ],\n",
              "       [10.721083 ],\n",
              "       [12.136061 ],\n",
              "       [12.857582 ],\n",
              "       [11.152313 ],\n",
              "       [11.115576 ],\n",
              "       [10.022451 ],\n",
              "       [ 9.82316  ],\n",
              "       [10.917227 ],\n",
              "       [11.859535 ],\n",
              "       [ 9.774282 ],\n",
              "       [ 7.4433517],\n",
              "       [12.3405285],\n",
              "       [13.009289 ]], dtype=float32)"
            ]
          },
          "metadata": {},
          "execution_count": 22
        }
      ]
    },
    {
      "cell_type": "code",
      "metadata": {
        "id": "xzCjegtCYLeB"
      },
      "source": [
        "y_pred = np.array(y_pred)\n",
        "y_test = np.array(y_test)"
      ],
      "execution_count": 26,
      "outputs": []
    },
    {
      "cell_type": "code",
      "metadata": {
        "id": "Eb_vZ0_4YgSD"
      },
      "source": [
        "checks = np.concatenate((y_pred.reshape(len(y_pred),1), y_test.reshape(len(y_test),1)),1)"
      ],
      "execution_count": 27,
      "outputs": []
    },
    {
      "cell_type": "code",
      "metadata": {
        "id": "eP1hU0OcY0r-"
      },
      "source": [
        "checks_columns = pd.DataFrame(checks, columns=[\"predicted\", \"Actual\"])"
      ],
      "execution_count": 29,
      "outputs": []
    },
    {
      "cell_type": "code",
      "metadata": {
        "colab": {
          "base_uri": "https://localhost:8080/",
          "height": 423
        },
        "id": "tRi02mlyZH99",
        "outputId": "2f576093-fcd2-4813-8b92-88c205890484"
      },
      "source": [
        "checks_columns"
      ],
      "execution_count": 30,
      "outputs": [
        {
          "output_type": "execute_result",
          "data": {
            "text/html": [
              "<div>\n",
              "<style scoped>\n",
              "    .dataframe tbody tr th:only-of-type {\n",
              "        vertical-align: middle;\n",
              "    }\n",
              "\n",
              "    .dataframe tbody tr th {\n",
              "        vertical-align: top;\n",
              "    }\n",
              "\n",
              "    .dataframe thead th {\n",
              "        text-align: right;\n",
              "    }\n",
              "</style>\n",
              "<table border=\"1\" class=\"dataframe\">\n",
              "  <thead>\n",
              "    <tr style=\"text-align: right;\">\n",
              "      <th></th>\n",
              "      <th>predicted</th>\n",
              "      <th>Actual</th>\n",
              "    </tr>\n",
              "  </thead>\n",
              "  <tbody>\n",
              "    <tr>\n",
              "      <th>0</th>\n",
              "      <td>10.540394</td>\n",
              "      <td>10.0</td>\n",
              "    </tr>\n",
              "    <tr>\n",
              "      <th>1</th>\n",
              "      <td>9.505669</td>\n",
              "      <td>9.0</td>\n",
              "    </tr>\n",
              "    <tr>\n",
              "      <th>2</th>\n",
              "      <td>11.194141</td>\n",
              "      <td>12.0</td>\n",
              "    </tr>\n",
              "    <tr>\n",
              "      <th>3</th>\n",
              "      <td>12.169270</td>\n",
              "      <td>16.0</td>\n",
              "    </tr>\n",
              "    <tr>\n",
              "      <th>4</th>\n",
              "      <td>9.563580</td>\n",
              "      <td>7.0</td>\n",
              "    </tr>\n",
              "    <tr>\n",
              "      <th>...</th>\n",
              "      <td>...</td>\n",
              "      <td>...</td>\n",
              "    </tr>\n",
              "    <tr>\n",
              "      <th>74</th>\n",
              "      <td>11.859535</td>\n",
              "      <td>8.0</td>\n",
              "    </tr>\n",
              "    <tr>\n",
              "      <th>75</th>\n",
              "      <td>9.774282</td>\n",
              "      <td>8.0</td>\n",
              "    </tr>\n",
              "    <tr>\n",
              "      <th>76</th>\n",
              "      <td>7.443352</td>\n",
              "      <td>7.0</td>\n",
              "    </tr>\n",
              "    <tr>\n",
              "      <th>77</th>\n",
              "      <td>12.340528</td>\n",
              "      <td>6.0</td>\n",
              "    </tr>\n",
              "    <tr>\n",
              "      <th>78</th>\n",
              "      <td>13.009289</td>\n",
              "      <td>11.0</td>\n",
              "    </tr>\n",
              "  </tbody>\n",
              "</table>\n",
              "<p>79 rows × 2 columns</p>\n",
              "</div>"
            ],
            "text/plain": [
              "    predicted  Actual\n",
              "0   10.540394    10.0\n",
              "1    9.505669     9.0\n",
              "2   11.194141    12.0\n",
              "3   12.169270    16.0\n",
              "4    9.563580     7.0\n",
              "..        ...     ...\n",
              "74  11.859535     8.0\n",
              "75   9.774282     8.0\n",
              "76   7.443352     7.0\n",
              "77  12.340528     6.0\n",
              "78  13.009289    11.0\n",
              "\n",
              "[79 rows x 2 columns]"
            ]
          },
          "metadata": {},
          "execution_count": 30
        }
      ]
    },
    {
      "cell_type": "code",
      "metadata": {
        "colab": {
          "base_uri": "https://localhost:8080/",
          "height": 443
        },
        "id": "rd0c2nJrub7O",
        "outputId": "2a3cfe9f-dc9c-4fc5-a182-289ca3327fb5"
      },
      "source": [
        "test_data = pd.read_csv(\"student_por.csv\")\n",
        "test_data"
      ],
      "execution_count": 31,
      "outputs": [
        {
          "output_type": "execute_result",
          "data": {
            "text/html": [
              "<div>\n",
              "<style scoped>\n",
              "    .dataframe tbody tr th:only-of-type {\n",
              "        vertical-align: middle;\n",
              "    }\n",
              "\n",
              "    .dataframe tbody tr th {\n",
              "        vertical-align: top;\n",
              "    }\n",
              "\n",
              "    .dataframe thead th {\n",
              "        text-align: right;\n",
              "    }\n",
              "</style>\n",
              "<table border=\"1\" class=\"dataframe\">\n",
              "  <thead>\n",
              "    <tr style=\"text-align: right;\">\n",
              "      <th></th>\n",
              "      <th>school</th>\n",
              "      <th>sex</th>\n",
              "      <th>age</th>\n",
              "      <th>address</th>\n",
              "      <th>famsize</th>\n",
              "      <th>Pstatus</th>\n",
              "      <th>Medu</th>\n",
              "      <th>Fedu</th>\n",
              "      <th>Mjob</th>\n",
              "      <th>Fjob</th>\n",
              "      <th>reason</th>\n",
              "      <th>guardian</th>\n",
              "      <th>traveltime</th>\n",
              "      <th>studytime</th>\n",
              "      <th>failures</th>\n",
              "      <th>schoolsup</th>\n",
              "      <th>famsup</th>\n",
              "      <th>paid</th>\n",
              "      <th>activities</th>\n",
              "      <th>nursery</th>\n",
              "      <th>higher</th>\n",
              "      <th>internet</th>\n",
              "      <th>romantic</th>\n",
              "      <th>famrel</th>\n",
              "      <th>freetime</th>\n",
              "      <th>goout</th>\n",
              "      <th>Dalc</th>\n",
              "      <th>Walc</th>\n",
              "      <th>health</th>\n",
              "      <th>absences</th>\n",
              "      <th>G1</th>\n",
              "      <th>G2</th>\n",
              "      <th>G3</th>\n",
              "    </tr>\n",
              "  </thead>\n",
              "  <tbody>\n",
              "    <tr>\n",
              "      <th>0</th>\n",
              "      <td>GP</td>\n",
              "      <td>F</td>\n",
              "      <td>18</td>\n",
              "      <td>U</td>\n",
              "      <td>GT3</td>\n",
              "      <td>A</td>\n",
              "      <td>4</td>\n",
              "      <td>4</td>\n",
              "      <td>at_home</td>\n",
              "      <td>teacher</td>\n",
              "      <td>course</td>\n",
              "      <td>mother</td>\n",
              "      <td>2</td>\n",
              "      <td>2</td>\n",
              "      <td>0</td>\n",
              "      <td>yes</td>\n",
              "      <td>no</td>\n",
              "      <td>no</td>\n",
              "      <td>no</td>\n",
              "      <td>yes</td>\n",
              "      <td>yes</td>\n",
              "      <td>no</td>\n",
              "      <td>no</td>\n",
              "      <td>4</td>\n",
              "      <td>3</td>\n",
              "      <td>4</td>\n",
              "      <td>1</td>\n",
              "      <td>1</td>\n",
              "      <td>3</td>\n",
              "      <td>4</td>\n",
              "      <td>0</td>\n",
              "      <td>11</td>\n",
              "      <td>11</td>\n",
              "    </tr>\n",
              "    <tr>\n",
              "      <th>1</th>\n",
              "      <td>GP</td>\n",
              "      <td>F</td>\n",
              "      <td>17</td>\n",
              "      <td>U</td>\n",
              "      <td>GT3</td>\n",
              "      <td>T</td>\n",
              "      <td>1</td>\n",
              "      <td>1</td>\n",
              "      <td>at_home</td>\n",
              "      <td>other</td>\n",
              "      <td>course</td>\n",
              "      <td>father</td>\n",
              "      <td>1</td>\n",
              "      <td>2</td>\n",
              "      <td>0</td>\n",
              "      <td>no</td>\n",
              "      <td>yes</td>\n",
              "      <td>no</td>\n",
              "      <td>no</td>\n",
              "      <td>no</td>\n",
              "      <td>yes</td>\n",
              "      <td>yes</td>\n",
              "      <td>no</td>\n",
              "      <td>5</td>\n",
              "      <td>3</td>\n",
              "      <td>3</td>\n",
              "      <td>1</td>\n",
              "      <td>1</td>\n",
              "      <td>3</td>\n",
              "      <td>2</td>\n",
              "      <td>9</td>\n",
              "      <td>11</td>\n",
              "      <td>11</td>\n",
              "    </tr>\n",
              "    <tr>\n",
              "      <th>2</th>\n",
              "      <td>GP</td>\n",
              "      <td>F</td>\n",
              "      <td>15</td>\n",
              "      <td>U</td>\n",
              "      <td>LE3</td>\n",
              "      <td>T</td>\n",
              "      <td>1</td>\n",
              "      <td>1</td>\n",
              "      <td>at_home</td>\n",
              "      <td>other</td>\n",
              "      <td>other</td>\n",
              "      <td>mother</td>\n",
              "      <td>1</td>\n",
              "      <td>2</td>\n",
              "      <td>0</td>\n",
              "      <td>yes</td>\n",
              "      <td>no</td>\n",
              "      <td>no</td>\n",
              "      <td>no</td>\n",
              "      <td>yes</td>\n",
              "      <td>yes</td>\n",
              "      <td>yes</td>\n",
              "      <td>no</td>\n",
              "      <td>4</td>\n",
              "      <td>3</td>\n",
              "      <td>2</td>\n",
              "      <td>2</td>\n",
              "      <td>3</td>\n",
              "      <td>3</td>\n",
              "      <td>6</td>\n",
              "      <td>12</td>\n",
              "      <td>13</td>\n",
              "      <td>12</td>\n",
              "    </tr>\n",
              "    <tr>\n",
              "      <th>3</th>\n",
              "      <td>GP</td>\n",
              "      <td>F</td>\n",
              "      <td>15</td>\n",
              "      <td>U</td>\n",
              "      <td>GT3</td>\n",
              "      <td>T</td>\n",
              "      <td>4</td>\n",
              "      <td>2</td>\n",
              "      <td>health</td>\n",
              "      <td>services</td>\n",
              "      <td>home</td>\n",
              "      <td>mother</td>\n",
              "      <td>1</td>\n",
              "      <td>3</td>\n",
              "      <td>0</td>\n",
              "      <td>no</td>\n",
              "      <td>yes</td>\n",
              "      <td>no</td>\n",
              "      <td>yes</td>\n",
              "      <td>yes</td>\n",
              "      <td>yes</td>\n",
              "      <td>yes</td>\n",
              "      <td>yes</td>\n",
              "      <td>3</td>\n",
              "      <td>2</td>\n",
              "      <td>2</td>\n",
              "      <td>1</td>\n",
              "      <td>1</td>\n",
              "      <td>5</td>\n",
              "      <td>0</td>\n",
              "      <td>14</td>\n",
              "      <td>14</td>\n",
              "      <td>14</td>\n",
              "    </tr>\n",
              "    <tr>\n",
              "      <th>4</th>\n",
              "      <td>GP</td>\n",
              "      <td>F</td>\n",
              "      <td>16</td>\n",
              "      <td>U</td>\n",
              "      <td>GT3</td>\n",
              "      <td>T</td>\n",
              "      <td>3</td>\n",
              "      <td>3</td>\n",
              "      <td>other</td>\n",
              "      <td>other</td>\n",
              "      <td>home</td>\n",
              "      <td>father</td>\n",
              "      <td>1</td>\n",
              "      <td>2</td>\n",
              "      <td>0</td>\n",
              "      <td>no</td>\n",
              "      <td>yes</td>\n",
              "      <td>no</td>\n",
              "      <td>no</td>\n",
              "      <td>yes</td>\n",
              "      <td>yes</td>\n",
              "      <td>no</td>\n",
              "      <td>no</td>\n",
              "      <td>4</td>\n",
              "      <td>3</td>\n",
              "      <td>2</td>\n",
              "      <td>1</td>\n",
              "      <td>2</td>\n",
              "      <td>5</td>\n",
              "      <td>0</td>\n",
              "      <td>11</td>\n",
              "      <td>13</td>\n",
              "      <td>13</td>\n",
              "    </tr>\n",
              "    <tr>\n",
              "      <th>...</th>\n",
              "      <td>...</td>\n",
              "      <td>...</td>\n",
              "      <td>...</td>\n",
              "      <td>...</td>\n",
              "      <td>...</td>\n",
              "      <td>...</td>\n",
              "      <td>...</td>\n",
              "      <td>...</td>\n",
              "      <td>...</td>\n",
              "      <td>...</td>\n",
              "      <td>...</td>\n",
              "      <td>...</td>\n",
              "      <td>...</td>\n",
              "      <td>...</td>\n",
              "      <td>...</td>\n",
              "      <td>...</td>\n",
              "      <td>...</td>\n",
              "      <td>...</td>\n",
              "      <td>...</td>\n",
              "      <td>...</td>\n",
              "      <td>...</td>\n",
              "      <td>...</td>\n",
              "      <td>...</td>\n",
              "      <td>...</td>\n",
              "      <td>...</td>\n",
              "      <td>...</td>\n",
              "      <td>...</td>\n",
              "      <td>...</td>\n",
              "      <td>...</td>\n",
              "      <td>...</td>\n",
              "      <td>...</td>\n",
              "      <td>...</td>\n",
              "      <td>...</td>\n",
              "    </tr>\n",
              "    <tr>\n",
              "      <th>644</th>\n",
              "      <td>MS</td>\n",
              "      <td>F</td>\n",
              "      <td>19</td>\n",
              "      <td>R</td>\n",
              "      <td>GT3</td>\n",
              "      <td>T</td>\n",
              "      <td>2</td>\n",
              "      <td>3</td>\n",
              "      <td>services</td>\n",
              "      <td>other</td>\n",
              "      <td>course</td>\n",
              "      <td>mother</td>\n",
              "      <td>1</td>\n",
              "      <td>3</td>\n",
              "      <td>1</td>\n",
              "      <td>no</td>\n",
              "      <td>no</td>\n",
              "      <td>no</td>\n",
              "      <td>yes</td>\n",
              "      <td>no</td>\n",
              "      <td>yes</td>\n",
              "      <td>yes</td>\n",
              "      <td>no</td>\n",
              "      <td>5</td>\n",
              "      <td>4</td>\n",
              "      <td>2</td>\n",
              "      <td>1</td>\n",
              "      <td>2</td>\n",
              "      <td>5</td>\n",
              "      <td>4</td>\n",
              "      <td>10</td>\n",
              "      <td>11</td>\n",
              "      <td>10</td>\n",
              "    </tr>\n",
              "    <tr>\n",
              "      <th>645</th>\n",
              "      <td>MS</td>\n",
              "      <td>F</td>\n",
              "      <td>18</td>\n",
              "      <td>U</td>\n",
              "      <td>LE3</td>\n",
              "      <td>T</td>\n",
              "      <td>3</td>\n",
              "      <td>1</td>\n",
              "      <td>teacher</td>\n",
              "      <td>services</td>\n",
              "      <td>course</td>\n",
              "      <td>mother</td>\n",
              "      <td>1</td>\n",
              "      <td>2</td>\n",
              "      <td>0</td>\n",
              "      <td>no</td>\n",
              "      <td>yes</td>\n",
              "      <td>no</td>\n",
              "      <td>no</td>\n",
              "      <td>yes</td>\n",
              "      <td>yes</td>\n",
              "      <td>yes</td>\n",
              "      <td>no</td>\n",
              "      <td>4</td>\n",
              "      <td>3</td>\n",
              "      <td>4</td>\n",
              "      <td>1</td>\n",
              "      <td>1</td>\n",
              "      <td>1</td>\n",
              "      <td>4</td>\n",
              "      <td>15</td>\n",
              "      <td>15</td>\n",
              "      <td>16</td>\n",
              "    </tr>\n",
              "    <tr>\n",
              "      <th>646</th>\n",
              "      <td>MS</td>\n",
              "      <td>F</td>\n",
              "      <td>18</td>\n",
              "      <td>U</td>\n",
              "      <td>GT3</td>\n",
              "      <td>T</td>\n",
              "      <td>1</td>\n",
              "      <td>1</td>\n",
              "      <td>other</td>\n",
              "      <td>other</td>\n",
              "      <td>course</td>\n",
              "      <td>mother</td>\n",
              "      <td>2</td>\n",
              "      <td>2</td>\n",
              "      <td>0</td>\n",
              "      <td>no</td>\n",
              "      <td>no</td>\n",
              "      <td>no</td>\n",
              "      <td>yes</td>\n",
              "      <td>yes</td>\n",
              "      <td>yes</td>\n",
              "      <td>no</td>\n",
              "      <td>no</td>\n",
              "      <td>1</td>\n",
              "      <td>1</td>\n",
              "      <td>1</td>\n",
              "      <td>1</td>\n",
              "      <td>1</td>\n",
              "      <td>5</td>\n",
              "      <td>6</td>\n",
              "      <td>11</td>\n",
              "      <td>12</td>\n",
              "      <td>9</td>\n",
              "    </tr>\n",
              "    <tr>\n",
              "      <th>647</th>\n",
              "      <td>MS</td>\n",
              "      <td>M</td>\n",
              "      <td>17</td>\n",
              "      <td>U</td>\n",
              "      <td>LE3</td>\n",
              "      <td>T</td>\n",
              "      <td>3</td>\n",
              "      <td>1</td>\n",
              "      <td>services</td>\n",
              "      <td>services</td>\n",
              "      <td>course</td>\n",
              "      <td>mother</td>\n",
              "      <td>2</td>\n",
              "      <td>1</td>\n",
              "      <td>0</td>\n",
              "      <td>no</td>\n",
              "      <td>no</td>\n",
              "      <td>no</td>\n",
              "      <td>no</td>\n",
              "      <td>no</td>\n",
              "      <td>yes</td>\n",
              "      <td>yes</td>\n",
              "      <td>no</td>\n",
              "      <td>2</td>\n",
              "      <td>4</td>\n",
              "      <td>5</td>\n",
              "      <td>3</td>\n",
              "      <td>4</td>\n",
              "      <td>2</td>\n",
              "      <td>6</td>\n",
              "      <td>10</td>\n",
              "      <td>10</td>\n",
              "      <td>10</td>\n",
              "    </tr>\n",
              "    <tr>\n",
              "      <th>648</th>\n",
              "      <td>MS</td>\n",
              "      <td>M</td>\n",
              "      <td>18</td>\n",
              "      <td>R</td>\n",
              "      <td>LE3</td>\n",
              "      <td>T</td>\n",
              "      <td>3</td>\n",
              "      <td>2</td>\n",
              "      <td>services</td>\n",
              "      <td>other</td>\n",
              "      <td>course</td>\n",
              "      <td>mother</td>\n",
              "      <td>3</td>\n",
              "      <td>1</td>\n",
              "      <td>0</td>\n",
              "      <td>no</td>\n",
              "      <td>no</td>\n",
              "      <td>no</td>\n",
              "      <td>no</td>\n",
              "      <td>no</td>\n",
              "      <td>yes</td>\n",
              "      <td>yes</td>\n",
              "      <td>no</td>\n",
              "      <td>4</td>\n",
              "      <td>4</td>\n",
              "      <td>1</td>\n",
              "      <td>3</td>\n",
              "      <td>4</td>\n",
              "      <td>5</td>\n",
              "      <td>4</td>\n",
              "      <td>10</td>\n",
              "      <td>11</td>\n",
              "      <td>11</td>\n",
              "    </tr>\n",
              "  </tbody>\n",
              "</table>\n",
              "<p>649 rows × 33 columns</p>\n",
              "</div>"
            ],
            "text/plain": [
              "    school sex  age address famsize Pstatus  ...  Walc  health absences  G1  G2  G3\n",
              "0       GP   F   18       U     GT3       A  ...     1       3        4   0  11  11\n",
              "1       GP   F   17       U     GT3       T  ...     1       3        2   9  11  11\n",
              "2       GP   F   15       U     LE3       T  ...     3       3        6  12  13  12\n",
              "3       GP   F   15       U     GT3       T  ...     1       5        0  14  14  14\n",
              "4       GP   F   16       U     GT3       T  ...     2       5        0  11  13  13\n",
              "..     ...  ..  ...     ...     ...     ...  ...   ...     ...      ...  ..  ..  ..\n",
              "644     MS   F   19       R     GT3       T  ...     2       5        4  10  11  10\n",
              "645     MS   F   18       U     LE3       T  ...     1       1        4  15  15  16\n",
              "646     MS   F   18       U     GT3       T  ...     1       5        6  11  12   9\n",
              "647     MS   M   17       U     LE3       T  ...     4       2        6  10  10  10\n",
              "648     MS   M   18       R     LE3       T  ...     4       5        4  10  11  11\n",
              "\n",
              "[649 rows x 33 columns]"
            ]
          },
          "metadata": {},
          "execution_count": 31
        }
      ]
    },
    {
      "cell_type": "code",
      "metadata": {
        "id": "drF-zpdUub7P"
      },
      "source": [
        "A_test = test_data.drop([\"G1\", \"G2\", \"G3\"], axis=1)"
      ],
      "execution_count": 32,
      "outputs": []
    },
    {
      "cell_type": "code",
      "metadata": {
        "id": "2Obp2XTLub7P"
      },
      "source": [
        "A_test = cat_pipeline.fit_transform(A_test)"
      ],
      "execution_count": 33,
      "outputs": []
    },
    {
      "cell_type": "code",
      "metadata": {
        "id": "5g08tVLQZUaj"
      },
      "source": [
        "A_pred = ann.predict(A_test)"
      ],
      "execution_count": 34,
      "outputs": []
    },
    {
      "cell_type": "code",
      "metadata": {
        "colab": {
          "base_uri": "https://localhost:8080/"
        },
        "id": "RtPw8gj-ZfQF",
        "outputId": "3c2849c0-954e-4f9f-8d7e-44e78fb5f915"
      },
      "source": [
        "A_pred"
      ],
      "execution_count": 35,
      "outputs": [
        {
          "output_type": "execute_result",
          "data": {
            "text/plain": [
              "array([[10.561399 ],\n",
              "       [10.056753 ],\n",
              "       [10.270159 ],\n",
              "       [12.018526 ],\n",
              "       [10.058792 ],\n",
              "       [12.273411 ],\n",
              "       [11.430298 ],\n",
              "       [ 9.82316  ],\n",
              "       [11.570929 ],\n",
              "       [11.232084 ],\n",
              "       [12.185772 ],\n",
              "       [12.203934 ],\n",
              "       [11.547411 ],\n",
              "       [11.110476 ],\n",
              "       [10.896618 ],\n",
              "       [11.858004 ],\n",
              "       [12.252304 ],\n",
              "       [ 8.561398 ],\n",
              "       [12.073902 ],\n",
              "       [12.47109  ],\n",
              "       [12.493593 ],\n",
              "       [12.873926 ],\n",
              "       [11.693874 ],\n",
              "       [10.917227 ],\n",
              "       [10.471476 ],\n",
              "       [10.473057 ],\n",
              "       [11.271214 ],\n",
              "       [12.451426 ],\n",
              "       [10.416826 ],\n",
              "       [12.36405  ],\n",
              "       [11.457136 ],\n",
              "       [12.871698 ],\n",
              "       [12.0889435],\n",
              "       [ 9.919912 ],\n",
              "       [10.289343 ],\n",
              "       [ 9.66077  ],\n",
              "       [12.41482  ],\n",
              "       [12.234983 ],\n",
              "       [10.471476 ],\n",
              "       [10.053936 ],\n",
              "       [ 9.972372 ],\n",
              "       [11.194141 ],\n",
              "       [13.192997 ],\n",
              "       [ 9.299973 ],\n",
              "       [ 9.43828  ],\n",
              "       [ 9.108585 ],\n",
              "       [10.407562 ],\n",
              "       [13.681358 ],\n",
              "       [11.904625 ],\n",
              "       [10.721083 ],\n",
              "       [11.391525 ],\n",
              "       [12.028355 ],\n",
              "       [12.716318 ],\n",
              "       [10.003763 ],\n",
              "       [10.649506 ],\n",
              "       [10.837181 ],\n",
              "       [11.953226 ],\n",
              "       [12.655205 ],\n",
              "       [ 9.059372 ],\n",
              "       [10.982191 ],\n",
              "       [12.726044 ],\n",
              "       [ 9.177856 ],\n",
              "       [ 9.440382 ],\n",
              "       [10.844851 ],\n",
              "       [11.472643 ],\n",
              "       [11.952932 ],\n",
              "       [10.994728 ],\n",
              "       [ 9.747974 ],\n",
              "       [10.88426  ],\n",
              "       [ 9.735754 ],\n",
              "       [10.6033745],\n",
              "       [11.180826 ],\n",
              "       [ 8.38862  ],\n",
              "       [11.454056 ],\n",
              "       [ 9.83115  ],\n",
              "       [12.08499  ],\n",
              "       [12.007544 ],\n",
              "       [10.718885 ],\n",
              "       [ 7.0832615],\n",
              "       [11.12653  ],\n",
              "       [ 7.4192185],\n",
              "       [ 8.775326 ],\n",
              "       [11.932728 ],\n",
              "       [12.201813 ],\n",
              "       [ 9.840286 ],\n",
              "       [12.138359 ],\n",
              "       [10.684507 ],\n",
              "       [11.401825 ],\n",
              "       [11.728872 ],\n",
              "       [12.243553 ],\n",
              "       [10.257988 ],\n",
              "       [12.361513 ],\n",
              "       [ 7.4433517],\n",
              "       [11.752995 ],\n",
              "       [12.982426 ],\n",
              "       [ 9.584326 ],\n",
              "       [ 9.854357 ],\n",
              "       [10.064417 ],\n",
              "       [11.168177 ],\n",
              "       [ 9.569942 ],\n",
              "       [10.514341 ],\n",
              "       [13.3342495],\n",
              "       [11.2816925],\n",
              "       [ 9.933289 ],\n",
              "       [11.649029 ],\n",
              "       [10.016247 ],\n",
              "       [ 8.4858055],\n",
              "       [11.910212 ],\n",
              "       [11.155613 ],\n",
              "       [12.587778 ],\n",
              "       [13.247213 ],\n",
              "       [10.009966 ],\n",
              "       [10.160498 ],\n",
              "       [11.615545 ],\n",
              "       [12.515192 ],\n",
              "       [12.67761  ],\n",
              "       [12.599474 ],\n",
              "       [11.9571   ],\n",
              "       [ 9.838369 ],\n",
              "       [11.444172 ],\n",
              "       [10.749197 ],\n",
              "       [12.558039 ],\n",
              "       [10.715275 ],\n",
              "       [11.892757 ],\n",
              "       [10.250526 ],\n",
              "       [10.954023 ],\n",
              "       [ 9.56358  ],\n",
              "       [ 8.70467  ],\n",
              "       [12.997057 ],\n",
              "       [ 9.485176 ],\n",
              "       [11.892006 ],\n",
              "       [10.058043 ],\n",
              "       [10.401802 ],\n",
              "       [10.613907 ],\n",
              "       [10.220001 ],\n",
              "       [11.488392 ],\n",
              "       [11.934803 ],\n",
              "       [10.009413 ],\n",
              "       [11.725487 ],\n",
              "       [12.072739 ],\n",
              "       [11.502455 ],\n",
              "       [10.630497 ],\n",
              "       [11.899069 ],\n",
              "       [10.249435 ],\n",
              "       [10.880079 ],\n",
              "       [10.088608 ],\n",
              "       [11.4310055],\n",
              "       [12.774153 ],\n",
              "       [10.402985 ],\n",
              "       [ 8.784586 ],\n",
              "       [10.080547 ],\n",
              "       [12.266834 ],\n",
              "       [12.231073 ],\n",
              "       [11.910301 ],\n",
              "       [12.146114 ],\n",
              "       [11.271214 ],\n",
              "       [10.798281 ],\n",
              "       [ 9.6965275],\n",
              "       [12.3405285],\n",
              "       [10.419897 ],\n",
              "       [10.858675 ],\n",
              "       [10.050762 ],\n",
              "       [11.894468 ],\n",
              "       [ 8.543438 ],\n",
              "       [11.718231 ],\n",
              "       [11.546631 ],\n",
              "       [10.156639 ],\n",
              "       [ 9.846367 ],\n",
              "       [10.654198 ],\n",
              "       [11.616053 ],\n",
              "       [10.381868 ],\n",
              "       [10.781748 ],\n",
              "       [10.709833 ],\n",
              "       [11.745878 ],\n",
              "       [ 9.387583 ],\n",
              "       [ 8.353107 ],\n",
              "       [10.122547 ],\n",
              "       [10.265945 ],\n",
              "       [ 9.024582 ],\n",
              "       [ 9.346109 ],\n",
              "       [ 8.652201 ],\n",
              "       [12.214529 ],\n",
              "       [ 9.850132 ],\n",
              "       [12.393955 ],\n",
              "       [ 8.767324 ],\n",
              "       [11.484589 ],\n",
              "       [11.758024 ],\n",
              "       [10.872641 ],\n",
              "       [10.882471 ],\n",
              "       [11.693874 ],\n",
              "       [11.802399 ],\n",
              "       [10.466703 ],\n",
              "       [11.293676 ],\n",
              "       [10.77931  ],\n",
              "       [12.136061 ],\n",
              "       [11.98139  ],\n",
              "       [12.304182 ],\n",
              "       [11.162813 ],\n",
              "       [11.305956 ],\n",
              "       [11.701723 ],\n",
              "       [11.701723 ],\n",
              "       [11.118551 ],\n",
              "       [11.186384 ],\n",
              "       [11.358351 ],\n",
              "       [11.3605995],\n",
              "       [11.859535 ],\n",
              "       [12.106239 ],\n",
              "       [12.475208 ],\n",
              "       [11.453144 ],\n",
              "       [12.249479 ],\n",
              "       [12.594593 ],\n",
              "       [11.13471  ],\n",
              "       [11.853382 ],\n",
              "       [12.74563  ],\n",
              "       [12.16927  ],\n",
              "       [ 8.561398 ],\n",
              "       [ 9.717669 ],\n",
              "       [10.869326 ],\n",
              "       [11.217524 ],\n",
              "       [10.451334 ],\n",
              "       [10.974283 ],\n",
              "       [11.372988 ],\n",
              "       [10.4197445],\n",
              "       [11.507906 ],\n",
              "       [11.143768 ],\n",
              "       [11.429625 ],\n",
              "       [ 9.26059  ],\n",
              "       [12.331392 ],\n",
              "       [10.930616 ],\n",
              "       [11.238087 ],\n",
              "       [10.718885 ],\n",
              "       [12.265535 ],\n",
              "       [10.686216 ],\n",
              "       [12.398382 ],\n",
              "       [11.902855 ],\n",
              "       [11.39929  ],\n",
              "       [10.750034 ],\n",
              "       [11.00404  ],\n",
              "       [11.139772 ],\n",
              "       [10.97847  ],\n",
              "       [10.631674 ],\n",
              "       [11.182207 ],\n",
              "       [ 9.020681 ],\n",
              "       [10.783831 ],\n",
              "       [13.239513 ],\n",
              "       [ 9.838369 ],\n",
              "       [11.7764435],\n",
              "       [12.07616  ],\n",
              "       [10.984516 ],\n",
              "       [12.447491 ],\n",
              "       [10.590584 ],\n",
              "       [10.250526 ],\n",
              "       [10.681303 ],\n",
              "       [11.011547 ],\n",
              "       [10.142838 ],\n",
              "       [ 9.002226 ],\n",
              "       [ 8.989599 ],\n",
              "       [12.354609 ],\n",
              "       [ 9.851715 ],\n",
              "       [12.188164 ],\n",
              "       [ 9.002226 ],\n",
              "       [11.096642 ],\n",
              "       [10.090878 ],\n",
              "       [10.197693 ],\n",
              "       [ 8.331522 ],\n",
              "       [11.24473  ],\n",
              "       [10.963255 ],\n",
              "       [12.363277 ],\n",
              "       [10.837828 ],\n",
              "       [10.666632 ],\n",
              "       [12.136612 ],\n",
              "       [10.196375 ],\n",
              "       [10.42959  ],\n",
              "       [10.8445   ],\n",
              "       [ 9.025942 ],\n",
              "       [ 9.917755 ],\n",
              "       [11.180826 ],\n",
              "       [10.3396   ],\n",
              "       [10.585592 ],\n",
              "       [ 8.5576725],\n",
              "       [10.211435 ],\n",
              "       [10.571339 ],\n",
              "       [ 9.952293 ],\n",
              "       [ 8.888351 ],\n",
              "       [ 9.341459 ],\n",
              "       [10.224155 ],\n",
              "       [10.20932  ],\n",
              "       [11.579088 ],\n",
              "       [ 9.457661 ],\n",
              "       [12.51779  ],\n",
              "       [11.1065445],\n",
              "       [ 9.274097 ],\n",
              "       [10.733206 ],\n",
              "       [10.641842 ],\n",
              "       [ 8.723007 ],\n",
              "       [13.009289 ],\n",
              "       [11.641567 ],\n",
              "       [ 8.495953 ],\n",
              "       [12.249479 ],\n",
              "       [ 8.762465 ],\n",
              "       [11.3591385],\n",
              "       [10.083233 ],\n",
              "       [10.224155 ],\n",
              "       [ 9.576782 ],\n",
              "       [11.408184 ],\n",
              "       [ 9.587843 ],\n",
              "       [10.985325 ],\n",
              "       [11.816803 ],\n",
              "       [12.167223 ],\n",
              "       [12.486982 ],\n",
              "       [ 8.421448 ],\n",
              "       [10.609091 ],\n",
              "       [12.00989  ],\n",
              "       [ 9.347042 ],\n",
              "       [11.564772 ],\n",
              "       [10.257988 ],\n",
              "       [11.872063 ],\n",
              "       [ 9.534609 ],\n",
              "       [ 7.3541493],\n",
              "       [12.514469 ],\n",
              "       [11.285713 ],\n",
              "       [11.504911 ],\n",
              "       [ 8.848133 ],\n",
              "       [12.342545 ],\n",
              "       [10.063105 ],\n",
              "       [12.044397 ],\n",
              "       [11.829248 ],\n",
              "       [11.131319 ],\n",
              "       [ 9.5330715],\n",
              "       [ 9.809023 ],\n",
              "       [11.237524 ],\n",
              "       [10.4310055],\n",
              "       [12.015842 ],\n",
              "       [12.465057 ],\n",
              "       [12.993513 ],\n",
              "       [13.604834 ],\n",
              "       [11.910788 ],\n",
              "       [12.406065 ],\n",
              "       [11.375734 ],\n",
              "       [12.331289 ],\n",
              "       [12.485153 ],\n",
              "       [12.9562435],\n",
              "       [10.077257 ],\n",
              "       [11.007631 ],\n",
              "       [12.248699 ],\n",
              "       [11.127794 ],\n",
              "       [12.637016 ],\n",
              "       [11.851011 ],\n",
              "       [11.305956 ],\n",
              "       [12.177671 ],\n",
              "       [11.566828 ],\n",
              "       [12.38151  ],\n",
              "       [12.346874 ],\n",
              "       [ 9.310814 ],\n",
              "       [11.779581 ],\n",
              "       [11.07782  ],\n",
              "       [12.372862 ],\n",
              "       [10.687473 ],\n",
              "       [12.079369 ],\n",
              "       [10.798153 ],\n",
              "       [11.069918 ],\n",
              "       [11.995226 ],\n",
              "       [11.4002285],\n",
              "       [10.687473 ],\n",
              "       [12.917448 ],\n",
              "       [10.63245  ],\n",
              "       [ 9.715141 ],\n",
              "       [10.589073 ],\n",
              "       [10.285379 ],\n",
              "       [ 8.607439 ],\n",
              "       [ 9.667868 ],\n",
              "       [10.687473 ],\n",
              "       [10.064417 ],\n",
              "       [11.524317 ],\n",
              "       [11.047283 ],\n",
              "       [12.336683 ],\n",
              "       [10.486698 ],\n",
              "       [11.260824 ],\n",
              "       [11.702944 ],\n",
              "       [11.4848995],\n",
              "       [11.910301 ],\n",
              "       [10.808836 ],\n",
              "       [11.317362 ],\n",
              "       [10.682276 ],\n",
              "       [10.616772 ],\n",
              "       [10.823669 ],\n",
              "       [10.865944 ],\n",
              "       [11.052074 ],\n",
              "       [11.658558 ],\n",
              "       [ 9.861723 ],\n",
              "       [10.780092 ],\n",
              "       [11.427168 ],\n",
              "       [10.257988 ],\n",
              "       [11.254484 ],\n",
              "       [ 9.7728405],\n",
              "       [12.042648 ],\n",
              "       [12.1422615],\n",
              "       [11.630648 ],\n",
              "       [11.12653  ],\n",
              "       [10.080404 ],\n",
              "       [10.668554 ],\n",
              "       [10.905239 ],\n",
              "       [12.492424 ],\n",
              "       [11.326941 ],\n",
              "       [12.308685 ],\n",
              "       [ 9.604042 ],\n",
              "       [10.618414 ],\n",
              "       [11.010914 ],\n",
              "       [10.000845 ],\n",
              "       [12.261267 ],\n",
              "       [12.252304 ],\n",
              "       [12.328836 ],\n",
              "       [11.174459 ],\n",
              "       [ 9.648153 ],\n",
              "       [10.984894 ],\n",
              "       [11.222275 ],\n",
              "       [10.891748 ],\n",
              "       [11.913282 ],\n",
              "       [12.116175 ],\n",
              "       [11.900068 ],\n",
              "       [11.605671 ],\n",
              "       [ 9.518291 ],\n",
              "       [10.764809 ],\n",
              "       [10.098513 ],\n",
              "       [10.723324 ],\n",
              "       [10.674425 ],\n",
              "       [10.727701 ],\n",
              "       [10.997599 ],\n",
              "       [ 8.778603 ],\n",
              "       [10.91765  ],\n",
              "       [ 9.469854 ],\n",
              "       [10.9557705],\n",
              "       [ 8.053919 ],\n",
              "       [10.627499 ],\n",
              "       [ 9.780668 ],\n",
              "       [11.865553 ],\n",
              "       [10.106342 ],\n",
              "       [10.183266 ],\n",
              "       [10.313004 ],\n",
              "       [10.281307 ],\n",
              "       [11.894709 ],\n",
              "       [10.503681 ],\n",
              "       [12.606176 ],\n",
              "       [12.606176 ],\n",
              "       [10.81629  ],\n",
              "       [10.893423 ],\n",
              "       [12.466984 ],\n",
              "       [ 9.312162 ],\n",
              "       [12.127731 ],\n",
              "       [10.382439 ],\n",
              "       [10.473831 ],\n",
              "       [10.681782 ],\n",
              "       [10.313004 ],\n",
              "       [10.498123 ],\n",
              "       [10.498123 ],\n",
              "       [ 9.161293 ],\n",
              "       [10.544758 ],\n",
              "       [12.692369 ],\n",
              "       [ 9.79694  ],\n",
              "       [ 9.301701 ],\n",
              "       [11.18836  ],\n",
              "       [11.280401 ],\n",
              "       [11.8277855],\n",
              "       [ 7.7746935],\n",
              "       [11.943762 ],\n",
              "       [10.497822 ],\n",
              "       [11.224129 ],\n",
              "       [11.0341625],\n",
              "       [13.3347435],\n",
              "       [12.418835 ],\n",
              "       [11.185032 ],\n",
              "       [10.41967  ],\n",
              "       [ 9.764082 ],\n",
              "       [11.862257 ],\n",
              "       [11.440723 ],\n",
              "       [10.545294 ],\n",
              "       [10.042191 ],\n",
              "       [10.819626 ],\n",
              "       [ 8.811296 ],\n",
              "       [ 9.869963 ],\n",
              "       [ 9.852457 ],\n",
              "       [ 9.228346 ],\n",
              "       [ 8.978769 ],\n",
              "       [ 8.576681 ],\n",
              "       [ 8.465485 ],\n",
              "       [10.727701 ],\n",
              "       [10.536173 ],\n",
              "       [ 7.984653 ],\n",
              "       [ 9.672031 ],\n",
              "       [10.097742 ],\n",
              "       [ 8.915606 ],\n",
              "       [10.6306095],\n",
              "       [10.51638  ],\n",
              "       [11.12973  ],\n",
              "       [ 9.846132 ],\n",
              "       [ 9.617224 ],\n",
              "       [11.232595 ],\n",
              "       [13.012812 ],\n",
              "       [11.17403  ],\n",
              "       [11.043762 ],\n",
              "       [ 8.400162 ],\n",
              "       [10.105341 ],\n",
              "       [11.617744 ],\n",
              "       [ 8.243309 ],\n",
              "       [10.211807 ],\n",
              "       [10.920189 ],\n",
              "       [11.69425  ],\n",
              "       [10.483822 ],\n",
              "       [ 9.618151 ],\n",
              "       [10.574135 ],\n",
              "       [10.628384 ],\n",
              "       [10.421324 ],\n",
              "       [10.64002  ],\n",
              "       [10.875954 ],\n",
              "       [12.266941 ],\n",
              "       [10.9737015],\n",
              "       [13.135269 ],\n",
              "       [11.111496 ],\n",
              "       [11.502928 ],\n",
              "       [12.24605  ],\n",
              "       [11.280827 ],\n",
              "       [11.418957 ],\n",
              "       [12.111671 ],\n",
              "       [11.05806  ],\n",
              "       [10.078163 ],\n",
              "       [11.507107 ],\n",
              "       [10.075117 ],\n",
              "       [12.136051 ],\n",
              "       [10.5397625],\n",
              "       [11.608189 ],\n",
              "       [12.353157 ],\n",
              "       [11.466574 ],\n",
              "       [11.311213 ],\n",
              "       [10.560438 ],\n",
              "       [11.515308 ],\n",
              "       [11.193796 ],\n",
              "       [10.770918 ],\n",
              "       [12.456076 ],\n",
              "       [ 9.35018  ],\n",
              "       [10.264521 ],\n",
              "       [10.394594 ],\n",
              "       [ 9.026901 ],\n",
              "       [10.900906 ],\n",
              "       [12.690542 ],\n",
              "       [10.391048 ],\n",
              "       [11.409336 ],\n",
              "       [12.438866 ],\n",
              "       [12.042324 ],\n",
              "       [12.183588 ],\n",
              "       [ 7.6728215],\n",
              "       [ 9.569658 ],\n",
              "       [10.95056  ],\n",
              "       [ 9.223883 ],\n",
              "       [10.955046 ],\n",
              "       [10.900085 ],\n",
              "       [ 8.2999   ],\n",
              "       [11.987635 ],\n",
              "       [ 9.836224 ],\n",
              "       [ 9.219902 ],\n",
              "       [10.223267 ],\n",
              "       [10.340239 ],\n",
              "       [12.194578 ],\n",
              "       [10.527967 ],\n",
              "       [11.197533 ],\n",
              "       [12.047945 ],\n",
              "       [12.105888 ],\n",
              "       [ 9.844976 ],\n",
              "       [ 9.997189 ],\n",
              "       [12.34606  ],\n",
              "       [10.75008  ],\n",
              "       [11.617828 ],\n",
              "       [ 9.910641 ],\n",
              "       [12.071526 ],\n",
              "       [11.759285 ],\n",
              "       [ 9.043087 ],\n",
              "       [10.63155  ],\n",
              "       [ 9.618151 ],\n",
              "       [11.327391 ],\n",
              "       [12.014351 ],\n",
              "       [ 9.754967 ],\n",
              "       [10.998091 ],\n",
              "       [10.757635 ],\n",
              "       [ 9.521772 ],\n",
              "       [ 8.217207 ],\n",
              "       [10.727701 ],\n",
              "       [ 9.407373 ],\n",
              "       [10.621771 ],\n",
              "       [11.578842 ],\n",
              "       [12.436266 ],\n",
              "       [11.558582 ],\n",
              "       [10.1882   ],\n",
              "       [13.032829 ],\n",
              "       [11.331919 ],\n",
              "       [11.616896 ],\n",
              "       [12.703636 ],\n",
              "       [12.415716 ],\n",
              "       [10.749634 ],\n",
              "       [10.7313595],\n",
              "       [11.155769 ],\n",
              "       [11.30327  ],\n",
              "       [ 9.018269 ],\n",
              "       [ 9.722408 ],\n",
              "       [11.899998 ],\n",
              "       [11.763378 ],\n",
              "       [ 9.767042 ],\n",
              "       [10.17742  ],\n",
              "       [11.792124 ],\n",
              "       [11.680307 ],\n",
              "       [10.971191 ],\n",
              "       [10.418413 ],\n",
              "       [10.356976 ],\n",
              "       [10.734152 ],\n",
              "       [10.800062 ],\n",
              "       [11.653433 ],\n",
              "       [11.697935 ],\n",
              "       [11.599533 ],\n",
              "       [11.161573 ],\n",
              "       [11.875132 ],\n",
              "       [10.3737335],\n",
              "       [10.935036 ],\n",
              "       [12.303137 ],\n",
              "       [10.221905 ],\n",
              "       [11.115576 ],\n",
              "       [11.55164  ],\n",
              "       [10.534479 ],\n",
              "       [11.517788 ],\n",
              "       [10.692663 ],\n",
              "       [10.296982 ],\n",
              "       [11.344879 ],\n",
              "       [10.7417965],\n",
              "       [11.064323 ],\n",
              "       [10.265762 ],\n",
              "       [10.700399 ],\n",
              "       [11.830385 ],\n",
              "       [10.37158  ],\n",
              "       [11.0731945],\n",
              "       [13.081739 ],\n",
              "       [10.485378 ],\n",
              "       [12.021999 ],\n",
              "       [11.152313 ],\n",
              "       [10.959705 ],\n",
              "       [10.781992 ],\n",
              "       [11.53055  ],\n",
              "       [12.572863 ],\n",
              "       [10.84259  ],\n",
              "       [11.612492 ],\n",
              "       [10.247219 ],\n",
              "       [11.587584 ],\n",
              "       [11.136299 ]], dtype=float32)"
            ]
          },
          "metadata": {},
          "execution_count": 35
        }
      ]
    },
    {
      "cell_type": "code",
      "metadata": {
        "id": "qgv-cRCEaHFu"
      },
      "source": [
        "results = test_data[\"G1\"]"
      ],
      "execution_count": 36,
      "outputs": []
    },
    {
      "cell_type": "code",
      "metadata": {
        "id": "99bCrK_QaMnf"
      },
      "source": [
        "results = np.array(results )"
      ],
      "execution_count": 37,
      "outputs": []
    },
    {
      "cell_type": "code",
      "metadata": {
        "id": "t_s9y2mvZ4s9"
      },
      "source": [
        "A_pred= np.array(A_pred)"
      ],
      "execution_count": 38,
      "outputs": []
    },
    {
      "cell_type": "code",
      "metadata": {
        "id": "C9g8sT1waVNp"
      },
      "source": [
        "combined = np.concatenate((A_pred.reshape(len(A_pred),1), results.reshape(len(results),1)),1)"
      ],
      "execution_count": 39,
      "outputs": []
    },
    {
      "cell_type": "code",
      "metadata": {
        "id": "bDok_OPNayZs"
      },
      "source": [
        "CombinedView = pd.DataFrame(combined, columns=[\"Predicted\", 'Actual'])"
      ],
      "execution_count": 40,
      "outputs": []
    },
    {
      "cell_type": "code",
      "metadata": {
        "colab": {
          "base_uri": "https://localhost:8080/",
          "height": 423
        },
        "id": "wPJXUDf9bCcC",
        "outputId": "b21df529-2f97-41f4-bb2b-33cc2784e4fc"
      },
      "source": [
        "CombinedView"
      ],
      "execution_count": 41,
      "outputs": [
        {
          "output_type": "execute_result",
          "data": {
            "text/html": [
              "<div>\n",
              "<style scoped>\n",
              "    .dataframe tbody tr th:only-of-type {\n",
              "        vertical-align: middle;\n",
              "    }\n",
              "\n",
              "    .dataframe tbody tr th {\n",
              "        vertical-align: top;\n",
              "    }\n",
              "\n",
              "    .dataframe thead th {\n",
              "        text-align: right;\n",
              "    }\n",
              "</style>\n",
              "<table border=\"1\" class=\"dataframe\">\n",
              "  <thead>\n",
              "    <tr style=\"text-align: right;\">\n",
              "      <th></th>\n",
              "      <th>Predicted</th>\n",
              "      <th>Actual</th>\n",
              "    </tr>\n",
              "  </thead>\n",
              "  <tbody>\n",
              "    <tr>\n",
              "      <th>0</th>\n",
              "      <td>10.561399</td>\n",
              "      <td>0.0</td>\n",
              "    </tr>\n",
              "    <tr>\n",
              "      <th>1</th>\n",
              "      <td>10.056753</td>\n",
              "      <td>9.0</td>\n",
              "    </tr>\n",
              "    <tr>\n",
              "      <th>2</th>\n",
              "      <td>10.270159</td>\n",
              "      <td>12.0</td>\n",
              "    </tr>\n",
              "    <tr>\n",
              "      <th>3</th>\n",
              "      <td>12.018526</td>\n",
              "      <td>14.0</td>\n",
              "    </tr>\n",
              "    <tr>\n",
              "      <th>4</th>\n",
              "      <td>10.058792</td>\n",
              "      <td>11.0</td>\n",
              "    </tr>\n",
              "    <tr>\n",
              "      <th>...</th>\n",
              "      <td>...</td>\n",
              "      <td>...</td>\n",
              "    </tr>\n",
              "    <tr>\n",
              "      <th>644</th>\n",
              "      <td>10.842590</td>\n",
              "      <td>10.0</td>\n",
              "    </tr>\n",
              "    <tr>\n",
              "      <th>645</th>\n",
              "      <td>11.612492</td>\n",
              "      <td>15.0</td>\n",
              "    </tr>\n",
              "    <tr>\n",
              "      <th>646</th>\n",
              "      <td>10.247219</td>\n",
              "      <td>11.0</td>\n",
              "    </tr>\n",
              "    <tr>\n",
              "      <th>647</th>\n",
              "      <td>11.587584</td>\n",
              "      <td>10.0</td>\n",
              "    </tr>\n",
              "    <tr>\n",
              "      <th>648</th>\n",
              "      <td>11.136299</td>\n",
              "      <td>10.0</td>\n",
              "    </tr>\n",
              "  </tbody>\n",
              "</table>\n",
              "<p>649 rows × 2 columns</p>\n",
              "</div>"
            ],
            "text/plain": [
              "     Predicted  Actual\n",
              "0    10.561399     0.0\n",
              "1    10.056753     9.0\n",
              "2    10.270159    12.0\n",
              "3    12.018526    14.0\n",
              "4    10.058792    11.0\n",
              "..         ...     ...\n",
              "644  10.842590    10.0\n",
              "645  11.612492    15.0\n",
              "646  10.247219    11.0\n",
              "647  11.587584    10.0\n",
              "648  11.136299    10.0\n",
              "\n",
              "[649 rows x 2 columns]"
            ]
          },
          "metadata": {},
          "execution_count": 41
        }
      ]
    }
  ]
}