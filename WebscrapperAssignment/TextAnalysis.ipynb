{
 "cells": [
  {
   "cell_type": "code",
   "execution_count": 2,
   "metadata": {},
   "outputs": [],
   "source": [
    "import numpy as np\n",
    "import pandas as pd\n",
    "import matplotlib.pyplot as plt"
   ]
  },
  {
   "cell_type": "code",
   "execution_count": 3,
   "metadata": {},
   "outputs": [],
   "source": [
    "import requests\n",
    "from bs4 import BeautifulSoup\n",
    "import string \n",
    "import spacy \n",
    "import re"
   ]
  },
  {
   "cell_type": "code",
   "execution_count": 4,
   "metadata": {},
   "outputs": [],
   "source": [
    "import urllib.request"
   ]
  },
  {
   "cell_type": "code",
   "execution_count": 5,
   "metadata": {},
   "outputs": [],
   "source": [
    "dflinks = pd.read_excel('test.xlsx')"
   ]
  },
  {
   "cell_type": "code",
   "execution_count": 6,
   "metadata": {},
   "outputs": [
    {
     "data": {
      "text/html": [
       "<div>\n",
       "<style scoped>\n",
       "    .dataframe tbody tr th:only-of-type {\n",
       "        vertical-align: middle;\n",
       "    }\n",
       "\n",
       "    .dataframe tbody tr th {\n",
       "        vertical-align: top;\n",
       "    }\n",
       "\n",
       "    .dataframe thead th {\n",
       "        text-align: right;\n",
       "    }\n",
       "</style>\n",
       "<table border=\"1\" class=\"dataframe\">\n",
       "  <thead>\n",
       "    <tr style=\"text-align: right;\">\n",
       "      <th></th>\n",
       "      <th>URL_ID</th>\n",
       "      <th>URL</th>\n",
       "    </tr>\n",
       "  </thead>\n",
       "  <tbody>\n",
       "    <tr>\n",
       "      <th>0</th>\n",
       "      <td>37</td>\n",
       "      <td>https://insights.blackcoffer.com/ai-in-healthc...</td>\n",
       "    </tr>\n",
       "    <tr>\n",
       "      <th>1</th>\n",
       "      <td>38</td>\n",
       "      <td>https://insights.blackcoffer.com/what-if-the-c...</td>\n",
       "    </tr>\n",
       "    <tr>\n",
       "      <th>2</th>\n",
       "      <td>39</td>\n",
       "      <td>https://insights.blackcoffer.com/what-jobs-wil...</td>\n",
       "    </tr>\n",
       "    <tr>\n",
       "      <th>3</th>\n",
       "      <td>40</td>\n",
       "      <td>https://insights.blackcoffer.com/will-machine-...</td>\n",
       "    </tr>\n",
       "    <tr>\n",
       "      <th>4</th>\n",
       "      <td>41</td>\n",
       "      <td>https://insights.blackcoffer.com/will-ai-repla...</td>\n",
       "    </tr>\n",
       "    <tr>\n",
       "      <th>...</th>\n",
       "      <td>...</td>\n",
       "      <td>...</td>\n",
       "    </tr>\n",
       "    <tr>\n",
       "      <th>107</th>\n",
       "      <td>146</td>\n",
       "      <td>https://insights.blackcoffer.com/blockchain-fo...</td>\n",
       "    </tr>\n",
       "    <tr>\n",
       "      <th>108</th>\n",
       "      <td>147</td>\n",
       "      <td>https://insights.blackcoffer.com/the-future-of...</td>\n",
       "    </tr>\n",
       "    <tr>\n",
       "      <th>109</th>\n",
       "      <td>148</td>\n",
       "      <td>https://insights.blackcoffer.com/big-data-anal...</td>\n",
       "    </tr>\n",
       "    <tr>\n",
       "      <th>110</th>\n",
       "      <td>149</td>\n",
       "      <td>https://insights.blackcoffer.com/business-anal...</td>\n",
       "    </tr>\n",
       "    <tr>\n",
       "      <th>111</th>\n",
       "      <td>150</td>\n",
       "      <td>https://insights.blackcoffer.com/challenges-an...</td>\n",
       "    </tr>\n",
       "  </tbody>\n",
       "</table>\n",
       "<p>112 rows × 2 columns</p>\n",
       "</div>"
      ],
      "text/plain": [
       "     URL_ID                                                URL\n",
       "0        37  https://insights.blackcoffer.com/ai-in-healthc...\n",
       "1        38  https://insights.blackcoffer.com/what-if-the-c...\n",
       "2        39  https://insights.blackcoffer.com/what-jobs-wil...\n",
       "3        40  https://insights.blackcoffer.com/will-machine-...\n",
       "4        41  https://insights.blackcoffer.com/will-ai-repla...\n",
       "..      ...                                                ...\n",
       "107     146  https://insights.blackcoffer.com/blockchain-fo...\n",
       "108     147  https://insights.blackcoffer.com/the-future-of...\n",
       "109     148  https://insights.blackcoffer.com/big-data-anal...\n",
       "110     149  https://insights.blackcoffer.com/business-anal...\n",
       "111     150  https://insights.blackcoffer.com/challenges-an...\n",
       "\n",
       "[112 rows x 2 columns]"
      ]
     },
     "execution_count": 6,
     "metadata": {},
     "output_type": "execute_result"
    }
   ],
   "source": [
    "dflinks"
   ]
  },
  {
   "cell_type": "code",
   "execution_count": 7,
   "metadata": {},
   "outputs": [
    {
     "name": "stderr",
     "output_type": "stream",
     "text": [
      "[nltk_data] Error loading punkt: <urlopen error [WinError 10060] A\n",
      "[nltk_data]     connection attempt failed because the connected party\n",
      "[nltk_data]     did not properly respond after a period of time, or\n",
      "[nltk_data]     established connection failed because connected host\n",
      "[nltk_data]     has failed to respond>\n"
     ]
    },
    {
     "data": {
      "text/plain": [
       "False"
      ]
     },
     "execution_count": 7,
     "metadata": {},
     "output_type": "execute_result"
    }
   ],
   "source": [
    "import nltk\n",
    "nltk.download('punkt')"
   ]
  },
  {
   "cell_type": "code",
   "execution_count": 8,
   "metadata": {},
   "outputs": [
    {
     "name": "stderr",
     "output_type": "stream",
     "text": [
      "[nltk_data] Error loading stopwords: <urlopen error [WinError 10060] A\n",
      "[nltk_data]     connection attempt failed because the connected party\n",
      "[nltk_data]     did not properly respond after a period of time, or\n",
      "[nltk_data]     established connection failed because connected host\n",
      "[nltk_data]     has failed to respond>\n"
     ]
    },
    {
     "data": {
      "text/plain": [
       "False"
      ]
     },
     "execution_count": 8,
     "metadata": {},
     "output_type": "execute_result"
    }
   ],
   "source": [
    "nltk.download('stopwords')"
   ]
  },
  {
   "cell_type": "code",
   "execution_count": 9,
   "metadata": {},
   "outputs": [
    {
     "name": "stderr",
     "output_type": "stream",
     "text": [
      "[nltk_data] Error loading averaged_perceptron_tagger: <urlopen error\n",
      "[nltk_data]     [WinError 10060] A connection attempt failed because\n",
      "[nltk_data]     the connected party did not properly respond after a\n",
      "[nltk_data]     period of time, or established connection failed\n",
      "[nltk_data]     because connected host has failed to respond>\n"
     ]
    },
    {
     "data": {
      "text/plain": [
       "False"
      ]
     },
     "execution_count": 9,
     "metadata": {},
     "output_type": "execute_result"
    }
   ],
   "source": [
    "nltk.download('averaged_perceptron_tagger')"
   ]
  },
  {
   "cell_type": "code",
   "execution_count": 10,
   "metadata": {},
   "outputs": [],
   "source": [
    "from nltk.corpus import stopwords"
   ]
  },
  {
   "cell_type": "code",
   "execution_count": 11,
   "metadata": {},
   "outputs": [],
   "source": [
    "from nltk.tokenize import word_tokenize"
   ]
  },
  {
   "cell_type": "code",
   "execution_count": 12,
   "metadata": {},
   "outputs": [],
   "source": [
    "import textstat"
   ]
  },
  {
   "cell_type": "code",
   "execution_count": 13,
   "metadata": {},
   "outputs": [],
   "source": [
    "headers = {\n",
    "    \"User-Agent\": \"Mozilla/5.0 (X11; Linux x86_64; rv:60.0) Gecko/20100101 Firefox/60.0\",\n",
    "}\n"
   ]
  },
  {
   "cell_type": "code",
   "execution_count": 21,
   "metadata": {},
   "outputs": [],
   "source": [
    "# Helper Functions\n",
    "\n",
    "def vovel_counter(word):\n",
    "    word = word.lower()\n",
    "    count = 0\n",
    "    vovels = 'aeiouy'\n",
    "    if word[0] in vovels:\n",
    "        count += 1\n",
    "    for index in range(len(word)):\n",
    "        if word[index] in vovels and word[index - 1] not in vovels:\n",
    "            count += 1\n",
    "            if word.endswith('e'):\n",
    "                count -= 1\n",
    "    if count == 0:\n",
    "        count += 1\n",
    "    return count\n",
    "\n",
    "from textblob import TextBlob\n",
    "    # Get The Subjectivity with creating a function for the same to get the sentiment and subjectivity \n",
    "def sentiment_analysis(data):\n",
    "    sentiment = TextBlob(str(data[\"content\"])).sentiment\n",
    "    return pd.Series([sentiment.polarity,sentiment.subjectivity ])\n",
    "\n",
    "def propernoun(text):\n",
    "    count = 0\n",
    "    sentences = nltk.sent_tokenize(text)\n",
    "    for sentence in sentences:\n",
    "        works = nltk.word_tokenize(sentence)\n",
    "        tagged = nltk.pos_tag(works)\n",
    "        for (word, tag) in tagged:\n",
    "            if tag == \"PRP\":\n",
    "                count += 1\n",
    "    return count"
   ]
  },
  {
   "cell_type": "code",
   "execution_count": 20,
   "metadata": {},
   "outputs": [
    {
     "data": {
      "text/plain": [
       "'0    []\\nName: content, dtype: object'"
      ]
     },
     "execution_count": 20,
     "metadata": {},
     "output_type": "execute_result"
    }
   ],
   "source": [
    "str(data[\"content\"])"
   ]
  },
  {
   "cell_type": "code",
   "execution_count": 26,
   "metadata": {},
   "outputs": [],
   "source": [
    "df = pd.DataFrame(columns=['url_id', 'url','content', 'Posiitive_score', 'Negative_Score', 'AVG SENTENCE LENGTH', 'FOG INDEX', 'AVG NUMBER OF WORDS PER SENTENCE', 'COMPLEX WORD COUNT', 'WORD COUNT', 'SYLLABLE PER WORD', 'PERSONAL PRONOUNS', 'AVG WORD LENGTH', \"polarity\", \"subjectivity\"])"
   ]
  },
  {
   "cell_type": "code",
   "execution_count": null,
   "metadata": {},
   "outputs": [
    {
     "data": {
      "text/html": [
       "<div>\n",
       "<style scoped>\n",
       "    .dataframe tbody tr th:only-of-type {\n",
       "        vertical-align: middle;\n",
       "    }\n",
       "\n",
       "    .dataframe tbody tr th {\n",
       "        vertical-align: top;\n",
       "    }\n",
       "\n",
       "    .dataframe thead th {\n",
       "        text-align: right;\n",
       "    }\n",
       "</style>\n",
       "<table border=\"1\" class=\"dataframe\">\n",
       "  <thead>\n",
       "    <tr style=\"text-align: right;\">\n",
       "      <th></th>\n",
       "      <th>url_id</th>\n",
       "      <th>url</th>\n",
       "      <th>content</th>\n",
       "      <th>Posiitive_score</th>\n",
       "      <th>Negative_Score</th>\n",
       "      <th>AVG SENTENCE LENGTH</th>\n",
       "      <th>FOG INDEX</th>\n",
       "      <th>AVG NUMBER OF WORDS PER SENTENCE</th>\n",
       "      <th>COMPLEX WORD COUNT</th>\n",
       "      <th>WORD COUNT</th>\n",
       "      <th>SYLLABLE PER WORD</th>\n",
       "      <th>PERSONAL PRONOUNS</th>\n",
       "      <th>AVG WORD LENGTH</th>\n",
       "      <th>polarity</th>\n",
       "      <th>subjectivity</th>\n",
       "    </tr>\n",
       "  </thead>\n",
       "  <tbody>\n",
       "  </tbody>\n",
       "</table>\n",
       "</div>"
      ],
      "text/plain": [
       "Empty DataFrame\n",
       "Columns: [url_id, url, content, Posiitive_score, Negative_Score, AVG SENTENCE LENGTH, FOG INDEX, AVG NUMBER OF WORDS PER SENTENCE, COMPLEX WORD COUNT, WORD COUNT, SYLLABLE PER WORD, PERSONAL PRONOUNS, AVG WORD LENGTH, polarity, subjectivity]\n",
       "Index: []"
      ]
     },
     "execution_count": 27,
     "metadata": {},
     "output_type": "execute_result"
    }
   ],
   "source": [
    "df"
   ]
  },
  {
   "attachments": {},
   "cell_type": "markdown",
   "metadata": {},
   "source": [
    "# test1"
   ]
  },
  {
   "cell_type": "code",
   "execution_count": 41,
   "metadata": {},
   "outputs": [
    {
     "name": "stdout",
     "output_type": "stream",
     "text": [
      "AI in healthcare to Improve Patient Outcomes\n",
      " \n",
      " \n",
      "text_token :  1814\n",
      "Positive Score = 1193\n",
      "Negative Score = 1166\n",
      "\n"
     ]
    },
    {
     "name": "stderr",
     "output_type": "stream",
     "text": [
      "C:\\Users\\Pulkit Gaur\\AppData\\Local\\Temp\\ipykernel_14124\\3521568910.py:126: FutureWarning: The frame.append method is deprecated and will be removed from pandas in a future version. Use pandas.concat instead.\n",
      "  df = df.append(data, ignore_index=True)\n"
     ]
    },
    {
     "name": "stdout",
     "output_type": "stream",
     "text": [
      "What if the Creation is Taking Over the Creator?\n",
      " \n",
      " \n",
      "text_token :  1450\n",
      "Positive Score = 818\n",
      "Negative Score = 783\n",
      "\n"
     ]
    },
    {
     "name": "stderr",
     "output_type": "stream",
     "text": [
      "C:\\Users\\Pulkit Gaur\\AppData\\Local\\Temp\\ipykernel_14124\\3521568910.py:126: FutureWarning: The frame.append method is deprecated and will be removed from pandas in a future version. Use pandas.concat instead.\n",
      "  df = df.append(data, ignore_index=True)\n"
     ]
    },
    {
     "name": "stdout",
     "output_type": "stream",
     "text": [
      "What Jobs Will Robots Take From Humans in The Future?\n",
      " \n",
      " \n",
      "text_token :  1723\n",
      "Positive Score = 1059\n",
      "Negative Score = 1028\n",
      "\n"
     ]
    },
    {
     "name": "stderr",
     "output_type": "stream",
     "text": [
      "C:\\Users\\Pulkit Gaur\\AppData\\Local\\Temp\\ipykernel_14124\\3521568910.py:126: FutureWarning: The frame.append method is deprecated and will be removed from pandas in a future version. Use pandas.concat instead.\n",
      "  df = df.append(data, ignore_index=True)\n"
     ]
    },
    {
     "name": "stdout",
     "output_type": "stream",
     "text": [
      "Will Machine Replace The Human in the Future of Work?\n",
      " \n",
      " \n",
      "text_token :  1665\n",
      "Positive Score = 989\n",
      "Negative Score = 965\n",
      "\n"
     ]
    },
    {
     "name": "stderr",
     "output_type": "stream",
     "text": [
      "C:\\Users\\Pulkit Gaur\\AppData\\Local\\Temp\\ipykernel_14124\\3521568910.py:126: FutureWarning: The frame.append method is deprecated and will be removed from pandas in a future version. Use pandas.concat instead.\n",
      "  df = df.append(data, ignore_index=True)\n"
     ]
    },
    {
     "name": "stdout",
     "output_type": "stream",
     "text": [
      "Will AI Replace Us or Work With Us?\n",
      " \n",
      " \n",
      "text_token :  1794\n",
      "Positive Score = 1067\n",
      "Negative Score = 1042\n",
      "\n"
     ]
    },
    {
     "name": "stderr",
     "output_type": "stream",
     "text": [
      "C:\\Users\\Pulkit Gaur\\AppData\\Local\\Temp\\ipykernel_14124\\3521568910.py:126: FutureWarning: The frame.append method is deprecated and will be removed from pandas in a future version. Use pandas.concat instead.\n",
      "  df = df.append(data, ignore_index=True)\n"
     ]
    },
    {
     "name": "stdout",
     "output_type": "stream",
     "text": [
      "Will machine replace the human in the future of work?\n",
      " \n",
      " \n",
      "text_token :  1328\n",
      "Positive Score = 762\n",
      "Negative Score = 739\n",
      "\n"
     ]
    },
    {
     "name": "stderr",
     "output_type": "stream",
     "text": [
      "C:\\Users\\Pulkit Gaur\\AppData\\Local\\Temp\\ipykernel_14124\\3521568910.py:126: FutureWarning: The frame.append method is deprecated and will be removed from pandas in a future version. Use pandas.concat instead.\n",
      "  df = df.append(data, ignore_index=True)\n"
     ]
    },
    {
     "name": "stdout",
     "output_type": "stream",
     "text": [
      "How humans and machines are evolving to work together?\n",
      " \n",
      " \n",
      "text_token :  740\n",
      "Positive Score = 434\n",
      "Negative Score = 423\n",
      "\n"
     ]
    },
    {
     "name": "stderr",
     "output_type": "stream",
     "text": [
      "C:\\Users\\Pulkit Gaur\\AppData\\Local\\Temp\\ipykernel_14124\\3521568910.py:126: FutureWarning: The frame.append method is deprecated and will be removed from pandas in a future version. Use pandas.concat instead.\n",
      "  df = df.append(data, ignore_index=True)\n"
     ]
    },
    {
     "name": "stdout",
     "output_type": "stream",
     "text": [
      "Deep learning impact on areas of e-learning?\n",
      " \n",
      " \n",
      "text_token :  2215\n",
      "Positive Score = 1285\n",
      "Negative Score = 1247\n",
      "\n"
     ]
    },
    {
     "name": "stderr",
     "output_type": "stream",
     "text": [
      "C:\\Users\\Pulkit Gaur\\AppData\\Local\\Temp\\ipykernel_14124\\3521568910.py:126: FutureWarning: The frame.append method is deprecated and will be removed from pandas in a future version. Use pandas.concat instead.\n",
      "  df = df.append(data, ignore_index=True)\n"
     ]
    },
    {
     "name": "stdout",
     "output_type": "stream",
     "text": [
      "How to protect future data and its privacy?\n",
      " \n",
      " \n",
      "text_token :  2101\n",
      "Positive Score = 1294\n",
      "Negative Score = 1232\n",
      "\n"
     ]
    },
    {
     "name": "stderr",
     "output_type": "stream",
     "text": [
      "C:\\Users\\Pulkit Gaur\\AppData\\Local\\Temp\\ipykernel_14124\\3521568910.py:126: FutureWarning: The frame.append method is deprecated and will be removed from pandas in a future version. Use pandas.concat instead.\n",
      "  df = df.append(data, ignore_index=True)\n"
     ]
    },
    {
     "name": "stdout",
     "output_type": "stream",
     "text": [
      "How Machines, AI, Automations, and Robo-human are Effective in Finance and Banking?\n",
      " \n",
      " \n",
      "text_token :  1202\n",
      "Positive Score = 736\n",
      "Negative Score = 719\n",
      "\n"
     ]
    },
    {
     "name": "stderr",
     "output_type": "stream",
     "text": [
      "C:\\Users\\Pulkit Gaur\\AppData\\Local\\Temp\\ipykernel_14124\\3521568910.py:126: FutureWarning: The frame.append method is deprecated and will be removed from pandas in a future version. Use pandas.concat instead.\n",
      "  df = df.append(data, ignore_index=True)\n"
     ]
    },
    {
     "name": "stdout",
     "output_type": "stream",
     "text": [
      "How Robo Human will Impact the Future?\n",
      " \n",
      " \n",
      "text_token :  1269\n",
      "Positive Score = 820\n",
      "Negative Score = 796\n",
      "\n"
     ]
    },
    {
     "name": "stderr",
     "output_type": "stream",
     "text": [
      "C:\\Users\\Pulkit Gaur\\AppData\\Local\\Temp\\ipykernel_14124\\3521568910.py:126: FutureWarning: The frame.append method is deprecated and will be removed from pandas in a future version. Use pandas.concat instead.\n",
      "  df = df.append(data, ignore_index=True)\n"
     ]
    },
    {
     "name": "stdout",
     "output_type": "stream",
     "text": [
      "How AI will change the World?\n",
      " \n",
      " \n",
      "text_token :  1728\n",
      "Positive Score = 922\n",
      "Negative Score = 903\n",
      "\n"
     ]
    },
    {
     "name": "stderr",
     "output_type": "stream",
     "text": [
      "C:\\Users\\Pulkit Gaur\\AppData\\Local\\Temp\\ipykernel_14124\\3521568910.py:126: FutureWarning: The frame.append method is deprecated and will be removed from pandas in a future version. Use pandas.concat instead.\n",
      "  df = df.append(data, ignore_index=True)\n"
     ]
    },
    {
     "name": "stdout",
     "output_type": "stream",
     "text": [
      "Future of Work: How AI Has Entered the Workplace\n",
      " \n",
      " \n",
      "text_token :  1685\n",
      "Positive Score = 1015\n",
      "Negative Score = 993\n",
      "\n"
     ]
    },
    {
     "name": "stderr",
     "output_type": "stream",
     "text": [
      "C:\\Users\\Pulkit Gaur\\AppData\\Local\\Temp\\ipykernel_14124\\3521568910.py:126: FutureWarning: The frame.append method is deprecated and will be removed from pandas in a future version. Use pandas.concat instead.\n",
      "  df = df.append(data, ignore_index=True)\n"
     ]
    },
    {
     "name": "stdout",
     "output_type": "stream",
     "text": [
      "How machine learning used in finance and banking?\n",
      " \n",
      " \n",
      "text_token :  506\n",
      "Positive Score = 314\n",
      "Negative Score = 317\n",
      "\n"
     ]
    },
    {
     "name": "stderr",
     "output_type": "stream",
     "text": [
      "C:\\Users\\Pulkit Gaur\\AppData\\Local\\Temp\\ipykernel_14124\\3521568910.py:126: FutureWarning: The frame.append method is deprecated and will be removed from pandas in a future version. Use pandas.concat instead.\n",
      "  df = df.append(data, ignore_index=True)\n"
     ]
    },
    {
     "name": "stdout",
     "output_type": "stream",
     "text": [
      "How AI will impact the future of work?\n",
      " \n",
      " \n",
      "text_token :  1861\n",
      "Positive Score = 959\n",
      "Negative Score = 921\n",
      "\n"
     ]
    },
    {
     "name": "stderr",
     "output_type": "stream",
     "text": [
      "C:\\Users\\Pulkit Gaur\\AppData\\Local\\Temp\\ipykernel_14124\\3521568910.py:126: FutureWarning: The frame.append method is deprecated and will be removed from pandas in a future version. Use pandas.concat instead.\n",
      "  df = df.append(data, ignore_index=True)\n"
     ]
    },
    {
     "name": "stdout",
     "output_type": "stream",
     "text": [
      "All you need to know about online marketing\n",
      " \n",
      " \n",
      "text_token :  970\n",
      "Positive Score = 587\n",
      "Negative Score = 587\n",
      "\n"
     ]
    },
    {
     "name": "stderr",
     "output_type": "stream",
     "text": [
      "C:\\Users\\Pulkit Gaur\\AppData\\Local\\Temp\\ipykernel_14124\\3521568910.py:126: FutureWarning: The frame.append method is deprecated and will be removed from pandas in a future version. Use pandas.concat instead.\n",
      "  df = df.append(data, ignore_index=True)\n"
     ]
    },
    {
     "name": "stdout",
     "output_type": "stream",
     "text": [
      "Evolution of Advertising Industry\n",
      " \n",
      " \n",
      "text_token :  727\n",
      "Positive Score = 444\n",
      "Negative Score = 438\n",
      "\n"
     ]
    },
    {
     "name": "stderr",
     "output_type": "stream",
     "text": [
      "C:\\Users\\Pulkit Gaur\\AppData\\Local\\Temp\\ipykernel_14124\\3521568910.py:126: FutureWarning: The frame.append method is deprecated and will be removed from pandas in a future version. Use pandas.concat instead.\n",
      "  df = df.append(data, ignore_index=True)\n"
     ]
    },
    {
     "name": "stdout",
     "output_type": "stream",
     "text": [
      "How Data Analytics can help your business respond to the impact of COVID-19?\n",
      " \n",
      " \n",
      "text_token :  317\n",
      "Positive Score = 198\n",
      "Negative Score = 195\n",
      "\n"
     ]
    },
    {
     "name": "stderr",
     "output_type": "stream",
     "text": [
      "C:\\Users\\Pulkit Gaur\\AppData\\Local\\Temp\\ipykernel_14124\\3521568910.py:126: FutureWarning: The frame.append method is deprecated and will be removed from pandas in a future version. Use pandas.concat instead.\n",
      "  df = df.append(data, ignore_index=True)\n"
     ]
    },
    {
     "name": "stdout",
     "output_type": "stream",
     "text": [
      "None\n",
      " \n",
      " \n",
      "text_token :  2\n",
      "Positive Score = 2\n",
      "Negative Score = 2\n",
      "\n"
     ]
    },
    {
     "name": "stderr",
     "output_type": "stream",
     "text": [
      "C:\\Users\\Pulkit Gaur\\AppData\\Local\\Temp\\ipykernel_14124\\3521568910.py:126: FutureWarning: The frame.append method is deprecated and will be removed from pandas in a future version. Use pandas.concat instead.\n",
      "  df = df.append(data, ignore_index=True)\n"
     ]
    },
    {
     "name": "stdout",
     "output_type": "stream",
     "text": [
      "Environmental impact of the COVID-19 pandemic – Lesson for the Future\n",
      " \n",
      " \n",
      "text_token :  1390\n",
      "Positive Score = 826\n",
      "Negative Score = 759\n",
      "\n"
     ]
    },
    {
     "name": "stderr",
     "output_type": "stream",
     "text": [
      "C:\\Users\\Pulkit Gaur\\AppData\\Local\\Temp\\ipykernel_14124\\3521568910.py:126: FutureWarning: The frame.append method is deprecated and will be removed from pandas in a future version. Use pandas.concat instead.\n",
      "  df = df.append(data, ignore_index=True)\n"
     ]
    },
    {
     "name": "stdout",
     "output_type": "stream",
     "text": [
      "How Data Analytics and AI are used to halt the COVID-19 Pandemic?\n",
      " \n",
      " \n",
      "text_token :  720\n",
      "Positive Score = 425\n",
      "Negative Score = 411\n",
      "\n"
     ]
    },
    {
     "name": "stderr",
     "output_type": "stream",
     "text": [
      "C:\\Users\\Pulkit Gaur\\AppData\\Local\\Temp\\ipykernel_14124\\3521568910.py:126: FutureWarning: The frame.append method is deprecated and will be removed from pandas in a future version. Use pandas.concat instead.\n",
      "  df = df.append(data, ignore_index=True)\n"
     ]
    },
    {
     "name": "stdout",
     "output_type": "stream",
     "text": [
      "What is the difference between Artificial Intelligence, Machine Learning, Statistics, and Data Mining?\n",
      " \n",
      " \n",
      "text_token :  1968\n",
      "Positive Score = 1097\n",
      "Negative Score = 1062\n",
      "\n"
     ]
    },
    {
     "name": "stderr",
     "output_type": "stream",
     "text": [
      "C:\\Users\\Pulkit Gaur\\AppData\\Local\\Temp\\ipykernel_14124\\3521568910.py:126: FutureWarning: The frame.append method is deprecated and will be removed from pandas in a future version. Use pandas.concat instead.\n",
      "  df = df.append(data, ignore_index=True)\n"
     ]
    },
    {
     "name": "stdout",
     "output_type": "stream",
     "text": [
      "How Python became the first choice for Data Science.\n",
      " \n",
      " \n",
      "text_token :  679\n",
      "Positive Score = 407\n",
      "Negative Score = 411\n",
      "\n"
     ]
    },
    {
     "name": "stderr",
     "output_type": "stream",
     "text": [
      "C:\\Users\\Pulkit Gaur\\AppData\\Local\\Temp\\ipykernel_14124\\3521568910.py:126: FutureWarning: The frame.append method is deprecated and will be removed from pandas in a future version. Use pandas.concat instead.\n",
      "  df = df.append(data, ignore_index=True)\n"
     ]
    },
    {
     "name": "stdout",
     "output_type": "stream",
     "text": [
      "How Google fit measure heart and respiratory rates using a phone camera?\n",
      " \n",
      " \n",
      "text_token :  387\n",
      "Positive Score = 242\n",
      "Negative Score = 241\n",
      "\n"
     ]
    },
    {
     "name": "stderr",
     "output_type": "stream",
     "text": [
      "C:\\Users\\Pulkit Gaur\\AppData\\Local\\Temp\\ipykernel_14124\\3521568910.py:126: FutureWarning: The frame.append method is deprecated and will be removed from pandas in a future version. Use pandas.concat instead.\n",
      "  df = df.append(data, ignore_index=True)\n"
     ]
    },
    {
     "name": "stdout",
     "output_type": "stream",
     "text": [
      "What is the future of mobile apps?\n",
      " \n",
      " \n",
      "text_token :  1164\n",
      "Positive Score = 730\n",
      "Negative Score = 722\n",
      "\n"
     ]
    },
    {
     "name": "stderr",
     "output_type": "stream",
     "text": [
      "C:\\Users\\Pulkit Gaur\\AppData\\Local\\Temp\\ipykernel_14124\\3521568910.py:126: FutureWarning: The frame.append method is deprecated and will be removed from pandas in a future version. Use pandas.concat instead.\n",
      "  df = df.append(data, ignore_index=True)\n"
     ]
    },
    {
     "name": "stdout",
     "output_type": "stream",
     "text": [
      "Impact of AI in health and medicine\n",
      " \n",
      " \n",
      "text_token :  623\n",
      "Positive Score = 399\n",
      "Negative Score = 391\n",
      "\n"
     ]
    },
    {
     "name": "stderr",
     "output_type": "stream",
     "text": [
      "C:\\Users\\Pulkit Gaur\\AppData\\Local\\Temp\\ipykernel_14124\\3521568910.py:126: FutureWarning: The frame.append method is deprecated and will be removed from pandas in a future version. Use pandas.concat instead.\n",
      "  df = df.append(data, ignore_index=True)\n"
     ]
    },
    {
     "name": "stdout",
     "output_type": "stream",
     "text": [
      "What patients like and dislike about telemedicine?\n",
      " \n",
      " \n",
      "text_token :  393\n",
      "Positive Score = 214\n",
      "Negative Score = 206\n",
      "\n"
     ]
    },
    {
     "name": "stderr",
     "output_type": "stream",
     "text": [
      "C:\\Users\\Pulkit Gaur\\AppData\\Local\\Temp\\ipykernel_14124\\3521568910.py:126: FutureWarning: The frame.append method is deprecated and will be removed from pandas in a future version. Use pandas.concat instead.\n",
      "  df = df.append(data, ignore_index=True)\n"
     ]
    },
    {
     "name": "stdout",
     "output_type": "stream",
     "text": [
      "How we forecast future technologies?\n",
      " \n",
      " \n",
      "text_token :  163\n",
      "Positive Score = 105\n",
      "Negative Score = 106\n",
      "\n"
     ]
    },
    {
     "name": "stderr",
     "output_type": "stream",
     "text": [
      "C:\\Users\\Pulkit Gaur\\AppData\\Local\\Temp\\ipykernel_14124\\3521568910.py:126: FutureWarning: The frame.append method is deprecated and will be removed from pandas in a future version. Use pandas.concat instead.\n",
      "  df = df.append(data, ignore_index=True)\n"
     ]
    },
    {
     "name": "stdout",
     "output_type": "stream",
     "text": [
      "Can robots tackle late-life loneliness?\n",
      " \n",
      " \n",
      "text_token :  849\n",
      "Positive Score = 469\n",
      "Negative Score = 436\n",
      "\n"
     ]
    },
    {
     "name": "stderr",
     "output_type": "stream",
     "text": [
      "C:\\Users\\Pulkit Gaur\\AppData\\Local\\Temp\\ipykernel_14124\\3521568910.py:126: FutureWarning: The frame.append method is deprecated and will be removed from pandas in a future version. Use pandas.concat instead.\n",
      "  df = df.append(data, ignore_index=True)\n"
     ]
    },
    {
     "name": "stdout",
     "output_type": "stream",
     "text": [
      "Embedding care robots into society and practice: Socio-technical considerations\n",
      " \n",
      " \n",
      "text_token :  180\n",
      "Positive Score = 109\n",
      "Negative Score = 107\n",
      "\n"
     ]
    },
    {
     "name": "stderr",
     "output_type": "stream",
     "text": [
      "C:\\Users\\Pulkit Gaur\\AppData\\Local\\Temp\\ipykernel_14124\\3521568910.py:126: FutureWarning: The frame.append method is deprecated and will be removed from pandas in a future version. Use pandas.concat instead.\n",
      "  df = df.append(data, ignore_index=True)\n"
     ]
    },
    {
     "name": "stdout",
     "output_type": "stream",
     "text": [
      "Management challenges for future digitalization of healthcare services\n",
      " \n",
      " \n",
      "text_token :  1170\n",
      "Positive Score = 747\n",
      "Negative Score = 729\n",
      "\n"
     ]
    },
    {
     "name": "stderr",
     "output_type": "stream",
     "text": [
      "C:\\Users\\Pulkit Gaur\\AppData\\Local\\Temp\\ipykernel_14124\\3521568910.py:126: FutureWarning: The frame.append method is deprecated and will be removed from pandas in a future version. Use pandas.concat instead.\n",
      "  df = df.append(data, ignore_index=True)\n"
     ]
    },
    {
     "name": "stdout",
     "output_type": "stream",
     "text": [
      "Are we any closer to preventing a nuclear holocaust?\n",
      " \n",
      " \n",
      "text_token :  532\n",
      "Positive Score = 321\n",
      "Negative Score = 304\n",
      "\n"
     ]
    },
    {
     "name": "stderr",
     "output_type": "stream",
     "text": [
      "C:\\Users\\Pulkit Gaur\\AppData\\Local\\Temp\\ipykernel_14124\\3521568910.py:126: FutureWarning: The frame.append method is deprecated and will be removed from pandas in a future version. Use pandas.concat instead.\n",
      "  df = df.append(data, ignore_index=True)\n"
     ]
    },
    {
     "name": "stdout",
     "output_type": "stream",
     "text": [
      "Will technology eliminate the need for animal testing in drug development?\n",
      " \n",
      " \n",
      "text_token :  1074\n",
      "Positive Score = 609\n",
      "Negative Score = 572\n",
      "\n"
     ]
    },
    {
     "name": "stderr",
     "output_type": "stream",
     "text": [
      "C:\\Users\\Pulkit Gaur\\AppData\\Local\\Temp\\ipykernel_14124\\3521568910.py:126: FutureWarning: The frame.append method is deprecated and will be removed from pandas in a future version. Use pandas.concat instead.\n",
      "  df = df.append(data, ignore_index=True)\n"
     ]
    },
    {
     "name": "stdout",
     "output_type": "stream",
     "text": [
      "Will we ever understand the nature of consciousness?\n",
      " \n",
      " \n",
      "text_token :  1764\n",
      "Positive Score = 1036\n",
      "Negative Score = 989\n",
      "\n"
     ]
    },
    {
     "name": "stderr",
     "output_type": "stream",
     "text": [
      "C:\\Users\\Pulkit Gaur\\AppData\\Local\\Temp\\ipykernel_14124\\3521568910.py:126: FutureWarning: The frame.append method is deprecated and will be removed from pandas in a future version. Use pandas.concat instead.\n",
      "  df = df.append(data, ignore_index=True)\n"
     ]
    },
    {
     "name": "stdout",
     "output_type": "stream",
     "text": [
      "Will we ever colonize outer space?\n",
      " \n",
      " \n",
      "text_token :  1775\n",
      "Positive Score = 958\n",
      "Negative Score = 937\n",
      "\n"
     ]
    },
    {
     "name": "stderr",
     "output_type": "stream",
     "text": [
      "C:\\Users\\Pulkit Gaur\\AppData\\Local\\Temp\\ipykernel_14124\\3521568910.py:126: FutureWarning: The frame.append method is deprecated and will be removed from pandas in a future version. Use pandas.concat instead.\n",
      "  df = df.append(data, ignore_index=True)\n"
     ]
    },
    {
     "name": "stdout",
     "output_type": "stream",
     "text": [
      "What is the chance Homo sapiens will survive for the next 500 years?\n",
      " \n",
      " \n",
      "text_token :  1480\n",
      "Positive Score = 883\n",
      "Negative Score = 860\n",
      "\n"
     ]
    },
    {
     "name": "stderr",
     "output_type": "stream",
     "text": [
      "C:\\Users\\Pulkit Gaur\\AppData\\Local\\Temp\\ipykernel_14124\\3521568910.py:126: FutureWarning: The frame.append method is deprecated and will be removed from pandas in a future version. Use pandas.concat instead.\n",
      "  df = df.append(data, ignore_index=True)\n"
     ]
    },
    {
     "name": "stdout",
     "output_type": "stream",
     "text": [
      "Why does your business need a chatbot?\n",
      " \n",
      " \n",
      "text_token :  901\n",
      "Positive Score = 458\n",
      "Negative Score = 452\n",
      "\n"
     ]
    },
    {
     "name": "stderr",
     "output_type": "stream",
     "text": [
      "C:\\Users\\Pulkit Gaur\\AppData\\Local\\Temp\\ipykernel_14124\\3521568910.py:126: FutureWarning: The frame.append method is deprecated and will be removed from pandas in a future version. Use pandas.concat instead.\n",
      "  df = df.append(data, ignore_index=True)\n"
     ]
    },
    {
     "name": "stdout",
     "output_type": "stream",
     "text": [
      "How you lead a project or a team without any technical expertise?\n",
      " \n",
      " \n",
      "text_token :  1460\n",
      "Positive Score = 734\n",
      "Negative Score = 726\n",
      "\n"
     ]
    },
    {
     "name": "stderr",
     "output_type": "stream",
     "text": [
      "C:\\Users\\Pulkit Gaur\\AppData\\Local\\Temp\\ipykernel_14124\\3521568910.py:126: FutureWarning: The frame.append method is deprecated and will be removed from pandas in a future version. Use pandas.concat instead.\n",
      "  df = df.append(data, ignore_index=True)\n"
     ]
    },
    {
     "name": "stdout",
     "output_type": "stream",
     "text": [
      "Can You Be Great Leader Without Technical Expertise\n",
      " \n",
      " \n",
      "text_token :  484\n",
      "Positive Score = 256\n",
      "Negative Score = 251\n",
      "\n"
     ]
    },
    {
     "name": "stderr",
     "output_type": "stream",
     "text": [
      "C:\\Users\\Pulkit Gaur\\AppData\\Local\\Temp\\ipykernel_14124\\3521568910.py:126: FutureWarning: The frame.append method is deprecated and will be removed from pandas in a future version. Use pandas.concat instead.\n",
      "  df = df.append(data, ignore_index=True)\n"
     ]
    },
    {
     "name": "stdout",
     "output_type": "stream",
     "text": [
      "How does artificial intelligence affect the environment\n",
      " \n",
      " \n",
      "text_token :  1637\n",
      "Positive Score = 1009\n",
      "Negative Score = 994\n",
      "\n"
     ]
    },
    {
     "name": "stderr",
     "output_type": "stream",
     "text": [
      "C:\\Users\\Pulkit Gaur\\AppData\\Local\\Temp\\ipykernel_14124\\3521568910.py:126: FutureWarning: The frame.append method is deprecated and will be removed from pandas in a future version. Use pandas.concat instead.\n",
      "  df = df.append(data, ignore_index=True)\n"
     ]
    },
    {
     "name": "stdout",
     "output_type": "stream",
     "text": [
      "How to Overcome Your Fear of Making Mistakes\n",
      " \n",
      " \n",
      "text_token :  1038\n",
      "Positive Score = 584\n",
      "Negative Score = 515\n",
      "\n"
     ]
    },
    {
     "name": "stderr",
     "output_type": "stream",
     "text": [
      "C:\\Users\\Pulkit Gaur\\AppData\\Local\\Temp\\ipykernel_14124\\3521568910.py:126: FutureWarning: The frame.append method is deprecated and will be removed from pandas in a future version. Use pandas.concat instead.\n",
      "  df = df.append(data, ignore_index=True)\n"
     ]
    },
    {
     "name": "stdout",
     "output_type": "stream",
     "text": [
      "Is Perfection the Greatest enemy of Productivity?\n",
      " \n",
      " \n",
      "text_token :  1161\n",
      "Positive Score = 629\n",
      "Negative Score = 608\n",
      "\n"
     ]
    },
    {
     "name": "stderr",
     "output_type": "stream",
     "text": [
      "C:\\Users\\Pulkit Gaur\\AppData\\Local\\Temp\\ipykernel_14124\\3521568910.py:126: FutureWarning: The frame.append method is deprecated and will be removed from pandas in a future version. Use pandas.concat instead.\n",
      "  df = df.append(data, ignore_index=True)\n"
     ]
    },
    {
     "name": "stdout",
     "output_type": "stream",
     "text": [
      "Global financial crisis 2008 causes/effects and its solution\n",
      " \n",
      " \n",
      "text_token :  1207\n",
      "Positive Score = 748\n",
      "Negative Score = 718\n",
      "\n"
     ]
    },
    {
     "name": "stderr",
     "output_type": "stream",
     "text": [
      "C:\\Users\\Pulkit Gaur\\AppData\\Local\\Temp\\ipykernel_14124\\3521568910.py:126: FutureWarning: The frame.append method is deprecated and will be removed from pandas in a future version. Use pandas.concat instead.\n",
      "  df = df.append(data, ignore_index=True)\n"
     ]
    },
    {
     "name": "stdout",
     "output_type": "stream",
     "text": [
      "Gender diversity and Equality in the tech industry\n",
      " \n",
      " \n",
      "text_token :  1448\n",
      "Positive Score = 893\n",
      "Negative Score = 868\n",
      "\n"
     ]
    },
    {
     "name": "stderr",
     "output_type": "stream",
     "text": [
      "C:\\Users\\Pulkit Gaur\\AppData\\Local\\Temp\\ipykernel_14124\\3521568910.py:126: FutureWarning: The frame.append method is deprecated and will be removed from pandas in a future version. Use pandas.concat instead.\n",
      "  df = df.append(data, ignore_index=True)\n"
     ]
    },
    {
     "name": "stdout",
     "output_type": "stream",
     "text": [
      "How to overcome your fear of making mistakes?\n",
      " \n",
      " \n",
      "text_token :  1090\n",
      "Positive Score = 617\n",
      "Negative Score = 540\n",
      "\n"
     ]
    },
    {
     "name": "stderr",
     "output_type": "stream",
     "text": [
      "C:\\Users\\Pulkit Gaur\\AppData\\Local\\Temp\\ipykernel_14124\\3521568910.py:126: FutureWarning: The frame.append method is deprecated and will be removed from pandas in a future version. Use pandas.concat instead.\n",
      "  df = df.append(data, ignore_index=True)\n"
     ]
    },
    {
     "name": "stdout",
     "output_type": "stream",
     "text": [
      "How Small Business can survive the Coronavirus Crisis\n",
      " \n",
      " \n",
      "text_token :  1591\n",
      "Positive Score = 894\n",
      "Negative Score = 867\n",
      "\n"
     ]
    },
    {
     "name": "stderr",
     "output_type": "stream",
     "text": [
      "C:\\Users\\Pulkit Gaur\\AppData\\Local\\Temp\\ipykernel_14124\\3521568910.py:126: FutureWarning: The frame.append method is deprecated and will be removed from pandas in a future version. Use pandas.concat instead.\n",
      "  df = df.append(data, ignore_index=True)\n"
     ]
    },
    {
     "name": "stdout",
     "output_type": "stream",
     "text": [
      "Impacts of COVID 19 on Food products\n",
      " \n",
      " \n",
      "text_token :  761\n",
      "Positive Score = 448\n",
      "Negative Score = 435\n",
      "\n"
     ]
    },
    {
     "name": "stderr",
     "output_type": "stream",
     "text": [
      "C:\\Users\\Pulkit Gaur\\AppData\\Local\\Temp\\ipykernel_14124\\3521568910.py:126: FutureWarning: The frame.append method is deprecated and will be removed from pandas in a future version. Use pandas.concat instead.\n",
      "  df = df.append(data, ignore_index=True)\n"
     ]
    },
    {
     "name": "stdout",
     "output_type": "stream",
     "text": [
      "Impacts of COVID 19 on Vegetable Vendors\n",
      " \n",
      " \n",
      "text_token :  1194\n",
      "Positive Score = 722\n",
      "Negative Score = 698\n",
      "\n"
     ]
    },
    {
     "name": "stderr",
     "output_type": "stream",
     "text": [
      "C:\\Users\\Pulkit Gaur\\AppData\\Local\\Temp\\ipykernel_14124\\3521568910.py:126: FutureWarning: The frame.append method is deprecated and will be removed from pandas in a future version. Use pandas.concat instead.\n",
      "  df = df.append(data, ignore_index=True)\n"
     ]
    },
    {
     "name": "stdout",
     "output_type": "stream",
     "text": [
      "Impact of COVID-19 pandemic on Tourism & Aviation industries\n",
      " \n",
      " \n",
      "text_token :  1726\n",
      "Positive Score = 1006\n",
      "Negative Score = 958\n",
      "\n"
     ]
    },
    {
     "name": "stderr",
     "output_type": "stream",
     "text": [
      "C:\\Users\\Pulkit Gaur\\AppData\\Local\\Temp\\ipykernel_14124\\3521568910.py:126: FutureWarning: The frame.append method is deprecated and will be removed from pandas in a future version. Use pandas.concat instead.\n",
      "  df = df.append(data, ignore_index=True)\n"
     ]
    },
    {
     "name": "stdout",
     "output_type": "stream",
     "text": [
      "Impact of COVID-19 pandemic on sports events around the world.\n",
      " \n",
      " \n",
      "text_token :  3444\n",
      "Positive Score = 2397\n",
      "Negative Score = 2387\n",
      "\n"
     ]
    },
    {
     "name": "stderr",
     "output_type": "stream",
     "text": [
      "C:\\Users\\Pulkit Gaur\\AppData\\Local\\Temp\\ipykernel_14124\\3521568910.py:126: FutureWarning: The frame.append method is deprecated and will be removed from pandas in a future version. Use pandas.concat instead.\n",
      "  df = df.append(data, ignore_index=True)\n"
     ]
    },
    {
     "name": "stdout",
     "output_type": "stream",
     "text": [
      "Changing landscape and emerging trends in the Indian IT/ITeS Industry.\n",
      " \n",
      " \n",
      "text_token :  1788\n",
      "Positive Score = 1012\n",
      "Negative Score = 965\n",
      "\n"
     ]
    },
    {
     "name": "stderr",
     "output_type": "stream",
     "text": [
      "C:\\Users\\Pulkit Gaur\\AppData\\Local\\Temp\\ipykernel_14124\\3521568910.py:126: FutureWarning: The frame.append method is deprecated and will be removed from pandas in a future version. Use pandas.concat instead.\n",
      "  df = df.append(data, ignore_index=True)\n"
     ]
    },
    {
     "name": "stdout",
     "output_type": "stream",
     "text": [
      "Online gaming: Adolescent online gaming effects demotivated, depression, musculoskeletal, and psychosomatic symptoms.\n",
      " \n",
      " \n",
      "text_token :  1511\n",
      "Positive Score = 982\n",
      "Negative Score = 916\n",
      "\n"
     ]
    },
    {
     "name": "stderr",
     "output_type": "stream",
     "text": [
      "C:\\Users\\Pulkit Gaur\\AppData\\Local\\Temp\\ipykernel_14124\\3521568910.py:126: FutureWarning: The frame.append method is deprecated and will be removed from pandas in a future version. Use pandas.concat instead.\n",
      "  df = df.append(data, ignore_index=True)\n"
     ]
    },
    {
     "name": "stdout",
     "output_type": "stream",
     "text": [
      "Human Rights Outlook\n",
      " \n",
      " \n",
      "text_token :  170\n",
      "Positive Score = 96\n",
      "Negative Score = 93\n",
      "\n"
     ]
    },
    {
     "name": "stderr",
     "output_type": "stream",
     "text": [
      "C:\\Users\\Pulkit Gaur\\AppData\\Local\\Temp\\ipykernel_14124\\3521568910.py:126: FutureWarning: The frame.append method is deprecated and will be removed from pandas in a future version. Use pandas.concat instead.\n",
      "  df = df.append(data, ignore_index=True)\n"
     ]
    },
    {
     "name": "stdout",
     "output_type": "stream",
     "text": [
      "How Voice search makes your business a successful business.\n",
      " \n",
      " \n",
      "text_token :  1005\n",
      "Positive Score = 603\n",
      "Negative Score = 600\n",
      "\n"
     ]
    },
    {
     "name": "stderr",
     "output_type": "stream",
     "text": [
      "C:\\Users\\Pulkit Gaur\\AppData\\Local\\Temp\\ipykernel_14124\\3521568910.py:126: FutureWarning: The frame.append method is deprecated and will be removed from pandas in a future version. Use pandas.concat instead.\n",
      "  df = df.append(data, ignore_index=True)\n"
     ]
    },
    {
     "name": "stdout",
     "output_type": "stream",
     "text": [
      "How the COVID-19 crisis is redefining jobs and services?\n",
      " \n",
      " \n",
      "text_token :  1842\n",
      "Positive Score = 1021\n",
      "Negative Score = 988\n",
      "\n"
     ]
    },
    {
     "name": "stderr",
     "output_type": "stream",
     "text": [
      "C:\\Users\\Pulkit Gaur\\AppData\\Local\\Temp\\ipykernel_14124\\3521568910.py:126: FutureWarning: The frame.append method is deprecated and will be removed from pandas in a future version. Use pandas.concat instead.\n",
      "  df = df.append(data, ignore_index=True)\n"
     ]
    },
    {
     "name": "stdout",
     "output_type": "stream",
     "text": [
      "How to increase social media engagement for marketers?\n",
      " \n",
      " \n",
      "text_token :  1832\n",
      "Positive Score = 1114\n",
      "Negative Score = 1101\n",
      "\n"
     ]
    },
    {
     "name": "stderr",
     "output_type": "stream",
     "text": [
      "C:\\Users\\Pulkit Gaur\\AppData\\Local\\Temp\\ipykernel_14124\\3521568910.py:126: FutureWarning: The frame.append method is deprecated and will be removed from pandas in a future version. Use pandas.concat instead.\n",
      "  df = df.append(data, ignore_index=True)\n"
     ]
    },
    {
     "name": "stdout",
     "output_type": "stream",
     "text": [
      "Impacts of COVID 19 on Streets Sides Food Stalls\n",
      " \n",
      " \n",
      "text_token :  1079\n",
      "Positive Score = 647\n",
      "Negative Score = 618\n",
      "\n"
     ]
    },
    {
     "name": "stderr",
     "output_type": "stream",
     "text": [
      "C:\\Users\\Pulkit Gaur\\AppData\\Local\\Temp\\ipykernel_14124\\3521568910.py:126: FutureWarning: The frame.append method is deprecated and will be removed from pandas in a future version. Use pandas.concat instead.\n",
      "  df = df.append(data, ignore_index=True)\n"
     ]
    },
    {
     "name": "stdout",
     "output_type": "stream",
     "text": [
      "Coronavirus impact on energy markets\n",
      " \n",
      " \n",
      "text_token :  1792\n",
      "Positive Score = 1138\n",
      "Negative Score = 1098\n",
      "\n"
     ]
    },
    {
     "name": "stderr",
     "output_type": "stream",
     "text": [
      "C:\\Users\\Pulkit Gaur\\AppData\\Local\\Temp\\ipykernel_14124\\3521568910.py:126: FutureWarning: The frame.append method is deprecated and will be removed from pandas in a future version. Use pandas.concat instead.\n",
      "  df = df.append(data, ignore_index=True)\n"
     ]
    },
    {
     "name": "stdout",
     "output_type": "stream",
     "text": [
      "COVID-19 Impact on Hospitality Industry\n",
      " \n",
      " \n",
      "text_token :  982\n",
      "Positive Score = 584\n",
      "Negative Score = 542\n",
      "\n"
     ]
    },
    {
     "name": "stderr",
     "output_type": "stream",
     "text": [
      "C:\\Users\\Pulkit Gaur\\AppData\\Local\\Temp\\ipykernel_14124\\3521568910.py:126: FutureWarning: The frame.append method is deprecated and will be removed from pandas in a future version. Use pandas.concat instead.\n",
      "  df = df.append(data, ignore_index=True)\n"
     ]
    },
    {
     "name": "stdout",
     "output_type": "stream",
     "text": [
      "Lessons from the past: Some key learnings relevant to the coronavirus crisis\n",
      " \n",
      " \n",
      "text_token :  1223\n",
      "Positive Score = 677\n",
      "Negative Score = 635\n",
      "\n"
     ]
    },
    {
     "name": "stderr",
     "output_type": "stream",
     "text": [
      "C:\\Users\\Pulkit Gaur\\AppData\\Local\\Temp\\ipykernel_14124\\3521568910.py:126: FutureWarning: The frame.append method is deprecated and will be removed from pandas in a future version. Use pandas.concat instead.\n",
      "  df = df.append(data, ignore_index=True)\n"
     ]
    },
    {
     "name": "stdout",
     "output_type": "stream",
     "text": [
      "Estimating the impact of COVID-19 on the world of work\n",
      " \n",
      " \n",
      "text_token :  1101\n",
      "Positive Score = 633\n",
      "Negative Score = 607\n",
      "\n"
     ]
    },
    {
     "name": "stderr",
     "output_type": "stream",
     "text": [
      "C:\\Users\\Pulkit Gaur\\AppData\\Local\\Temp\\ipykernel_14124\\3521568910.py:126: FutureWarning: The frame.append method is deprecated and will be removed from pandas in a future version. Use pandas.concat instead.\n",
      "  df = df.append(data, ignore_index=True)\n"
     ]
    },
    {
     "name": "stdout",
     "output_type": "stream",
     "text": [
      "Estimating the impact of COVID-19 on the world of work\n",
      " \n",
      " \n",
      "text_token :  1313\n",
      "Positive Score = 910\n",
      "Negative Score = 875\n",
      "\n"
     ]
    },
    {
     "name": "stderr",
     "output_type": "stream",
     "text": [
      "C:\\Users\\Pulkit Gaur\\AppData\\Local\\Temp\\ipykernel_14124\\3521568910.py:126: FutureWarning: The frame.append method is deprecated and will be removed from pandas in a future version. Use pandas.concat instead.\n",
      "  df = df.append(data, ignore_index=True)\n"
     ]
    },
    {
     "name": "stdout",
     "output_type": "stream",
     "text": [
      "Travel and Tourism Outlook\n",
      " \n",
      " \n",
      "text_token :  193\n",
      "Positive Score = 110\n",
      "Negative Score = 107\n",
      "\n"
     ]
    },
    {
     "name": "stderr",
     "output_type": "stream",
     "text": [
      "C:\\Users\\Pulkit Gaur\\AppData\\Local\\Temp\\ipykernel_14124\\3521568910.py:126: FutureWarning: The frame.append method is deprecated and will be removed from pandas in a future version. Use pandas.concat instead.\n",
      "  df = df.append(data, ignore_index=True)\n"
     ]
    },
    {
     "name": "stdout",
     "output_type": "stream",
     "text": [
      "Gaming Disorder and Effects of Gaming on Health.\n",
      " \n",
      " \n",
      "text_token :  1124\n",
      "Positive Score = 655\n",
      "Negative Score = 614\n",
      "\n"
     ]
    },
    {
     "name": "stderr",
     "output_type": "stream",
     "text": [
      "C:\\Users\\Pulkit Gaur\\AppData\\Local\\Temp\\ipykernel_14124\\3521568910.py:126: FutureWarning: The frame.append method is deprecated and will be removed from pandas in a future version. Use pandas.concat instead.\n",
      "  df = df.append(data, ignore_index=True)\n"
     ]
    },
    {
     "name": "stdout",
     "output_type": "stream",
     "text": [
      "What is the repercussion of the environment due to the COVID-19 pandemic situation?\n",
      " \n",
      " \n",
      "text_token :  633\n",
      "Positive Score = 410\n",
      "Negative Score = 385\n",
      "\n"
     ]
    },
    {
     "name": "stderr",
     "output_type": "stream",
     "text": [
      "C:\\Users\\Pulkit Gaur\\AppData\\Local\\Temp\\ipykernel_14124\\3521568910.py:126: FutureWarning: The frame.append method is deprecated and will be removed from pandas in a future version. Use pandas.concat instead.\n",
      "  df = df.append(data, ignore_index=True)\n"
     ]
    },
    {
     "name": "stdout",
     "output_type": "stream",
     "text": [
      "Due to the COVID-19 the repercussion of the environment\n",
      " \n",
      " \n",
      "text_token :  1126\n",
      "Positive Score = 687\n",
      "Negative Score = 635\n",
      "\n"
     ]
    },
    {
     "name": "stderr",
     "output_type": "stream",
     "text": [
      "C:\\Users\\Pulkit Gaur\\AppData\\Local\\Temp\\ipykernel_14124\\3521568910.py:126: FutureWarning: The frame.append method is deprecated and will be removed from pandas in a future version. Use pandas.concat instead.\n",
      "  df = df.append(data, ignore_index=True)\n"
     ]
    },
    {
     "name": "stdout",
     "output_type": "stream",
     "text": [
      "Impact of COVID-19 pandemic on office space and co-working industries.\n",
      " \n",
      " \n",
      "text_token :  1098\n",
      "Positive Score = 554\n",
      "Negative Score = 521\n",
      "\n"
     ]
    },
    {
     "name": "stderr",
     "output_type": "stream",
     "text": [
      "C:\\Users\\Pulkit Gaur\\AppData\\Local\\Temp\\ipykernel_14124\\3521568910.py:126: FutureWarning: The frame.append method is deprecated and will be removed from pandas in a future version. Use pandas.concat instead.\n",
      "  df = df.append(data, ignore_index=True)\n"
     ]
    },
    {
     "name": "stdout",
     "output_type": "stream",
     "text": [
      "Contribution of handicrafts (Visual Arts & Literature) in the Indian economy\n",
      " \n",
      " \n",
      "text_token :  389\n",
      "Positive Score = 264\n",
      "Negative Score = 262\n",
      "\n"
     ]
    },
    {
     "name": "stderr",
     "output_type": "stream",
     "text": [
      "C:\\Users\\Pulkit Gaur\\AppData\\Local\\Temp\\ipykernel_14124\\3521568910.py:126: FutureWarning: The frame.append method is deprecated and will be removed from pandas in a future version. Use pandas.concat instead.\n",
      "  df = df.append(data, ignore_index=True)\n"
     ]
    },
    {
     "name": "stdout",
     "output_type": "stream",
     "text": [
      "How COVID-19 is impacting payment preferences?\n",
      " \n",
      " \n",
      "text_token :  617\n",
      "Positive Score = 387\n",
      "Negative Score = 387\n",
      "\n"
     ]
    },
    {
     "name": "stderr",
     "output_type": "stream",
     "text": [
      "C:\\Users\\Pulkit Gaur\\AppData\\Local\\Temp\\ipykernel_14124\\3521568910.py:126: FutureWarning: The frame.append method is deprecated and will be removed from pandas in a future version. Use pandas.concat instead.\n",
      "  df = df.append(data, ignore_index=True)\n"
     ]
    },
    {
     "name": "stdout",
     "output_type": "stream",
     "text": [
      "How will COVID-19 affect the world of work?\n",
      " \n",
      " \n",
      "text_token :  1059\n",
      "Positive Score = 642\n",
      "Negative Score = 588\n",
      "\n"
     ]
    },
    {
     "name": "stderr",
     "output_type": "stream",
     "text": [
      "C:\\Users\\Pulkit Gaur\\AppData\\Local\\Temp\\ipykernel_14124\\3521568910.py:126: FutureWarning: The frame.append method is deprecated and will be removed from pandas in a future version. Use pandas.concat instead.\n",
      "  df = df.append(data, ignore_index=True)\n"
     ]
    },
    {
     "name": "stdout",
     "output_type": "stream",
     "text": [
      "Lessons from the past: Some key learnings relevant to the coronavirus crisis\n",
      " \n",
      " \n",
      "text_token :  732\n",
      "Positive Score = 371\n",
      "Negative Score = 349\n",
      "\n"
     ]
    },
    {
     "name": "stderr",
     "output_type": "stream",
     "text": [
      "C:\\Users\\Pulkit Gaur\\AppData\\Local\\Temp\\ipykernel_14124\\3521568910.py:126: FutureWarning: The frame.append method is deprecated and will be removed from pandas in a future version. Use pandas.concat instead.\n",
      "  df = df.append(data, ignore_index=True)\n"
     ]
    },
    {
     "name": "stdout",
     "output_type": "stream",
     "text": [
      "COVID-19: How have countries been responding?\n",
      " \n",
      " \n",
      "text_token :  1071\n",
      "Positive Score = 673\n",
      "Negative Score = 637\n",
      "\n"
     ]
    },
    {
     "name": "stderr",
     "output_type": "stream",
     "text": [
      "C:\\Users\\Pulkit Gaur\\AppData\\Local\\Temp\\ipykernel_14124\\3521568910.py:126: FutureWarning: The frame.append method is deprecated and will be removed from pandas in a future version. Use pandas.concat instead.\n",
      "  df = df.append(data, ignore_index=True)\n"
     ]
    },
    {
     "name": "stdout",
     "output_type": "stream",
     "text": [
      "How Coronavirus Impact on the Hospitality Industry\n",
      " \n",
      " \n",
      "text_token :  1035\n",
      "Positive Score = 593\n",
      "Negative Score = 562\n",
      "\n"
     ]
    },
    {
     "name": "stderr",
     "output_type": "stream",
     "text": [
      "C:\\Users\\Pulkit Gaur\\AppData\\Local\\Temp\\ipykernel_14124\\3521568910.py:126: FutureWarning: The frame.append method is deprecated and will be removed from pandas in a future version. Use pandas.concat instead.\n",
      "  df = df.append(data, ignore_index=True)\n"
     ]
    },
    {
     "name": "stdout",
     "output_type": "stream",
     "text": [
      "How will COVID-19 affect the world of work?\n",
      " \n",
      " \n",
      "text_token :  1035\n",
      "Positive Score = 639\n",
      "Negative Score = 593\n",
      "\n"
     ]
    },
    {
     "name": "stderr",
     "output_type": "stream",
     "text": [
      "C:\\Users\\Pulkit Gaur\\AppData\\Local\\Temp\\ipykernel_14124\\3521568910.py:126: FutureWarning: The frame.append method is deprecated and will be removed from pandas in a future version. Use pandas.concat instead.\n",
      "  df = df.append(data, ignore_index=True)\n"
     ]
    },
    {
     "name": "stdout",
     "output_type": "stream",
     "text": [
      "Coronavirus: Effect on the Hospitality Industry\n",
      " \n",
      " \n",
      "text_token :  1282\n",
      "Positive Score = 796\n",
      "Negative Score = 762\n",
      "\n"
     ]
    },
    {
     "name": "stderr",
     "output_type": "stream",
     "text": [
      "C:\\Users\\Pulkit Gaur\\AppData\\Local\\Temp\\ipykernel_14124\\3521568910.py:126: FutureWarning: The frame.append method is deprecated and will be removed from pandas in a future version. Use pandas.concat instead.\n",
      "  df = df.append(data, ignore_index=True)\n"
     ]
    },
    {
     "name": "stdout",
     "output_type": "stream",
     "text": [
      "Estimating the impact of COVID-19 on the world of work\n",
      " \n",
      " \n",
      "text_token :  1601\n",
      "Positive Score = 919\n",
      "Negative Score = 873\n",
      "\n"
     ]
    },
    {
     "name": "stderr",
     "output_type": "stream",
     "text": [
      "C:\\Users\\Pulkit Gaur\\AppData\\Local\\Temp\\ipykernel_14124\\3521568910.py:126: FutureWarning: The frame.append method is deprecated and will be removed from pandas in a future version. Use pandas.concat instead.\n",
      "  df = df.append(data, ignore_index=True)\n"
     ]
    },
    {
     "name": "stdout",
     "output_type": "stream",
     "text": [
      "COVID-19: How have countries been responding?\n",
      " \n",
      " \n",
      "text_token :  1848\n",
      "Positive Score = 1190\n",
      "Negative Score = 1145\n",
      "\n"
     ]
    },
    {
     "name": "stderr",
     "output_type": "stream",
     "text": [
      "C:\\Users\\Pulkit Gaur\\AppData\\Local\\Temp\\ipykernel_14124\\3521568910.py:126: FutureWarning: The frame.append method is deprecated and will be removed from pandas in a future version. Use pandas.concat instead.\n",
      "  df = df.append(data, ignore_index=True)\n"
     ]
    },
    {
     "name": "stdout",
     "output_type": "stream",
     "text": [
      "How will COVID-19 affect the world of work?\n",
      " \n",
      " \n",
      "text_token :  885\n",
      "Positive Score = 489\n",
      "Negative Score = 464\n",
      "\n"
     ]
    },
    {
     "name": "stderr",
     "output_type": "stream",
     "text": [
      "C:\\Users\\Pulkit Gaur\\AppData\\Local\\Temp\\ipykernel_14124\\3521568910.py:126: FutureWarning: The frame.append method is deprecated and will be removed from pandas in a future version. Use pandas.concat instead.\n",
      "  df = df.append(data, ignore_index=True)\n"
     ]
    },
    {
     "name": "stdout",
     "output_type": "stream",
     "text": [
      "Lessons from the past: Some key learnings relevant to the coronavirus crisis\n",
      " \n",
      " \n",
      "text_token :  1922\n",
      "Positive Score = 1186\n",
      "Negative Score = 1118\n",
      "\n"
     ]
    },
    {
     "name": "stderr",
     "output_type": "stream",
     "text": [
      "C:\\Users\\Pulkit Gaur\\AppData\\Local\\Temp\\ipykernel_14124\\3521568910.py:126: FutureWarning: The frame.append method is deprecated and will be removed from pandas in a future version. Use pandas.concat instead.\n",
      "  df = df.append(data, ignore_index=True)\n"
     ]
    },
    {
     "name": "stdout",
     "output_type": "stream",
     "text": [
      "Lessons from the past: Some key learnings relevant to the coronavirus crisis\n",
      " \n",
      " \n",
      "text_token :  1278\n",
      "Positive Score = 702\n",
      "Negative Score = 648\n",
      "\n"
     ]
    },
    {
     "name": "stderr",
     "output_type": "stream",
     "text": [
      "C:\\Users\\Pulkit Gaur\\AppData\\Local\\Temp\\ipykernel_14124\\3521568910.py:126: FutureWarning: The frame.append method is deprecated and will be removed from pandas in a future version. Use pandas.concat instead.\n",
      "  df = df.append(data, ignore_index=True)\n"
     ]
    },
    {
     "name": "stdout",
     "output_type": "stream",
     "text": [
      "Coronavirus: Impact on the Hospitality Industry\n",
      " \n",
      " \n",
      "text_token :  339\n",
      "Positive Score = 221\n",
      "Negative Score = 207\n",
      "\n"
     ]
    },
    {
     "name": "stderr",
     "output_type": "stream",
     "text": [
      "C:\\Users\\Pulkit Gaur\\AppData\\Local\\Temp\\ipykernel_14124\\3521568910.py:126: FutureWarning: The frame.append method is deprecated and will be removed from pandas in a future version. Use pandas.concat instead.\n",
      "  df = df.append(data, ignore_index=True)\n"
     ]
    },
    {
     "name": "stdout",
     "output_type": "stream",
     "text": [
      "Why scams like Nirav Modi Happen with Indian banks?\n",
      " \n",
      " \n",
      "text_token :  2164\n",
      "Positive Score = 1405\n",
      "Negative Score = 1319\n",
      "\n"
     ]
    },
    {
     "name": "stderr",
     "output_type": "stream",
     "text": [
      "C:\\Users\\Pulkit Gaur\\AppData\\Local\\Temp\\ipykernel_14124\\3521568910.py:126: FutureWarning: The frame.append method is deprecated and will be removed from pandas in a future version. Use pandas.concat instead.\n",
      "  df = df.append(data, ignore_index=True)\n"
     ]
    },
    {
     "name": "stdout",
     "output_type": "stream",
     "text": [
      "IMPACT OF COVID-19 ON THE GLOBAL ECONOMY\n",
      " \n",
      " \n",
      "text_token :  1628\n",
      "Positive Score = 821\n",
      "Negative Score = 761\n",
      "\n"
     ]
    },
    {
     "name": "stderr",
     "output_type": "stream",
     "text": [
      "C:\\Users\\Pulkit Gaur\\AppData\\Local\\Temp\\ipykernel_14124\\3521568910.py:126: FutureWarning: The frame.append method is deprecated and will be removed from pandas in a future version. Use pandas.concat instead.\n",
      "  df = df.append(data, ignore_index=True)\n"
     ]
    },
    {
     "name": "stdout",
     "output_type": "stream",
     "text": [
      "Impact of coronavirus on the Indian economy\n",
      " \n",
      " \n",
      "text_token :  1777\n",
      "Positive Score = 1089\n",
      "Negative Score = 1023\n",
      "\n"
     ]
    },
    {
     "name": "stderr",
     "output_type": "stream",
     "text": [
      "C:\\Users\\Pulkit Gaur\\AppData\\Local\\Temp\\ipykernel_14124\\3521568910.py:126: FutureWarning: The frame.append method is deprecated and will be removed from pandas in a future version. Use pandas.concat instead.\n",
      "  df = df.append(data, ignore_index=True)\n"
     ]
    },
    {
     "name": "stdout",
     "output_type": "stream",
     "text": [
      "Global Economy effected by Coronavirus\n",
      " \n",
      " \n",
      "text_token :  1829\n",
      "Positive Score = 1094\n",
      "Negative Score = 1011\n",
      "\n"
     ]
    },
    {
     "name": "stderr",
     "output_type": "stream",
     "text": [
      "C:\\Users\\Pulkit Gaur\\AppData\\Local\\Temp\\ipykernel_14124\\3521568910.py:126: FutureWarning: The frame.append method is deprecated and will be removed from pandas in a future version. Use pandas.concat instead.\n",
      "  df = df.append(data, ignore_index=True)\n"
     ]
    },
    {
     "name": "stdout",
     "output_type": "stream",
     "text": [
      "Impact of COVID-19 (Coronavirus) on the Indian Economy\n",
      " \n",
      " \n",
      "text_token :  1953\n",
      "Positive Score = 1264\n",
      "Negative Score = 1193\n",
      "\n"
     ]
    },
    {
     "name": "stderr",
     "output_type": "stream",
     "text": [
      "C:\\Users\\Pulkit Gaur\\AppData\\Local\\Temp\\ipykernel_14124\\3521568910.py:126: FutureWarning: The frame.append method is deprecated and will be removed from pandas in a future version. Use pandas.concat instead.\n",
      "  df = df.append(data, ignore_index=True)\n"
     ]
    },
    {
     "name": "stdout",
     "output_type": "stream",
     "text": [
      "Should celebrities be allowed to join politics?\n",
      " \n",
      " \n",
      "text_token :  1868\n",
      "Positive Score = 1072\n",
      "Negative Score = 1056\n",
      "\n"
     ]
    },
    {
     "name": "stderr",
     "output_type": "stream",
     "text": [
      "C:\\Users\\Pulkit Gaur\\AppData\\Local\\Temp\\ipykernel_14124\\3521568910.py:126: FutureWarning: The frame.append method is deprecated and will be removed from pandas in a future version. Use pandas.concat instead.\n",
      "  df = df.append(data, ignore_index=True)\n"
     ]
    },
    {
     "name": "stdout",
     "output_type": "stream",
     "text": [
      "How prepared is India to tackle a possible COVID-19 outbreak?\n",
      " \n",
      " \n",
      "text_token :  855\n",
      "Positive Score = 500\n",
      "Negative Score = 477\n",
      "\n"
     ]
    },
    {
     "name": "stderr",
     "output_type": "stream",
     "text": [
      "C:\\Users\\Pulkit Gaur\\AppData\\Local\\Temp\\ipykernel_14124\\3521568910.py:126: FutureWarning: The frame.append method is deprecated and will be removed from pandas in a future version. Use pandas.concat instead.\n",
      "  df = df.append(data, ignore_index=True)\n"
     ]
    },
    {
     "name": "stdout",
     "output_type": "stream",
     "text": [
      "How will COVID-19 affect the world of work?\n",
      " \n",
      " \n",
      "text_token :  1622\n",
      "Positive Score = 973\n",
      "Negative Score = 879\n",
      "\n"
     ]
    },
    {
     "name": "stderr",
     "output_type": "stream",
     "text": [
      "C:\\Users\\Pulkit Gaur\\AppData\\Local\\Temp\\ipykernel_14124\\3521568910.py:126: FutureWarning: The frame.append method is deprecated and will be removed from pandas in a future version. Use pandas.concat instead.\n",
      "  df = df.append(data, ignore_index=True)\n"
     ]
    },
    {
     "name": "stdout",
     "output_type": "stream",
     "text": [
      "Controversy as a Marketing Strategy\n",
      " \n",
      " \n",
      "text_token :  1004\n",
      "Positive Score = 570\n",
      "Negative Score = 528\n",
      "\n"
     ]
    },
    {
     "name": "stderr",
     "output_type": "stream",
     "text": [
      "C:\\Users\\Pulkit Gaur\\AppData\\Local\\Temp\\ipykernel_14124\\3521568910.py:126: FutureWarning: The frame.append method is deprecated and will be removed from pandas in a future version. Use pandas.concat instead.\n",
      "  df = df.append(data, ignore_index=True)\n"
     ]
    },
    {
     "name": "stdout",
     "output_type": "stream",
     "text": [
      "Coronavirus: Impact on the Hospitality Industry\n",
      " \n",
      " \n",
      "text_token :  685\n",
      "Positive Score = 466\n",
      "Negative Score = 444\n",
      "\n"
     ]
    },
    {
     "name": "stderr",
     "output_type": "stream",
     "text": [
      "C:\\Users\\Pulkit Gaur\\AppData\\Local\\Temp\\ipykernel_14124\\3521568910.py:126: FutureWarning: The frame.append method is deprecated and will be removed from pandas in a future version. Use pandas.concat instead.\n",
      "  df = df.append(data, ignore_index=True)\n"
     ]
    },
    {
     "name": "stdout",
     "output_type": "stream",
     "text": [
      "Coronavirus impact on energy markets\n",
      " \n",
      " \n",
      "text_token :  1695\n",
      "Positive Score = 1116\n",
      "Negative Score = 1054\n",
      "\n"
     ]
    },
    {
     "name": "stderr",
     "output_type": "stream",
     "text": [
      "C:\\Users\\Pulkit Gaur\\AppData\\Local\\Temp\\ipykernel_14124\\3521568910.py:126: FutureWarning: The frame.append method is deprecated and will be removed from pandas in a future version. Use pandas.concat instead.\n",
      "  df = df.append(data, ignore_index=True)\n"
     ]
    },
    {
     "name": "stdout",
     "output_type": "stream",
     "text": [
      "What are the key policies that will mitigate the impacts of COVID-19 on the world of work?\n",
      " \n",
      " \n",
      "text_token :  1774\n",
      "Positive Score = 1093\n",
      "Negative Score = 1063\n",
      "\n"
     ]
    },
    {
     "name": "stderr",
     "output_type": "stream",
     "text": [
      "C:\\Users\\Pulkit Gaur\\AppData\\Local\\Temp\\ipykernel_14124\\3521568910.py:126: FutureWarning: The frame.append method is deprecated and will be removed from pandas in a future version. Use pandas.concat instead.\n",
      "  df = df.append(data, ignore_index=True)\n"
     ]
    },
    {
     "name": "stdout",
     "output_type": "stream",
     "text": [
      "Marketing Drives Results With A Focus On Problems\n",
      " \n",
      " \n",
      "text_token :  1395\n",
      "Positive Score = 843\n",
      "Negative Score = 823\n",
      "\n"
     ]
    },
    {
     "name": "stderr",
     "output_type": "stream",
     "text": [
      "C:\\Users\\Pulkit Gaur\\AppData\\Local\\Temp\\ipykernel_14124\\3521568910.py:126: FutureWarning: The frame.append method is deprecated and will be removed from pandas in a future version. Use pandas.concat instead.\n",
      "  df = df.append(data, ignore_index=True)\n"
     ]
    },
    {
     "name": "stdout",
     "output_type": "stream",
     "text": [
      "Continued Demand for Sustainability\n",
      " \n",
      " \n",
      "text_token :  1009\n",
      "Positive Score = 644\n",
      "Negative Score = 614\n",
      "\n"
     ]
    },
    {
     "name": "stderr",
     "output_type": "stream",
     "text": [
      "C:\\Users\\Pulkit Gaur\\AppData\\Local\\Temp\\ipykernel_14124\\3521568910.py:126: FutureWarning: The frame.append method is deprecated and will be removed from pandas in a future version. Use pandas.concat instead.\n",
      "  df = df.append(data, ignore_index=True)\n"
     ]
    },
    {
     "name": "stdout",
     "output_type": "stream",
     "text": [
      "Coronavirus Disease (COVID-19) Effect: The Impact and Role of Mass Media During the Pandemic\n",
      " \n",
      " \n",
      "text_token :  360\n",
      "Positive Score = 226\n",
      "Negative Score = 212\n",
      "\n"
     ]
    },
    {
     "name": "stderr",
     "output_type": "stream",
     "text": [
      "C:\\Users\\Pulkit Gaur\\AppData\\Local\\Temp\\ipykernel_14124\\3521568910.py:126: FutureWarning: The frame.append method is deprecated and will be removed from pandas in a future version. Use pandas.concat instead.\n",
      "  df = df.append(data, ignore_index=True)\n"
     ]
    },
    {
     "name": "stdout",
     "output_type": "stream",
     "text": [
      "Should people wear fabric gloves? Seeking evidence regarding the differential transfer of COVID-19 (or coronaviruses generally) between surfaces?\n",
      " \n",
      " \n",
      "text_token :  330\n",
      "Positive Score = 186\n",
      "Negative Score = 179\n",
      "\n"
     ]
    },
    {
     "name": "stderr",
     "output_type": "stream",
     "text": [
      "C:\\Users\\Pulkit Gaur\\AppData\\Local\\Temp\\ipykernel_14124\\3521568910.py:126: FutureWarning: The frame.append method is deprecated and will be removed from pandas in a future version. Use pandas.concat instead.\n",
      "  df = df.append(data, ignore_index=True)\n"
     ]
    },
    {
     "name": "stdout",
     "output_type": "stream",
     "text": [
      "Why is there a severe immunological and inflammatory explosion in those affected by sarms covid-19?\n",
      " \n",
      " \n",
      "text_token :  394\n",
      "Positive Score = 198\n",
      "Negative Score = 184\n",
      "\n"
     ]
    },
    {
     "name": "stderr",
     "output_type": "stream",
     "text": [
      "C:\\Users\\Pulkit Gaur\\AppData\\Local\\Temp\\ipykernel_14124\\3521568910.py:126: FutureWarning: The frame.append method is deprecated and will be removed from pandas in a future version. Use pandas.concat instead.\n",
      "  df = df.append(data, ignore_index=True)\n"
     ]
    },
    {
     "name": "stdout",
     "output_type": "stream",
     "text": [
      "What do you think is the lesson (or lessons) to be learned with Covid 19?\n",
      " \n",
      " \n",
      "text_token :  227\n",
      "Positive Score = 139\n",
      "Negative Score = 131\n",
      "\n"
     ]
    },
    {
     "name": "stderr",
     "output_type": "stream",
     "text": [
      "C:\\Users\\Pulkit Gaur\\AppData\\Local\\Temp\\ipykernel_14124\\3521568910.py:126: FutureWarning: The frame.append method is deprecated and will be removed from pandas in a future version. Use pandas.concat instead.\n",
      "  df = df.append(data, ignore_index=True)\n"
     ]
    },
    {
     "name": "stdout",
     "output_type": "stream",
     "text": [
      "Coronavirus, the unexpected challenge for the European union\n",
      " \n",
      " \n",
      "text_token :  252\n",
      "Positive Score = 142\n",
      "Negative Score = 132\n",
      "\n"
     ]
    },
    {
     "name": "stderr",
     "output_type": "stream",
     "text": [
      "C:\\Users\\Pulkit Gaur\\AppData\\Local\\Temp\\ipykernel_14124\\3521568910.py:126: FutureWarning: The frame.append method is deprecated and will be removed from pandas in a future version. Use pandas.concat instead.\n",
      "  df = df.append(data, ignore_index=True)\n"
     ]
    },
    {
     "name": "stdout",
     "output_type": "stream",
     "text": [
      "INDUSTRIAL REVOLUTION 4.0 – PROS AND CONS\n",
      " \n",
      " \n",
      "text_token :  612\n",
      "Positive Score = 411\n",
      "Negative Score = 391\n",
      "\n"
     ]
    },
    {
     "name": "stderr",
     "output_type": "stream",
     "text": [
      "C:\\Users\\Pulkit Gaur\\AppData\\Local\\Temp\\ipykernel_14124\\3521568910.py:126: FutureWarning: The frame.append method is deprecated and will be removed from pandas in a future version. Use pandas.concat instead.\n",
      "  df = df.append(data, ignore_index=True)\n"
     ]
    },
    {
     "name": "stdout",
     "output_type": "stream",
     "text": [
      "COVID-19 Vs Indian Economy\n",
      " \n",
      " \n",
      "text_token :  1052\n",
      "Positive Score = 643\n",
      "Negative Score = 588\n",
      "\n"
     ]
    },
    {
     "name": "stderr",
     "output_type": "stream",
     "text": [
      "C:\\Users\\Pulkit Gaur\\AppData\\Local\\Temp\\ipykernel_14124\\3521568910.py:126: FutureWarning: The frame.append method is deprecated and will be removed from pandas in a future version. Use pandas.concat instead.\n",
      "  df = df.append(data, ignore_index=True)\n"
     ]
    },
    {
     "name": "stdout",
     "output_type": "stream",
     "text": [
      "Impact of COVID-19 (Coronavirus) on the Indian Economy\n",
      " \n",
      " \n",
      "text_token :  988\n",
      "Positive Score = 581\n",
      "Negative Score = 533\n",
      "\n"
     ]
    },
    {
     "name": "stderr",
     "output_type": "stream",
     "text": [
      "C:\\Users\\Pulkit Gaur\\AppData\\Local\\Temp\\ipykernel_14124\\3521568910.py:126: FutureWarning: The frame.append method is deprecated and will be removed from pandas in a future version. Use pandas.concat instead.\n",
      "  df = df.append(data, ignore_index=True)\n"
     ]
    },
    {
     "name": "stdout",
     "output_type": "stream",
     "text": [
      "Impact of Indian Economy due to COVID-19\n",
      " \n",
      " \n",
      "text_token :  1846\n",
      "Positive Score = 1108\n",
      "Negative Score = 1042\n",
      "\n"
     ]
    },
    {
     "name": "stderr",
     "output_type": "stream",
     "text": [
      "C:\\Users\\Pulkit Gaur\\AppData\\Local\\Temp\\ipykernel_14124\\3521568910.py:126: FutureWarning: The frame.append method is deprecated and will be removed from pandas in a future version. Use pandas.concat instead.\n",
      "  df = df.append(data, ignore_index=True)\n"
     ]
    },
    {
     "name": "stdout",
     "output_type": "stream",
     "text": [
      "Impact of newly discovered coronavirus on the Global Economy\n",
      " \n",
      " \n",
      "text_token :  618\n",
      "Positive Score = 369\n",
      "Negative Score = 344\n",
      "\n"
     ]
    },
    {
     "name": "stderr",
     "output_type": "stream",
     "text": [
      "C:\\Users\\Pulkit Gaur\\AppData\\Local\\Temp\\ipykernel_14124\\3521568910.py:126: FutureWarning: The frame.append method is deprecated and will be removed from pandas in a future version. Use pandas.concat instead.\n",
      "  df = df.append(data, ignore_index=True)\n"
     ]
    },
    {
     "name": "stdout",
     "output_type": "stream",
     "text": [
      "None\n",
      " \n",
      " \n",
      "text_token :  2\n",
      "Positive Score = 2\n",
      "Negative Score = 2\n",
      "\n"
     ]
    },
    {
     "name": "stderr",
     "output_type": "stream",
     "text": [
      "C:\\Users\\Pulkit Gaur\\AppData\\Local\\Temp\\ipykernel_14124\\3521568910.py:126: FutureWarning: The frame.append method is deprecated and will be removed from pandas in a future version. Use pandas.concat instead.\n",
      "  df = df.append(data, ignore_index=True)\n"
     ]
    },
    {
     "name": "stdout",
     "output_type": "stream",
     "text": [
      "Blockchain in Fintech\n",
      " \n",
      " \n",
      "text_token :  947\n",
      "Positive Score = 545\n",
      "Negative Score = 531\n",
      "\n"
     ]
    },
    {
     "name": "stderr",
     "output_type": "stream",
     "text": [
      "C:\\Users\\Pulkit Gaur\\AppData\\Local\\Temp\\ipykernel_14124\\3521568910.py:126: FutureWarning: The frame.append method is deprecated and will be removed from pandas in a future version. Use pandas.concat instead.\n",
      "  df = df.append(data, ignore_index=True)\n"
     ]
    },
    {
     "name": "stdout",
     "output_type": "stream",
     "text": [
      "Blockchain for Payments\n",
      " \n",
      " \n",
      "text_token :  925\n",
      "Positive Score = 582\n",
      "Negative Score = 557\n",
      "\n"
     ]
    },
    {
     "name": "stderr",
     "output_type": "stream",
     "text": [
      "C:\\Users\\Pulkit Gaur\\AppData\\Local\\Temp\\ipykernel_14124\\3521568910.py:126: FutureWarning: The frame.append method is deprecated and will be removed from pandas in a future version. Use pandas.concat instead.\n",
      "  df = df.append(data, ignore_index=True)\n"
     ]
    },
    {
     "name": "stdout",
     "output_type": "stream",
     "text": [
      "The future of Investing\n",
      " \n",
      " \n",
      "text_token :  1566\n",
      "Positive Score = 1014\n",
      "Negative Score = 1002\n",
      "\n"
     ]
    },
    {
     "name": "stderr",
     "output_type": "stream",
     "text": [
      "C:\\Users\\Pulkit Gaur\\AppData\\Local\\Temp\\ipykernel_14124\\3521568910.py:126: FutureWarning: The frame.append method is deprecated and will be removed from pandas in a future version. Use pandas.concat instead.\n",
      "  df = df.append(data, ignore_index=True)\n"
     ]
    },
    {
     "name": "stdout",
     "output_type": "stream",
     "text": [
      "Big Data Analytics in Healthcare\n",
      " \n",
      " \n",
      "text_token :  1177\n",
      "Positive Score = 727\n",
      "Negative Score = 685\n",
      "\n"
     ]
    },
    {
     "name": "stderr",
     "output_type": "stream",
     "text": [
      "C:\\Users\\Pulkit Gaur\\AppData\\Local\\Temp\\ipykernel_14124\\3521568910.py:126: FutureWarning: The frame.append method is deprecated and will be removed from pandas in a future version. Use pandas.concat instead.\n",
      "  df = df.append(data, ignore_index=True)\n"
     ]
    },
    {
     "name": "stdout",
     "output_type": "stream",
     "text": [
      "Business Analytics In The Healthcare Industry\n",
      " \n",
      " \n",
      "text_token :  723\n",
      "Positive Score = 447\n",
      "Negative Score = 444\n",
      "\n"
     ]
    },
    {
     "name": "stderr",
     "output_type": "stream",
     "text": [
      "C:\\Users\\Pulkit Gaur\\AppData\\Local\\Temp\\ipykernel_14124\\3521568910.py:126: FutureWarning: The frame.append method is deprecated and will be removed from pandas in a future version. Use pandas.concat instead.\n",
      "  df = df.append(data, ignore_index=True)\n"
     ]
    },
    {
     "name": "stdout",
     "output_type": "stream",
     "text": [
      "Challenges and Opportunities of Big Data in Healthcare\n",
      " \n",
      " \n",
      "text_token :  1046\n",
      "Positive Score = 629\n",
      "Negative Score = 591\n",
      "\n"
     ]
    },
    {
     "name": "stderr",
     "output_type": "stream",
     "text": [
      "C:\\Users\\Pulkit Gaur\\AppData\\Local\\Temp\\ipykernel_14124\\3521568910.py:126: FutureWarning: The frame.append method is deprecated and will be removed from pandas in a future version. Use pandas.concat instead.\n",
      "  df = df.append(data, ignore_index=True)\n"
     ]
    }
   ],
   "source": [
    "for link in dflinks.iterrows():\n",
    "    url = link[1]['URL']\n",
    "    urlid = link[1]['URL_ID']\n",
    "    req = requests.get(url, headers=headers)\n",
    "    soup = BeautifulSoup(req.content, 'html.parser')\n",
    "\n",
    "    try:\n",
    "        title = soup.find(\"h1\", class_=\"entry-title\")\n",
    "    except AttributeError:\n",
    "        pass\n",
    "    \n",
    "    \n",
    "    try:\n",
    "        title = title.text.replace(\"\\n\", \" \")\n",
    "    except AttributeError:\n",
    "        pass\n",
    "    \n",
    "    \n",
    "    print(title)\n",
    "\n",
    "\n",
    "    content=soup.findAll(attrs={'class':'td-post-content'})\n",
    "    \n",
    "    try:\n",
    "        content=content[0].text.replace('\\n',\" \")\n",
    "    except IndexError:\n",
    "        pass\n",
    "\n",
    "    \n",
    "    try:\n",
    "        content = content.translate(str.maketrans(\" \", \" \", string.punctuation))\n",
    "    except AttributeError:\n",
    "        pass\n",
    "\n",
    "    \n",
    "    try:\n",
    "        txttoken = word_tokenize(content)\n",
    "    except TypeError:\n",
    "        txttoken = word_tokenize(str(content))\n",
    "\n",
    "\n",
    "    print(' ')\n",
    "    print(' ')\n",
    "    print('text_token : ', len(txttoken))\n",
    "\n",
    "\n",
    "    corpus = stopwords.words('english')\n",
    "    corpus.append('the')\n",
    "    removtokenitems = [word for word in txttoken if not word in corpus] # Removes stop waords from the main word corpus\n",
    "\n",
    "    with open('MasterDictionary\\positive-words.txt', \"r\") as pos:      # opening the possitive text file and assigning variables \n",
    "        posw = pos.read().split('\\n')                 # Reading the file while removing the endcoding function \n",
    "        posw = posw[:50]\n",
    "\n",
    "    pos_count = \" \".join([w for w in removtokenitems if not w in posw]) # Adsd a space to each word what can be found in the possitive list of woard \n",
    "    pos_count = pos_count.split(\" \") # After cleaning the possitive words add a \" \" space between words to get them counted\n",
    "\n",
    "\n",
    "    Posiitive_score = len(pos_count) # Counting the number of words in the short listed corpus\n",
    "    print(r\"Positive Score = {}\".format(Posiitive_score))\n",
    "\n",
    "    with open(\"MasterDictionary/negative-words.txt\", 'r') as neg:\n",
    "        negw = neg.read().split('\\n')\n",
    "        negw = negw[5:]\n",
    "\n",
    "    neg_count = \" \".join([w for w in removtokenitems if not w in negw])\n",
    "    neg_count = neg_count.split(\" \")\n",
    "\n",
    "    Negative_Score = len(neg_count)\n",
    "    print(r\"Negative Score = {}\".format(Negative_Score))\n",
    "\n",
    "    filtcontent = \"\".join(removtokenitems)\n",
    "    try:\n",
    "        ASL = len(content.replace(' ', ''))/len(re.split(r'[?!.]', content)) # removing spaces and dividing the content with \"!, ?, .\"\n",
    "    except AttributeError:\n",
    "        len(str(content).replace(' ', ''))/len(re.split(r'[?!.]', str(content)))\n",
    "\n",
    "    try:\n",
    "        FOG_INDEX=(textstat.gunning_fog(content)) #  Usig Gunnig fox library for FOX index \n",
    "    except TypeError:\n",
    "        FOG_INDEX=(textstat.gunning_fog(str(content)))\n",
    "    try:\n",
    "        WPS = [len(l.split()) for l in re.split(r'[?!.]', content) if l.strip()] # With the same principle striping the sentence to count the words \n",
    "    except TypeError:\n",
    "        WPS = [len(l.split()) for l in re.split(r'[?!.]', str(content)) if l.strip()] # With the same principle striping the sentence to count the words \n",
    "\n",
    "\n",
    "    WPS = sum(WPS)/len(WPS)\n",
    "\n",
    "    try:\n",
    "        complex_words = vovel_counter(content)\n",
    "        word_count = len(content)\n",
    "        personal_pronoun = propernoun(content)\n",
    "        Avg_word_count = len(content.replace(\" \", \"\"))/len(content.split())\n",
    "    except AttributeError:\n",
    "        complex_words = vovel_counter(str(content))\n",
    "        word_count = len(str(content))\n",
    "        personal_pronoun = propernoun(str(content))\n",
    "        Avg_word_count = len(str(content).replace(\" \", \"\"))/len(str(content).split())\n",
    "\n",
    "\n",
    "    try:\n",
    "        word = content.replace(\" \", \"\")\n",
    "    except AttributeError:\n",
    "        word = str(content).replace(\" \", \"\")\n",
    "        \n",
    "    vovelcount = 0\n",
    "    for w in word: # count vovel if any of the vovel words were to be found in the content and add to the vovel count \n",
    "        if(w=='a' or w=='e' or w=='i' or w=='o' or w=='y' or w=='u' or w=='A' or w=='E' or w=='I' or w=='O' or w=='U' or w=='Y'):\n",
    "            vovelcount +=1\n",
    "\n",
    "    try:\n",
    "        vovelperword = vovelcount / len(content.split())\n",
    "    except AttributeError:\n",
    "        vovelperword = vovelcount / len(str(content).split())\n",
    "\n",
    "\n",
    "    data = [[str(urlid), url, content, Posiitive_score, Negative_Score, ASL, FOG_INDEX, WPS, complex_words, word_count, vovelperword, personal_pronoun, Avg_word_count]]  # Creating the list of items to be added to each columns and form a dataframe\n",
    "    data = pd.DataFrame(data, columns=['url_id', 'url','content', 'Posiitive_score', 'Negative_Score', 'AVG SENTENCE LENGTH', 'FOG INDEX', 'AVG NUMBER OF WORDS PER SENTENCE', 'COMPLEX WORD COUNT', 'WORD COUNT', 'SYLLABLE PER WORD', 'PERSONAL PRONOUNS',\t'AVG WORD LENGTH']) # Adding column names in the dataframe\n",
    "\n",
    "    print('')\n",
    "\n",
    "    # Adding Subjectivity & Polarity\n",
    "    data[[\"polarity\", \"subjectivity\"]] = data.apply(sentiment_analysis, axis=1) # Dumping the values of polarity and subjectivity to the values \n",
    "\n",
    "    df = df.append(data, ignore_index=True)\n",
    "    \n"
   ]
  },
  {
   "cell_type": "code",
   "execution_count": 42,
   "metadata": {},
   "outputs": [
    {
     "data": {
      "text/html": [
       "<div>\n",
       "<style scoped>\n",
       "    .dataframe tbody tr th:only-of-type {\n",
       "        vertical-align: middle;\n",
       "    }\n",
       "\n",
       "    .dataframe tbody tr th {\n",
       "        vertical-align: top;\n",
       "    }\n",
       "\n",
       "    .dataframe thead th {\n",
       "        text-align: right;\n",
       "    }\n",
       "</style>\n",
       "<table border=\"1\" class=\"dataframe\">\n",
       "  <thead>\n",
       "    <tr style=\"text-align: right;\">\n",
       "      <th></th>\n",
       "      <th>url_id</th>\n",
       "      <th>url</th>\n",
       "      <th>content</th>\n",
       "      <th>Posiitive_score</th>\n",
       "      <th>Negative_Score</th>\n",
       "      <th>AVG SENTENCE LENGTH</th>\n",
       "      <th>FOG INDEX</th>\n",
       "      <th>AVG NUMBER OF WORDS PER SENTENCE</th>\n",
       "      <th>COMPLEX WORD COUNT</th>\n",
       "      <th>WORD COUNT</th>\n",
       "      <th>SYLLABLE PER WORD</th>\n",
       "      <th>PERSONAL PRONOUNS</th>\n",
       "      <th>AVG WORD LENGTH</th>\n",
       "      <th>polarity</th>\n",
       "      <th>subjectivity</th>\n",
       "    </tr>\n",
       "  </thead>\n",
       "  <tbody>\n",
       "    <tr>\n",
       "      <th>0</th>\n",
       "      <td>150</td>\n",
       "      <td>https://insights.blackcoffer.com/challenges-an...</td>\n",
       "      <td>Big Data To begin with I shall first like to ...</td>\n",
       "      <td>629</td>\n",
       "      <td>591</td>\n",
       "      <td>5271.0</td>\n",
       "      <td>422.21</td>\n",
       "      <td>1045.0</td>\n",
       "      <td>1942</td>\n",
       "      <td>6319</td>\n",
       "      <td>2.03445</td>\n",
       "      <td>22</td>\n",
       "      <td>5.044019</td>\n",
       "      <td>0.124963</td>\n",
       "      <td>0.45902</td>\n",
       "    </tr>\n",
       "  </tbody>\n",
       "</table>\n",
       "</div>"
      ],
      "text/plain": [
       "  url_id                                                url  \\\n",
       "0    150  https://insights.blackcoffer.com/challenges-an...   \n",
       "\n",
       "                                             content  Posiitive_score  \\\n",
       "0   Big Data To begin with I shall first like to ...              629   \n",
       "\n",
       "   Negative_Score  AVG SENTENCE LENGTH  FOG INDEX  \\\n",
       "0             591               5271.0     422.21   \n",
       "\n",
       "   AVG NUMBER OF WORDS PER SENTENCE  COMPLEX WORD COUNT  WORD COUNT  \\\n",
       "0                            1045.0                1942        6319   \n",
       "\n",
       "   SYLLABLE PER WORD  PERSONAL PRONOUNS  AVG WORD LENGTH  polarity  \\\n",
       "0            2.03445                 22         5.044019  0.124963   \n",
       "\n",
       "   subjectivity  \n",
       "0       0.45902  "
      ]
     },
     "execution_count": 42,
     "metadata": {},
     "output_type": "execute_result"
    }
   ],
   "source": [
    "data"
   ]
  },
  {
   "cell_type": "code",
   "execution_count": 47,
   "metadata": {},
   "outputs": [],
   "source": [
    "df = df[['url_id', 'url','content', 'Posiitive_score', 'Negative_Score', 'polarity', 'subjectivity', 'AVG SENTENCE LENGTH', 'FOG INDEX', 'AVG NUMBER OF WORDS PER SENTENCE', 'COMPLEX WORD COUNT', 'WORD COUNT', 'SYLLABLE PER WORD', 'PERSONAL PRONOUNS',\t'AVG WORD LENGTH']]"
   ]
  },
  {
   "cell_type": "code",
   "execution_count": 48,
   "metadata": {},
   "outputs": [
    {
     "data": {
      "text/html": [
       "<div>\n",
       "<style scoped>\n",
       "    .dataframe tbody tr th:only-of-type {\n",
       "        vertical-align: middle;\n",
       "    }\n",
       "\n",
       "    .dataframe tbody tr th {\n",
       "        vertical-align: top;\n",
       "    }\n",
       "\n",
       "    .dataframe thead th {\n",
       "        text-align: right;\n",
       "    }\n",
       "</style>\n",
       "<table border=\"1\" class=\"dataframe\">\n",
       "  <thead>\n",
       "    <tr style=\"text-align: right;\">\n",
       "      <th></th>\n",
       "      <th>url_id</th>\n",
       "      <th>url</th>\n",
       "      <th>content</th>\n",
       "      <th>Posiitive_score</th>\n",
       "      <th>Negative_Score</th>\n",
       "      <th>polarity</th>\n",
       "      <th>subjectivity</th>\n",
       "      <th>AVG SENTENCE LENGTH</th>\n",
       "      <th>FOG INDEX</th>\n",
       "      <th>AVG NUMBER OF WORDS PER SENTENCE</th>\n",
       "      <th>COMPLEX WORD COUNT</th>\n",
       "      <th>WORD COUNT</th>\n",
       "      <th>SYLLABLE PER WORD</th>\n",
       "      <th>PERSONAL PRONOUNS</th>\n",
       "      <th>AVG WORD LENGTH</th>\n",
       "    </tr>\n",
       "  </thead>\n",
       "  <tbody>\n",
       "    <tr>\n",
       "      <th>0</th>\n",
       "      <td>37</td>\n",
       "      <td>https://insights.blackcoffer.com/ai-in-healthc...</td>\n",
       "      <td>Introduction “If anything kills over 10 milli...</td>\n",
       "      <td>1193</td>\n",
       "      <td>1166</td>\n",
       "      <td>0.136936</td>\n",
       "      <td>0.463364</td>\n",
       "      <td>10162.0</td>\n",
       "      <td>721.92</td>\n",
       "      <td>1790.0</td>\n",
       "      <td>3579</td>\n",
       "      <td>11955</td>\n",
       "      <td>2.248045</td>\n",
       "      <td>22</td>\n",
       "      <td>5.677095</td>\n",
       "    </tr>\n",
       "    <tr>\n",
       "      <th>1</th>\n",
       "      <td>38</td>\n",
       "      <td>https://insights.blackcoffer.com/what-if-the-c...</td>\n",
       "      <td>Human minds a fascination in itself carrying ...</td>\n",
       "      <td>818</td>\n",
       "      <td>783</td>\n",
       "      <td>0.074693</td>\n",
       "      <td>0.433596</td>\n",
       "      <td>6861.0</td>\n",
       "      <td>567.40</td>\n",
       "      <td>1409.0</td>\n",
       "      <td>2424</td>\n",
       "      <td>8275</td>\n",
       "      <td>1.948900</td>\n",
       "      <td>51</td>\n",
       "      <td>4.869411</td>\n",
       "    </tr>\n",
       "    <tr>\n",
       "      <th>2</th>\n",
       "      <td>39</td>\n",
       "      <td>https://insights.blackcoffer.com/what-jobs-wil...</td>\n",
       "      <td>Introduction AI is rapidly evolving in the em...</td>\n",
       "      <td>1059</td>\n",
       "      <td>1028</td>\n",
       "      <td>0.111470</td>\n",
       "      <td>0.483201</td>\n",
       "      <td>9220.0</td>\n",
       "      <td>684.87</td>\n",
       "      <td>1700.0</td>\n",
       "      <td>3340</td>\n",
       "      <td>10922</td>\n",
       "      <td>2.187647</td>\n",
       "      <td>28</td>\n",
       "      <td>5.423529</td>\n",
       "    </tr>\n",
       "    <tr>\n",
       "      <th>3</th>\n",
       "      <td>40</td>\n",
       "      <td>https://insights.blackcoffer.com/will-machine-...</td>\n",
       "      <td>“Anything that could give rise to smarterthan...</td>\n",
       "      <td>989</td>\n",
       "      <td>965</td>\n",
       "      <td>0.141419</td>\n",
       "      <td>0.487387</td>\n",
       "      <td>8061.0</td>\n",
       "      <td>660.88</td>\n",
       "      <td>1650.0</td>\n",
       "      <td>2877</td>\n",
       "      <td>9715</td>\n",
       "      <td>1.951515</td>\n",
       "      <td>49</td>\n",
       "      <td>4.885455</td>\n",
       "    </tr>\n",
       "    <tr>\n",
       "      <th>4</th>\n",
       "      <td>41</td>\n",
       "      <td>https://insights.blackcoffer.com/will-ai-repla...</td>\n",
       "      <td>“Machine intelligence is the last invention t...</td>\n",
       "      <td>1067</td>\n",
       "      <td>1042</td>\n",
       "      <td>0.053178</td>\n",
       "      <td>0.509139</td>\n",
       "      <td>8927.0</td>\n",
       "      <td>699.95</td>\n",
       "      <td>1739.0</td>\n",
       "      <td>3134</td>\n",
       "      <td>10671</td>\n",
       "      <td>2.015526</td>\n",
       "      <td>53</td>\n",
       "      <td>5.133410</td>\n",
       "    </tr>\n",
       "    <tr>\n",
       "      <th>...</th>\n",
       "      <td>...</td>\n",
       "      <td>...</td>\n",
       "      <td>...</td>\n",
       "      <td>...</td>\n",
       "      <td>...</td>\n",
       "      <td>...</td>\n",
       "      <td>...</td>\n",
       "      <td>...</td>\n",
       "      <td>...</td>\n",
       "      <td>...</td>\n",
       "      <td>...</td>\n",
       "      <td>...</td>\n",
       "      <td>...</td>\n",
       "      <td>...</td>\n",
       "      <td>...</td>\n",
       "    </tr>\n",
       "    <tr>\n",
       "      <th>107</th>\n",
       "      <td>146</td>\n",
       "      <td>https://insights.blackcoffer.com/blockchain-fo...</td>\n",
       "      <td>Reconciling with the financial realities of a...</td>\n",
       "      <td>582</td>\n",
       "      <td>557</td>\n",
       "      <td>0.035488</td>\n",
       "      <td>0.402814</td>\n",
       "      <td>4895.0</td>\n",
       "      <td>369.76</td>\n",
       "      <td>911.0</td>\n",
       "      <td>1697</td>\n",
       "      <td>5807</td>\n",
       "      <td>2.109769</td>\n",
       "      <td>23</td>\n",
       "      <td>5.373216</td>\n",
       "    </tr>\n",
       "    <tr>\n",
       "      <th>108</th>\n",
       "      <td>147</td>\n",
       "      <td>https://insights.blackcoffer.com/the-future-of...</td>\n",
       "      <td>What Is an Investment An investment is a reso...</td>\n",
       "      <td>1014</td>\n",
       "      <td>1002</td>\n",
       "      <td>0.074727</td>\n",
       "      <td>0.389435</td>\n",
       "      <td>7979.0</td>\n",
       "      <td>620.72</td>\n",
       "      <td>1550.0</td>\n",
       "      <td>2777</td>\n",
       "      <td>9546</td>\n",
       "      <td>2.042581</td>\n",
       "      <td>24</td>\n",
       "      <td>5.147742</td>\n",
       "    </tr>\n",
       "    <tr>\n",
       "      <th>109</th>\n",
       "      <td>148</td>\n",
       "      <td>https://insights.blackcoffer.com/big-data-anal...</td>\n",
       "      <td>Quality and affordable healthcare is a vision...</td>\n",
       "      <td>727</td>\n",
       "      <td>685</td>\n",
       "      <td>0.040319</td>\n",
       "      <td>0.417892</td>\n",
       "      <td>5903.0</td>\n",
       "      <td>465.90</td>\n",
       "      <td>1155.0</td>\n",
       "      <td>2147</td>\n",
       "      <td>7071</td>\n",
       "      <td>2.069264</td>\n",
       "      <td>14</td>\n",
       "      <td>5.110823</td>\n",
       "    </tr>\n",
       "    <tr>\n",
       "      <th>110</th>\n",
       "      <td>149</td>\n",
       "      <td>https://insights.blackcoffer.com/business-anal...</td>\n",
       "      <td>Analytics is a statistical scientific process...</td>\n",
       "      <td>447</td>\n",
       "      <td>444</td>\n",
       "      <td>0.208748</td>\n",
       "      <td>0.546448</td>\n",
       "      <td>4105.0</td>\n",
       "      <td>291.93</td>\n",
       "      <td>715.0</td>\n",
       "      <td>1461</td>\n",
       "      <td>4816</td>\n",
       "      <td>2.281119</td>\n",
       "      <td>9</td>\n",
       "      <td>5.741259</td>\n",
       "    </tr>\n",
       "    <tr>\n",
       "      <th>111</th>\n",
       "      <td>150</td>\n",
       "      <td>https://insights.blackcoffer.com/challenges-an...</td>\n",
       "      <td>Big Data To begin with I shall first like to ...</td>\n",
       "      <td>629</td>\n",
       "      <td>591</td>\n",
       "      <td>0.124963</td>\n",
       "      <td>0.459020</td>\n",
       "      <td>5271.0</td>\n",
       "      <td>422.21</td>\n",
       "      <td>1045.0</td>\n",
       "      <td>1942</td>\n",
       "      <td>6319</td>\n",
       "      <td>2.034450</td>\n",
       "      <td>22</td>\n",
       "      <td>5.044019</td>\n",
       "    </tr>\n",
       "  </tbody>\n",
       "</table>\n",
       "<p>112 rows × 15 columns</p>\n",
       "</div>"
      ],
      "text/plain": [
       "    url_id                                                url  \\\n",
       "0       37  https://insights.blackcoffer.com/ai-in-healthc...   \n",
       "1       38  https://insights.blackcoffer.com/what-if-the-c...   \n",
       "2       39  https://insights.blackcoffer.com/what-jobs-wil...   \n",
       "3       40  https://insights.blackcoffer.com/will-machine-...   \n",
       "4       41  https://insights.blackcoffer.com/will-ai-repla...   \n",
       "..     ...                                                ...   \n",
       "107    146  https://insights.blackcoffer.com/blockchain-fo...   \n",
       "108    147  https://insights.blackcoffer.com/the-future-of...   \n",
       "109    148  https://insights.blackcoffer.com/big-data-anal...   \n",
       "110    149  https://insights.blackcoffer.com/business-anal...   \n",
       "111    150  https://insights.blackcoffer.com/challenges-an...   \n",
       "\n",
       "                                               content Posiitive_score  \\\n",
       "0     Introduction “If anything kills over 10 milli...            1193   \n",
       "1     Human minds a fascination in itself carrying ...             818   \n",
       "2     Introduction AI is rapidly evolving in the em...            1059   \n",
       "3     “Anything that could give rise to smarterthan...             989   \n",
       "4     “Machine intelligence is the last invention t...            1067   \n",
       "..                                                 ...             ...   \n",
       "107   Reconciling with the financial realities of a...             582   \n",
       "108   What Is an Investment An investment is a reso...            1014   \n",
       "109   Quality and affordable healthcare is a vision...             727   \n",
       "110   Analytics is a statistical scientific process...             447   \n",
       "111   Big Data To begin with I shall first like to ...             629   \n",
       "\n",
       "    Negative_Score  polarity  subjectivity  AVG SENTENCE LENGTH  FOG INDEX  \\\n",
       "0             1166  0.136936      0.463364              10162.0     721.92   \n",
       "1              783  0.074693      0.433596               6861.0     567.40   \n",
       "2             1028  0.111470      0.483201               9220.0     684.87   \n",
       "3              965  0.141419      0.487387               8061.0     660.88   \n",
       "4             1042  0.053178      0.509139               8927.0     699.95   \n",
       "..             ...       ...           ...                  ...        ...   \n",
       "107            557  0.035488      0.402814               4895.0     369.76   \n",
       "108           1002  0.074727      0.389435               7979.0     620.72   \n",
       "109            685  0.040319      0.417892               5903.0     465.90   \n",
       "110            444  0.208748      0.546448               4105.0     291.93   \n",
       "111            591  0.124963      0.459020               5271.0     422.21   \n",
       "\n",
       "     AVG NUMBER OF WORDS PER SENTENCE COMPLEX WORD COUNT WORD COUNT  \\\n",
       "0                              1790.0               3579      11955   \n",
       "1                              1409.0               2424       8275   \n",
       "2                              1700.0               3340      10922   \n",
       "3                              1650.0               2877       9715   \n",
       "4                              1739.0               3134      10671   \n",
       "..                                ...                ...        ...   \n",
       "107                             911.0               1697       5807   \n",
       "108                            1550.0               2777       9546   \n",
       "109                            1155.0               2147       7071   \n",
       "110                             715.0               1461       4816   \n",
       "111                            1045.0               1942       6319   \n",
       "\n",
       "     SYLLABLE PER WORD PERSONAL PRONOUNS  AVG WORD LENGTH  \n",
       "0             2.248045                22         5.677095  \n",
       "1             1.948900                51         4.869411  \n",
       "2             2.187647                28         5.423529  \n",
       "3             1.951515                49         4.885455  \n",
       "4             2.015526                53         5.133410  \n",
       "..                 ...               ...              ...  \n",
       "107           2.109769                23         5.373216  \n",
       "108           2.042581                24         5.147742  \n",
       "109           2.069264                14         5.110823  \n",
       "110           2.281119                 9         5.741259  \n",
       "111           2.034450                22         5.044019  \n",
       "\n",
       "[112 rows x 15 columns]"
      ]
     },
     "execution_count": 48,
     "metadata": {},
     "output_type": "execute_result"
    }
   ],
   "source": [
    "df"
   ]
  },
  {
   "cell_type": "code",
   "execution_count": 49,
   "metadata": {},
   "outputs": [],
   "source": [
    "df.to_excel('Final_output.xlsx', index=False)"
   ]
  }
 ],
 "metadata": {
  "kernelspec": {
   "display_name": "base",
   "language": "python",
   "name": "python3"
  },
  "language_info": {
   "codemirror_mode": {
    "name": "ipython",
    "version": 3
   },
   "file_extension": ".py",
   "mimetype": "text/x-python",
   "name": "python",
   "nbconvert_exporter": "python",
   "pygments_lexer": "ipython3",
   "version": "3.9.13 (main, Aug 25 2022, 23:51:50) [MSC v.1916 64 bit (AMD64)]"
  },
  "orig_nbformat": 4,
  "vscode": {
   "interpreter": {
    "hash": "222503059a9fce71b3d1f2ed8424839cf9fcd0e973d4d3c5eaa3a6a4b88e8170"
   }
  }
 },
 "nbformat": 4,
 "nbformat_minor": 2
}
