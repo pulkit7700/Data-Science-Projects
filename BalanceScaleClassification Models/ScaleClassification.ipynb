{
 "cells": [
  {
   "cell_type": "code",
   "execution_count": 1,
   "metadata": {},
   "outputs": [],
   "source": [
    "import numpy as np\n",
    "import pandas as pd\n",
    "import matplotlib.pyplot as plt \n",
    "import seaborn as sns"
   ]
  },
  {
   "cell_type": "code",
   "execution_count": 2,
   "metadata": {},
   "outputs": [],
   "source": [
    "df = pd.read_csv(\"Data.csv\")"
   ]
  },
  {
   "cell_type": "code",
   "execution_count": 3,
   "metadata": {},
   "outputs": [
    {
     "data": {
      "text/html": [
       "<div>\n",
       "<style scoped>\n",
       "    .dataframe tbody tr th:only-of-type {\n",
       "        vertical-align: middle;\n",
       "    }\n",
       "\n",
       "    .dataframe tbody tr th {\n",
       "        vertical-align: top;\n",
       "    }\n",
       "\n",
       "    .dataframe thead th {\n",
       "        text-align: right;\n",
       "    }\n",
       "</style>\n",
       "<table border=\"1\" class=\"dataframe\">\n",
       "  <thead>\n",
       "    <tr style=\"text-align: right;\">\n",
       "      <th></th>\n",
       "      <th>LEFT-WEIGHT</th>\n",
       "      <th>LEFT_DISTANCE</th>\n",
       "      <th>RIGHT_WEIGHT</th>\n",
       "      <th>RIGHT_DISTANCE</th>\n",
       "      <th>CLASS_NAME</th>\n",
       "    </tr>\n",
       "  </thead>\n",
       "  <tbody>\n",
       "    <tr>\n",
       "      <th>0</th>\n",
       "      <td>1</td>\n",
       "      <td>1</td>\n",
       "      <td>1</td>\n",
       "      <td>1</td>\n",
       "      <td>B</td>\n",
       "    </tr>\n",
       "    <tr>\n",
       "      <th>1</th>\n",
       "      <td>1</td>\n",
       "      <td>1</td>\n",
       "      <td>1</td>\n",
       "      <td>2</td>\n",
       "      <td>R</td>\n",
       "    </tr>\n",
       "    <tr>\n",
       "      <th>2</th>\n",
       "      <td>1</td>\n",
       "      <td>1</td>\n",
       "      <td>1</td>\n",
       "      <td>3</td>\n",
       "      <td>R</td>\n",
       "    </tr>\n",
       "    <tr>\n",
       "      <th>3</th>\n",
       "      <td>1</td>\n",
       "      <td>1</td>\n",
       "      <td>1</td>\n",
       "      <td>4</td>\n",
       "      <td>R</td>\n",
       "    </tr>\n",
       "    <tr>\n",
       "      <th>4</th>\n",
       "      <td>1</td>\n",
       "      <td>1</td>\n",
       "      <td>1</td>\n",
       "      <td>5</td>\n",
       "      <td>R</td>\n",
       "    </tr>\n",
       "    <tr>\n",
       "      <th>...</th>\n",
       "      <td>...</td>\n",
       "      <td>...</td>\n",
       "      <td>...</td>\n",
       "      <td>...</td>\n",
       "      <td>...</td>\n",
       "    </tr>\n",
       "    <tr>\n",
       "      <th>620</th>\n",
       "      <td>5</td>\n",
       "      <td>5</td>\n",
       "      <td>5</td>\n",
       "      <td>1</td>\n",
       "      <td>L</td>\n",
       "    </tr>\n",
       "    <tr>\n",
       "      <th>621</th>\n",
       "      <td>5</td>\n",
       "      <td>5</td>\n",
       "      <td>5</td>\n",
       "      <td>2</td>\n",
       "      <td>L</td>\n",
       "    </tr>\n",
       "    <tr>\n",
       "      <th>622</th>\n",
       "      <td>5</td>\n",
       "      <td>5</td>\n",
       "      <td>5</td>\n",
       "      <td>3</td>\n",
       "      <td>L</td>\n",
       "    </tr>\n",
       "    <tr>\n",
       "      <th>623</th>\n",
       "      <td>5</td>\n",
       "      <td>5</td>\n",
       "      <td>5</td>\n",
       "      <td>4</td>\n",
       "      <td>L</td>\n",
       "    </tr>\n",
       "    <tr>\n",
       "      <th>624</th>\n",
       "      <td>5</td>\n",
       "      <td>5</td>\n",
       "      <td>5</td>\n",
       "      <td>5</td>\n",
       "      <td>B</td>\n",
       "    </tr>\n",
       "  </tbody>\n",
       "</table>\n",
       "<p>625 rows × 5 columns</p>\n",
       "</div>"
      ],
      "text/plain": [
       "     LEFT-WEIGHT  LEFT_DISTANCE  RIGHT_WEIGHT  RIGHT_DISTANCE CLASS_NAME\n",
       "0              1              1             1               1          B\n",
       "1              1              1             1               2          R\n",
       "2              1              1             1               3          R\n",
       "3              1              1             1               4          R\n",
       "4              1              1             1               5          R\n",
       "..           ...            ...           ...             ...        ...\n",
       "620            5              5             5               1          L\n",
       "621            5              5             5               2          L\n",
       "622            5              5             5               3          L\n",
       "623            5              5             5               4          L\n",
       "624            5              5             5               5          B\n",
       "\n",
       "[625 rows x 5 columns]"
      ]
     },
     "execution_count": 3,
     "metadata": {},
     "output_type": "execute_result"
    }
   ],
   "source": [
    "df"
   ]
  },
  {
   "cell_type": "code",
   "execution_count": 15,
   "metadata": {},
   "outputs": [
    {
     "data": {
      "text/plain": [
       "<matplotlib.axes._subplots.AxesSubplot at 0x1d70df37820>"
      ]
     },
     "execution_count": 15,
     "metadata": {},
     "output_type": "execute_result"
    },
    {
     "data": {
      "image/png": "[encoded data removed]",
      "text/plain": [
       "<Figure size 432x288 with 1 Axes>"
      ]
     },
     "metadata": {
      "needs_background": "light"
     },
     "output_type": "display_data"
    }
   ],
   "source": [
    "sns.countplot(df[\"CLASS_NAME\"], data=df)"
   ]
  },
  {
   "cell_type": "code",
   "execution_count": 4,
   "metadata": {},
   "outputs": [],
   "source": [
    "x = df.iloc[:, :-1].values\n",
    "y = df.iloc[:, -1].values"
   ]
  },
  {
   "cell_type": "code",
   "execution_count": 7,
   "metadata": {},
   "outputs": [],
   "source": [
    "from sklearn.model_selection import train_test_split\n",
    "x_train, x_test, y_train, y_test = train_test_split(x, y, test_size=0.2, random_state=0)"
   ]
  },
  {
   "cell_type": "code",
   "execution_count": 10,
   "metadata": {},
   "outputs": [],
   "source": [
    "from sklearn.preprocessing import LabelEncoder, StandardScaler\n",
    "sc = StandardScaler()\n",
    "le = LabelEncoder()\n",
    "x_train = sc.fit_transform(x_train)\n",
    "x_test = sc.fit_transform(x_test)\n",
    "y_train = le.fit_transform(y_train)\n",
    "y_test = le.fit_transform(y_test)"
   ]
  },
  {
   "cell_type": "code",
   "execution_count": 29,
   "metadata": {},
   "outputs": [],
   "source": [
    "def models(X_train, Y_train):\n",
    "\n",
    "    # Using Logistic Regression\n",
    "    from sklearn.linear_model import LogisticRegression\n",
    "    log = LogisticRegression(random_state=0)\n",
    "    log.fit(X_train, Y_train)\n",
    "\n",
    "    # Using KNeighborsClassifier\n",
    "    from sklearn.neighbors import KNeighborsClassifier\n",
    "    knn = KNeighborsClassifier(n_neighbors=5, metric='minkowski', p=2)\n",
    "    knn.fit(X_train, Y_train)\n",
    "\n",
    "    # Using SVC linear\n",
    "    from sklearn.svm import SVC\n",
    "    svc_lin = SVC(kernel='linear', probability=True ,random_state=0)\n",
    "    svc_lin.fit(X_train, Y_train)\n",
    "\n",
    "    # Using SVC rbf\n",
    "    from sklearn.svm import SVC\n",
    "    svc_rbf = SVC(kernel='rbf', probability=True, random_state=0)\n",
    "    svc_rbf.fit(X_train, Y_train)\n",
    "\n",
    "    # Using GaussianNB\n",
    "    from sklearn.naive_bayes import GaussianNB\n",
    "    gauss = GaussianNB()\n",
    "    gauss.fit(X_train, Y_train)\n",
    "\n",
    "    # Using DecisionTreeClassifier\n",
    "    from sklearn.tree import DecisionTreeClassifier\n",
    "    tree = DecisionTreeClassifier(criterion='entropy', random_state=0)\n",
    "    tree.fit(X_train, Y_train)\n",
    "\n",
    "    # Using RandomForestClassifier method of ensemble class to use Random Forest Classification algorithm\n",
    "    from sklearn.ensemble import RandomForestClassifier\n",
    "    forest = RandomForestClassifier(\n",
    "        n_estimators=10, criterion='entropy', random_state=0)\n",
    "    forest.fit(X_train, Y_train)\n",
    "\n",
    "    # print model accuracy on the training data.\n",
    "    print('[0]Logistic Regression Training Accuracy:',\n",
    "          log.score(X_train, Y_train))\n",
    "    print('[1]K Nearest Neighbor Training Accuracy:',\n",
    "          knn.score(X_train, Y_train))\n",
    "    print('[2]Support Vector Machine (Linear Classifier) Training Accuracy:',\n",
    "          svc_lin.score(X_train, Y_train))\n",
    "    print('[3]Support Vector Machine (RBF Classifier) Training Accuracy:',\n",
    "          svc_rbf.score(X_train, Y_train))\n",
    "    print('[4]Gaussian Naive Bayes Training Accuracy:',\n",
    "          gauss.score(X_train, Y_train))\n",
    "    print('[5]Decision Tree Classifier Training Accuracy:',\n",
    "          tree.score(X_train, Y_train))\n",
    "    print('[6]Random Forest Classifier Training Accuracy:',\n",
    "          forest.score(X_train, Y_train))\n",
    "\n",
    "    return log, knn, svc_lin, svc_rbf, gauss, tree, forest"
   ]
  },
  {
   "cell_type": "code",
   "execution_count": 30,
   "metadata": {},
   "outputs": [
    {
     "name": "stdout",
     "output_type": "stream",
     "text": [
      "[0]Logistic Regression Training Accuracy: 0.862\n",
      "[1]K Nearest Neighbor Training Accuracy: 0.858\n",
      "[2]Support Vector Machine (Linear Classifier) Training Accuracy: 0.916\n",
      "[3]Support Vector Machine (RBF Classifier) Training Accuracy: 0.914\n",
      "[4]Gaussian Naive Bayes Training Accuracy: 0.892\n",
      "[5]Decision Tree Classifier Training Accuracy: 1.0\n",
      "[6]Random Forest Classifier Training Accuracy: 0.994\n"
     ]
    }
   ],
   "source": [
    "model = models(x_train, y_train)"
   ]
  },
  {
   "cell_type": "code",
   "execution_count": 31,
   "metadata": {},
   "outputs": [],
   "source": [
    "from sklearn.model_selection import cross_val_score\n",
    "\n",
    "def scores(X_train, y_train):\n",
    "    from sklearn.linear_model import LogisticRegression\n",
    "    log = LogisticRegression()\n",
    "    log_scores =  cross_val_score(log, X_train, y_train, cv=10)\n",
    "    \n",
    "    from sklearn.neighbors import KNeighborsClassifier\n",
    "    knn = KNeighborsClassifier()\n",
    "    knn_scores = cross_val_score(knn, X_train, y_train, cv=10)\n",
    "\n",
    "\n",
    "    from sklearn.svm import SVC\n",
    "    svm_lin = SVC(kernel=\"linear\")\n",
    "    svm_lin_scores = cross_val_score(svm_lin, X_train, y_train, cv=10)\n",
    "\n",
    "    from sklearn.svm import SVC\n",
    "    svm_rbf = SVC(kernel='rbf')\n",
    "    svm_rbf_scores = cross_val_score(svm_rbf, X_train, y_train, cv=10)\n",
    "\n",
    "    from sklearn.naive_bayes import GaussianNB\n",
    "    gauss = KNeighborsClassifier()\n",
    "    gauss_scores = cross_val_score(gauss, X_train, y_train, cv=10)\n",
    "\n",
    "    from sklearn.tree import DecisionTreeClassifier\n",
    "    tree = DecisionTreeClassifier()\n",
    "    tree_scores = cross_val_score(tree, X_train, y_train, cv=10)\n",
    "\n",
    "    from sklearn.ensemble import RandomForestClassifier\n",
    "    forest= RandomForestClassifier()\n",
    "    forest_scores = cross_val_score(forest, X_train, y_train, cv=10)\n",
    "\n",
    "    print('[0]Logistic Regression Training Scores:', log_scores.mean())\n",
    "    print('[1]K Nearest Neighbor Training Scores:', knn_scores.mean())\n",
    "    print('[2]Support Vector Machine (Linear Classifier) Training Scores:', svm_lin_scores.mean())\n",
    "    print('[3]Support Vector Machine (RBF Classifier) Training Scores:', svm_rbf_scores.mean())\n",
    "    print('[4]Gaussian Naive Bayes Training Scores:', gauss_scores.mean())\n",
    "    print('[5]Decision Tree Classifier Training Scores:', tree_scores.mean())\n",
    "    print('[6]Random Forest Classifier Training Scores:', forest_scores.mean())\n",
    "  \n",
    "    return log_scores, knn_scores, svm_lin_scores, svm_rbf_scores, gauss_scores, tree_scores, forest_scores\n"
   ]
  },
  {
   "cell_type": "code",
   "execution_count": 32,
   "metadata": {},
   "outputs": [
    {
     "name": "stdout",
     "output_type": "stream",
     "text": [
      "[0]Logistic Regression Training Scores: 0.8540000000000001\n",
      "[1]K Nearest Neighbor Training Scores: 0.808\n",
      "[2]Support Vector Machine (Linear Classifier) Training Scores: 0.916\n",
      "[3]Support Vector Machine (RBF Classifier) Training Scores: 0.882\n",
      "[4]Gaussian Naive Bayes Training Scores: 0.808\n",
      "[5]Decision Tree Classifier Training Scores: 0.7859999999999999\n",
      "[6]Random Forest Classifier Training Scores: 0.8119999999999999\n"
     ]
    }
   ],
   "source": [
    "score = scores(x_train, y_train)"
   ]
  },
  {
   "cell_type": "code",
   "execution_count": 33,
   "metadata": {},
   "outputs": [
    {
     "data": {
      "image/png": "[encoded data removed]",
      "text/plain": [
       "<Figure size 576x288 with 1 Axes>"
      ]
     },
     "metadata": {
      "needs_background": "light"
     },
     "output_type": "display_data"
    }
   ],
   "source": [
    "plt.figure(figsize=(8, 4))\n",
    "plt.plot([0]*10, score[0], \".\")\n",
    "plt.plot([1]*10, score[1], \".\")\n",
    "plt.plot([2]*10, score[2], \".\")\n",
    "plt.plot([3]*10, score[3], \".\")\n",
    "plt.plot([4]*10, score[4], \".\")\n",
    "plt.plot([5]*10, score[5], \".\")\n",
    "plt.plot([6]*10, score[6], \".\")\n",
    "plt.boxplot([score[0], score[1], score[2],score[3],score[4],score[5],score[6]], labels=(\"logistic\", \"Kneighbors\",\"SVM_L\",\"SVM_L\",\"GNB\",\"DTC\",\"Random Forest\"))\n",
    "plt.ylabel(\"Accuracy\", fontsize=14)\n",
    "plt.show()"
   ]
  },
  {
   "cell_type": "code",
   "execution_count": 34,
   "metadata": {},
   "outputs": [
    {
     "name": "stdout",
     "output_type": "stream",
     "text": [
      "[[ 0  0  4]\n",
      " [ 0 64  6]\n",
      " [ 0  1 50]]\n",
      "Model[0] Testing Accuracy = \"1.0!\"\n",
      "\n",
      "[[ 0  0  4]\n",
      " [ 8 60  2]\n",
      " [ 3  1 47]]\n",
      "Model[1] Testing Accuracy = \"0.8823529411764706!\"\n",
      "\n",
      "[[ 3  0  1]\n",
      " [ 5 64  1]\n",
      " [ 2  1 48]]\n",
      "Model[2] Testing Accuracy = \"0.9305555555555556!\"\n",
      "\n",
      "[[ 0  0  4]\n",
      " [ 1 68  1]\n",
      " [ 0  0 51]]\n",
      "Model[3] Testing Accuracy = \"0.9855072463768116!\"\n",
      "\n",
      "[[ 0  0  4]\n",
      " [ 0 65  5]\n",
      " [ 0  1 50]]\n",
      "Model[4] Testing Accuracy = \"1.0!\"\n",
      "\n",
      "[[ 0  1  3]\n",
      " [10 56  4]\n",
      " [ 8  0 43]]\n",
      "Model[5] Testing Accuracy = \"0.835820895522388!\"\n",
      "\n",
      "[[ 0  0  4]\n",
      " [ 6 61  3]\n",
      " [ 5  1 45]]\n",
      "Model[6] Testing Accuracy = \"0.9104477611940298!\"\n",
      "\n"
     ]
    }
   ],
   "source": [
    "from sklearn.metrics import confusion_matrix\n",
    "for i in range(len(model)):\n",
    "  cm = confusion_matrix(y_test, model[i].predict(x_test))\n",
    "  \n",
    "  TN = cm[0][0]\n",
    "  TP = cm[1][1]\n",
    "  FN = cm[1][0]\n",
    "  FP = cm[0][1]\n",
    "  \n",
    "  print(cm)\n",
    "  print('Model[{}] Testing Accuracy = \"{}!\"'.format(i,  (TP + TN) / (TP + TN + FN + FP)))\n",
    "  print()"
   ]
  },
  {
   "cell_type": "code",
   "execution_count": 35,
   "metadata": {},
   "outputs": [
    {
     "name": "stdout",
     "output_type": "stream",
     "text": [
      "Model  0\n",
      "              precision    recall  f1-score   support\n",
      "\n",
      "           0       0.00      0.00      0.00         4\n",
      "           1       0.98      0.91      0.95        70\n",
      "           2       0.83      0.98      0.90        51\n",
      "\n",
      "    accuracy                           0.91       125\n",
      "   macro avg       0.61      0.63      0.62       125\n",
      "weighted avg       0.89      0.91      0.90       125\n",
      "\n",
      "0.912\n",
      "\n",
      "Model  1\n",
      "              precision    recall  f1-score   support\n",
      "\n",
      "           0       0.00      0.00      0.00         4\n",
      "           1       0.98      0.86      0.92        70\n",
      "           2       0.89      0.92      0.90        51\n",
      "\n",
      "    accuracy                           0.86       125\n",
      "   macro avg       0.62      0.59      0.61       125\n",
      "weighted avg       0.91      0.86      0.88       125\n",
      "\n",
      "0.856\n",
      "\n",
      "Model  2\n",
      "              precision    recall  f1-score   support\n",
      "\n",
      "           0       0.30      0.75      0.43         4\n",
      "           1       0.98      0.91      0.95        70\n",
      "           2       0.96      0.94      0.95        51\n",
      "\n",
      "    accuracy                           0.92       125\n",
      "   macro avg       0.75      0.87      0.78       125\n",
      "weighted avg       0.95      0.92      0.93       125\n",
      "\n",
      "0.92\n",
      "\n",
      "Model  3\n",
      "              precision    recall  f1-score   support\n",
      "\n",
      "           0       0.00      0.00      0.00         4\n",
      "           1       1.00      0.97      0.99        70\n",
      "           2       0.91      1.00      0.95        51\n",
      "\n",
      "    accuracy                           0.95       125\n",
      "   macro avg       0.64      0.66      0.65       125\n",
      "weighted avg       0.93      0.95      0.94       125\n",
      "\n",
      "0.952\n",
      "\n",
      "Model  4\n",
      "              precision    recall  f1-score   support\n",
      "\n",
      "           0       0.00      0.00      0.00         4\n",
      "           1       0.98      0.93      0.96        70\n",
      "           2       0.85      0.98      0.91        51\n",
      "\n",
      "    accuracy                           0.92       125\n",
      "   macro avg       0.61      0.64      0.62       125\n",
      "weighted avg       0.90      0.92      0.91       125\n",
      "\n",
      "0.92\n",
      "\n",
      "Model  5\n",
      "              precision    recall  f1-score   support\n",
      "\n",
      "           0       0.00      0.00      0.00         4\n",
      "           1       0.98      0.80      0.88        70\n",
      "           2       0.86      0.84      0.85        51\n",
      "\n",
      "    accuracy                           0.79       125\n",
      "   macro avg       0.61      0.55      0.58       125\n",
      "weighted avg       0.90      0.79      0.84       125\n",
      "\n",
      "0.792\n",
      "\n",
      "Model  6\n",
      "              precision    recall  f1-score   support\n",
      "\n",
      "           0       0.00      0.00      0.00         4\n",
      "           1       0.98      0.87      0.92        70\n",
      "           2       0.87      0.88      0.87        51\n",
      "\n",
      "    accuracy                           0.85       125\n",
      "   macro avg       0.62      0.58      0.60       125\n",
      "weighted avg       0.90      0.85      0.87       125\n",
      "\n",
      "0.848\n",
      "\n"
     ]
    },
    {
     "name": "stderr",
     "output_type": "stream",
     "text": [
      "C:\\Users\\lenovo\\anaconda3\\lib\\site-packages\\sklearn\\metrics\\_classification.py:1221: UndefinedMetricWarning: Precision and F-score are ill-defined and being set to 0.0 in labels with no predicted samples. Use `zero_division` parameter to control this behavior.\n",
      "  _warn_prf(average, modifier, msg_start, len(result))\n",
      "C:\\Users\\lenovo\\anaconda3\\lib\\site-packages\\sklearn\\metrics\\_classification.py:1221: UndefinedMetricWarning: Precision and F-score are ill-defined and being set to 0.0 in labels with no predicted samples. Use `zero_division` parameter to control this behavior.\n",
      "  _warn_prf(average, modifier, msg_start, len(result))\n"
     ]
    }
   ],
   "source": [
    "from sklearn.metrics import classification_report\n",
    "from sklearn.metrics import accuracy_score\n",
    "\n",
    "for i in range(len(model)):\n",
    "  print('Model ',i)\n",
    "  #Check precision, recall, f1-score\n",
    "  print( classification_report(y_test, model[i].predict(x_test)) )\n",
    "  #Another way to get the models accuracy on the test data\n",
    "  print( accuracy_score(y_test, model[i].predict(x_test)))\n",
    "  print()"
   ]
  },
  {
   "cell_type": "code",
   "execution_count": 36,
   "metadata": {},
   "outputs": [],
   "source": [
    "y_pred = model[3].predict(x_test)"
   ]
  },
  {
   "cell_type": "code",
   "execution_count": 44,
   "metadata": {},
   "outputs": [
    {
     "data": {
      "text/plain": [
       "array([[ 0,  0,  4],\n",
       "       [ 1, 68,  1],\n",
       "       [ 0,  0, 51]], dtype=int64)"
      ]
     },
     "execution_count": 44,
     "metadata": {},
     "output_type": "execute_result"
    }
   ],
   "source": [
    "cm2 = confusion_matrix(y_test, y_pred)\n",
    "cm2"
   ]
  },
  {
   "cell_type": "markdown",
   "metadata": {},
   "source": [
    "# Creating DataFrames for results \n",
    "\n"
   ]
  },
  {
   "cell_type": "code",
   "execution_count": 37,
   "metadata": {},
   "outputs": [],
   "source": [
    "y_pred1 = y_pred.reshape(-1, 1)\n",
    "y_test1 = y_test.reshape(-1, 1)"
   ]
  },
  {
   "cell_type": "code",
   "execution_count": 38,
   "metadata": {},
   "outputs": [
    {
     "data": {
      "text/html": [
       "<div>\n",
       "<style scoped>\n",
       "    .dataframe tbody tr th:only-of-type {\n",
       "        vertical-align: middle;\n",
       "    }\n",
       "\n",
       "    .dataframe tbody tr th {\n",
       "        vertical-align: top;\n",
       "    }\n",
       "\n",
       "    .dataframe thead th {\n",
       "        text-align: right;\n",
       "    }\n",
       "</style>\n",
       "<table border=\"1\" class=\"dataframe\">\n",
       "  <thead>\n",
       "    <tr style=\"text-align: right;\">\n",
       "      <th></th>\n",
       "      <th>Predicted</th>\n",
       "      <th>Actual</th>\n",
       "    </tr>\n",
       "  </thead>\n",
       "  <tbody>\n",
       "    <tr>\n",
       "      <th>0</th>\n",
       "      <td>1</td>\n",
       "      <td>1</td>\n",
       "    </tr>\n",
       "    <tr>\n",
       "      <th>1</th>\n",
       "      <td>2</td>\n",
       "      <td>2</td>\n",
       "    </tr>\n",
       "    <tr>\n",
       "      <th>2</th>\n",
       "      <td>1</td>\n",
       "      <td>1</td>\n",
       "    </tr>\n",
       "    <tr>\n",
       "      <th>3</th>\n",
       "      <td>2</td>\n",
       "      <td>2</td>\n",
       "    </tr>\n",
       "    <tr>\n",
       "      <th>4</th>\n",
       "      <td>1</td>\n",
       "      <td>1</td>\n",
       "    </tr>\n",
       "    <tr>\n",
       "      <th>...</th>\n",
       "      <td>...</td>\n",
       "      <td>...</td>\n",
       "    </tr>\n",
       "    <tr>\n",
       "      <th>120</th>\n",
       "      <td>1</td>\n",
       "      <td>1</td>\n",
       "    </tr>\n",
       "    <tr>\n",
       "      <th>121</th>\n",
       "      <td>2</td>\n",
       "      <td>2</td>\n",
       "    </tr>\n",
       "    <tr>\n",
       "      <th>122</th>\n",
       "      <td>1</td>\n",
       "      <td>1</td>\n",
       "    </tr>\n",
       "    <tr>\n",
       "      <th>123</th>\n",
       "      <td>1</td>\n",
       "      <td>1</td>\n",
       "    </tr>\n",
       "    <tr>\n",
       "      <th>124</th>\n",
       "      <td>2</td>\n",
       "      <td>2</td>\n",
       "    </tr>\n",
       "  </tbody>\n",
       "</table>\n",
       "<p>125 rows × 2 columns</p>\n",
       "</div>"
      ],
      "text/plain": [
       "     Predicted  Actual\n",
       "0            1       1\n",
       "1            2       2\n",
       "2            1       1\n",
       "3            2       2\n",
       "4            1       1\n",
       "..         ...     ...\n",
       "120          1       1\n",
       "121          2       2\n",
       "122          1       1\n",
       "123          1       1\n",
       "124          2       2\n",
       "\n",
       "[125 rows x 2 columns]"
      ]
     },
     "execution_count": 38,
     "metadata": {},
     "output_type": "execute_result"
    }
   ],
   "source": [
    "# Putting the predicted and test in the same numpy array\n",
    "Collection = np.concatenate((y_pred1.reshape(len(y_pred1),1), y_test1.reshape(len(y_test1),1)),1)\n",
    "View = pd.DataFrame(Collection, columns=[\"Predicted\", \"Actual\"])\n",
    "View"
   ]
  },
  {
   "cell_type": "markdown",
   "metadata": {},
   "source": [
    "# Actual values\n"
   ]
  },
  {
   "cell_type": "code",
   "execution_count": 42,
   "metadata": {},
   "outputs": [
    {
     "data": {
      "text/html": [
       "<div>\n",
       "<style scoped>\n",
       "    .dataframe tbody tr th:only-of-type {\n",
       "        vertical-align: middle;\n",
       "    }\n",
       "\n",
       "    .dataframe tbody tr th {\n",
       "        vertical-align: top;\n",
       "    }\n",
       "\n",
       "    .dataframe thead th {\n",
       "        text-align: right;\n",
       "    }\n",
       "</style>\n",
       "<table border=\"1\" class=\"dataframe\">\n",
       "  <thead>\n",
       "    <tr style=\"text-align: right;\">\n",
       "      <th></th>\n",
       "      <th>Predicted</th>\n",
       "      <th>Actual</th>\n",
       "    </tr>\n",
       "  </thead>\n",
       "  <tbody>\n",
       "    <tr>\n",
       "      <th>0</th>\n",
       "      <td>L</td>\n",
       "      <td>L</td>\n",
       "    </tr>\n",
       "    <tr>\n",
       "      <th>1</th>\n",
       "      <td>R</td>\n",
       "      <td>R</td>\n",
       "    </tr>\n",
       "    <tr>\n",
       "      <th>2</th>\n",
       "      <td>L</td>\n",
       "      <td>L</td>\n",
       "    </tr>\n",
       "    <tr>\n",
       "      <th>3</th>\n",
       "      <td>R</td>\n",
       "      <td>R</td>\n",
       "    </tr>\n",
       "    <tr>\n",
       "      <th>4</th>\n",
       "      <td>L</td>\n",
       "      <td>L</td>\n",
       "    </tr>\n",
       "    <tr>\n",
       "      <th>...</th>\n",
       "      <td>...</td>\n",
       "      <td>...</td>\n",
       "    </tr>\n",
       "    <tr>\n",
       "      <th>120</th>\n",
       "      <td>L</td>\n",
       "      <td>L</td>\n",
       "    </tr>\n",
       "    <tr>\n",
       "      <th>121</th>\n",
       "      <td>R</td>\n",
       "      <td>R</td>\n",
       "    </tr>\n",
       "    <tr>\n",
       "      <th>122</th>\n",
       "      <td>L</td>\n",
       "      <td>L</td>\n",
       "    </tr>\n",
       "    <tr>\n",
       "      <th>123</th>\n",
       "      <td>L</td>\n",
       "      <td>L</td>\n",
       "    </tr>\n",
       "    <tr>\n",
       "      <th>124</th>\n",
       "      <td>R</td>\n",
       "      <td>R</td>\n",
       "    </tr>\n",
       "  </tbody>\n",
       "</table>\n",
       "<p>125 rows × 2 columns</p>\n",
       "</div>"
      ],
      "text/plain": [
       "    Predicted Actual\n",
       "0           L      L\n",
       "1           R      R\n",
       "2           L      L\n",
       "3           R      R\n",
       "4           L      L\n",
       "..        ...    ...\n",
       "120         L      L\n",
       "121         R      R\n",
       "122         L      L\n",
       "123         L      L\n",
       "124         R      R\n",
       "\n",
       "[125 rows x 2 columns]"
      ]
     },
     "execution_count": 42,
     "metadata": {},
     "output_type": "execute_result"
    }
   ],
   "source": [
    "Test1 = le.inverse_transform(y_pred1)\n",
    "Test2 = le.inverse_transform(y_test1)\n",
    "Collection2 = np.concatenate((Test1.reshape(len(Test1),1), Test2.reshape(len(Test2),1)),1)\n",
    "View2 = pd.DataFrame(Collection2, columns=[\"Predicted\", \"Actual\"])\n",
    "View2"
   ]
  },
  {
   "cell_type": "markdown",
   "metadata": {},
   "source": [
    "# Cumulative Frequncy Curve"
   ]
  },
  {
   "cell_type": "code",
   "execution_count": 43,
   "metadata": {},
   "outputs": [
    {
     "data": {
      "text/plain": [
       "<matplotlib.legend.Legend at 0x1d70f3b5190>"
      ]
     },
     "execution_count": 43,
     "metadata": {},
     "output_type": "execute_result"
    },
    {
     "data": {
      "image/png": "[encoded data removed]",
      "text/plain": [
       "<Figure size 1440x864 with 1 Axes>"
      ]
     },
     "metadata": {
      "needs_background": "light"
     },
     "output_type": "display_data"
    }
   ],
   "source": [
    "# Cumulative Frequency  Curve \n",
    "\n",
    "total =  len(y_test)\n",
    "count_1 = np.sum(y_test)\n",
    "count_0 = total - count_1\n",
    "plt.figure(figsize=(20,12))\n",
    "\n",
    "probs = model[3].predict_proba(x_test)\n",
    "probs = probs[:, 1]\n",
    "model_y = [y for _, y in sorted(zip(probs, y_test), reverse = True)]\n",
    "y_values = np.append([0], np.cumsum(model_y))\n",
    "x_values = np.arange(0, total + 1)\n",
    "\n",
    "plt.plot([0, total], [0, count_1], c = 'r', linestyle = '--', label = 'Random Model')\n",
    "\n",
    "plt.plot([0, count_1, total], \n",
    "         [0, count_1, count_1], \n",
    "         c = 'grey', \n",
    "         linewidth = 2, \n",
    "         label = 'Perfect Model')\n",
    "\n",
    "plt.plot(x_values, \n",
    "         y_values, \n",
    "         c = 'b', \n",
    "         label = 'Support Vector Classifier', \n",
    "         linewidth = 4)\n",
    "\n",
    "# Plot information\n",
    "plt.xlabel('Total observations', fontsize = 16)\n",
    "plt.ylabel('Class 1 observations', fontsize = 16)\n",
    "plt.title('Cumulative Accuracy Profile', fontsize = 16)\n",
    "plt.legend(loc = 'lower right', fontsize = 16)"
   ]
  },
  {
   "cell_type": "markdown",
   "metadata": {},
   "source": [
    "# Finished"
   ]
  }
 ],
 "metadata": {
  "interpreter": {
   "hash": "948d73eb6dfda2e804d788ca8e9f193cc8a7762f6fd3fe59d9c3fe882d54f9f4"
  },
  "kernelspec": {
   "display_name": "Python 3.8.3 64-bit ('base': conda)",
   "name": "python3"
  },
  "language_info": {
   "codemirror_mode": {
    "name": "ipython",
    "version": 3
   },
   "file_extension": ".py",
   "mimetype": "text/x-python",
   "name": "python",
   "nbconvert_exporter": "python",
   "pygments_lexer": "ipython3",
   "version": "3.8.3"
  },
  "orig_nbformat": 4
 },
 "nbformat": 4,
 "nbformat_minor": 2
}
